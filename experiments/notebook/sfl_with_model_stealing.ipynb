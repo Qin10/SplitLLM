{
 "cells": [
  {
   "cell_type": "markdown",
   "source": [
    "## Step 1. 加载模型与Tokenizer"
   ],
   "metadata": {
    "collapsed": false,
    "pycharm": {
     "name": "#%% md\n"
    }
   }
  },
  {
   "cell_type": "code",
   "execution_count": 1,
   "outputs": [],
   "source": [
    "\n",
    "\n",
    "import os\n",
    "import sys\n",
    "\n",
    "sys.path.append(os.path.abspath('../../..'))
\n",
    "from sfl.utils.model import get_best_gpu\n",
    "from sfl.utils.exp import get_model_and_tokenizer\n",
    "device = get_best_gpu()\n",
    "model, tokenizer = get_model_and_tokenizer('gpt2-large')"
   ],
   "metadata": {
    "collapsed": false,
    "pycharm": {
     "name": "#%%\n"
    }
   }
  },
  {
   "cell_type": "code",
   "execution_count": 2,
   "outputs": [
    {
     "data": {
      "text/plain": "'To mix food coloring with sugar, you can use the following:\\n\\n1 1/2 cups powdered sugar (or 1 cup granulated sugar plus 1 teaspoon of cornstarch mixed with 3/4 cup water)\\n\\n\\n2 tablespoons corn starch (also known as corn syrup) or other sweetener (such as xylitol or stevia, or a combination of the two, such as erythritol and sorbitol) (Note: If you are using a food processor, be sure to use a fine-mesh strainer to remove all the solids from the mixture before you add it to the processor.)\\n...\\nThe mixture will be very thick, so you may need to add a little more water to thin it out a bit. If it is too thick for your liking, just add more sugar and mix it again. You may also want to try mixing it with a small amount of water or milk to make it easier to work with. The mixture should be thick enough to coat the back of a spoon, but not so thick that it would be difficult to pour into a piping bag. It should also not be too runny that you would have to strain it through a sieve or cheesecloth to get the desired consistency.\\nIn a large bowl, mix together the powdered and sweeteners until well-combined. Add the milk and stir to combine. Pour the batter into the greased and floured 9-inch springform pan. Bake at 350°F for 30-35 minutes or until a toothpick inserted in the center comes out clean. Allow to cool completely before frosting or decorating.'"
     },
     "execution_count": 2,
     "metadata": {},
     "output_type": "execute_result"
    }
   ],
   "source": [
    "from sfl.utils.model import generate\n",
    "\n",
    "model.to(device)\n",
    "# 测试模型输出\n",
    "text = \"To mix food coloring with sugar, you can\"\n",
    "generate(text, tokenizer, model)"
   ],
   "metadata": {
    "collapsed": false,
    "pycharm": {
     "name": "#%%\n"
    }
   }
  },
  {
   "cell_type": "markdown",
   "source": [
    "## Step2 配置SFL参数，切分模型"
   ],
   "metadata": {
    "collapsed": false,
    "pycharm": {
     "name": "#%% md\n"
    }
   }
  },
  {
   "cell_type": "code",
   "execution_count": 3,
   "outputs": [],
   "source": [
    "from sfl.utils.args import FLConfig\n",
    "config = FLConfig(collect_intermediates=True,\n",
    "                  global_round=4,\n",
    "                  client_evaluate_freq=25,\n",
    "                  client_epoch=1,  # 每轮联邦每个Client训2轮\n",
    "                  split_point_1=6,\n",
    "                  split_point_2=30,  # [0,1 | 2,3,.... 29| 30, 31]\n",
    "                  use_lora_at_trunk=True,  # 在trunk部分使用LoRA\n",
    "                  top_and_bottom_from_scratch='False',  # top和bottom都不采用预训练参数.\n",
    "                  noise_mode=\"none\",\n",
    "                  noise_scale=0.0,  # 噪声大小,\n",
    "                  batch_size=2,\n",
    "                  dataset_type='train'\n",
    "                  )\n",
    "\n",
    "model.config_sfl(config)"
   ],
   "metadata": {
    "collapsed": false,
    "pycharm": {
     "name": "#%%\n"
    }
   }
  },
  {
   "cell_type": "markdown",
   "source": [
    "## Step 3. 加载数据集"
   ],
   "metadata": {
    "collapsed": false,
    "pycharm": {
     "name": "#%% md\n"
    }
   }
  },
  {
   "cell_type": "code",
   "execution_count": 4,
   "outputs": [],
   "source": [
    "\n",
    "\n",
    "from sfl.utils.exp import get_dataset_class\n",
    "\n",
    "client_ids = [str(i) for i in range(3)]\n",
    "dataset_cls = get_dataset_class('piqa')\n",
    "fed_dataset = dataset_cls(tokenizer=tokenizer, client_ids=client_ids, shrink_frac=0.04)\n",
    "test_dataset = dataset_cls(tokenizer=tokenizer, client_ids=[])\n",
    "test_loader = test_dataset.get_dataloader_unsliced(1, 'test', shrink_frac=0.01)"
   ],
   "metadata": {
    "collapsed": false,
    "pycharm": {
     "name": "#%%\n"
    }
   }
  },
  {
   "cell_type": "markdown",
   "source": [
    "## Step 4. 加载攻击模型"
   ],
   "metadata": {
    "collapsed": false,
    "pycharm": {
     "name": "#%% md\n"
    }
   }
  },
  {
   "cell_type": "code",
   "execution_count": 5,
   "outputs": [],
   "source": [
    "from sfl.utils.exp import get_dra_attacker, get_dlg_attacker\n",
    "from sfl.config import DRAConfig\n",
    "\n",
    "# DRA模型\n",
    "dra_config = DRAConfig(target_model_name='gpt2-large', target_sps='6-30', b2tr_sp=6, tr2t_sp=6, target_dataset='piqa')\n",
    "attacker, attacker2 = get_dra_attacker(dra_config)\n",
    "\n",
    "# TAG模型\n",
    "tag_attacker = get_dlg_attacker(model)"
   ],
   "metadata": {
    "collapsed": false,
    "pycharm": {
     "name": "#%%\n"
    }
   }
  },
  {
   "cell_type": "markdown",
   "source": [
    "## Step 5. 设置联邦切分训练流程"
   ],
   "metadata": {
    "collapsed": false,
    "pycharm": {
     "name": "#%% md\n"
    }
   },
   "outputs": [
    {
     "name": "stdout",
     "output_type": "stream",
     "text": [
      "torch.Size([2, 97])\n",
      "tensor([[[0., 0., 0.,  ..., 0., 0., 0.],\n",
      "         [0., 0., 0.,  ..., 0., 0., 0.],\n",
      "         [0., 0., 0.,  ..., 0., 0., 0.],\n",
      "         ...,\n",
      "         [0., 0., 0.,  ..., 0., 0., 0.],\n",
      "         [0., 0., 0.,  ..., 0., 0., 0.],\n",
      "         [0., 0., 0.,  ..., 0., 0., 0.]],\n",
      "\n",
      "        [[0., 0., 0.,  ..., 0., 0., 0.],\n",
      "         [0., 0., 0.,  ..., 0., 0., 0.],\n",
      "         [0., 0., 0.,  ..., 0., 0., 0.],\n",
      "         ...,\n",
      "         [0., 0., 0.,  ..., 0., 0., 0.],\n",
      "         [0., 0., 0.,  ..., 0., 0., 0.],\n",
      "         [0., 0., 0.,  ..., 0., 0., 0.]]], device='cuda:0')\n",
      "torch.Size([2, 22])\n",
      "tensor([[[0., 0., 0.,  ..., 0., 0., 0.],\n",
      "         [0., 0., 0.,  ..., 0., 0., 0.],\n",
      "         [0., 0., 0.,  ..., 0., 0., 0.],\n",
      "         ...,\n",
      "         [0., 0., 0.,  ..., 0., 0., 0.],\n",
      "         [0., 0., 0.,  ..., 0., 0., 0.],\n",
      "         [0., 0., 0.,  ..., 0., 0., 0.]],\n",
      "\n",
      "        [[0., 0., 0.,  ..., 0., 0., 0.],\n",
      "         [0., 0., 0.,  ..., 0., 0., 0.],\n",
      "         [0., 0., 0.,  ..., 0., 0., 0.],\n",
      "         ...,\n",
      "         [0., 0., 0.,  ..., 0., 0., 0.],\n",
      "         [0., 0., 0.,  ..., 0., 0., 0.],\n",
      "         [0., 0., 0.,  ..., 0., 0., 0.]]], device='cuda:0')\n",
      "torch.Size([2, 94])\n",
      "tensor([[[0., 0., 0.,  ..., 0., 0., 0.],\n",
      "         [0., 0., 0.,  ..., 0., 0., 0.],\n",
      "         [0., 0., 0.,  ..., 0., 0., 0.],\n",
      "         ...,\n",
      "         [0., 0., 0.,  ..., 0., 0., 0.],\n",
      "         [0., 0., 0.,  ..., 0., 0., 0.],\n",
      "         [0., 0., 0.,  ..., 0., 0., 0.]],\n",
      "\n",
      "        [[0., 0., 0.,  ..., 0., 0., 0.],\n",
      "         [0., 0., 0.,  ..., 0., 0., 0.],\n",
      "         [0., 0., 0.,  ..., 0., 0., 0.],\n",
      "         ...,\n",
      "         [0., 0., 0.,  ..., 0., 0., 0.],\n",
      "         [0., 0., 0.,  ..., 0., 0., 0.],\n",
      "         [0., 0., 0.,  ..., 0., 0., 0.]]], device='cuda:0')\n"
     ]
    }
   ]
  },
  {
   "cell_type": "code",
   "execution_count": 6,
   "outputs": [
    {
     "name": "stderr",
     "output_type": "stream",
     "text": [
      "/root/miniconda3/envs/sfl/lib/python3.11/site-packages/peft/tuners/lora.py:299: UserWarning: fan_in_fan_out is set to False but the target module is `Conv1D`. Setting fan_in_fan_out to True.\n",
      "  warnings.warn(\n"
     ]
    }
   ],
   "source": [
    "\n",
    "from experiments.scripts.evaluate_model_stealing import MirrorSFLStrategy\n",
    "from sfl.simulator.simulator import SFLSimulator\n",
    "import argparse\n",
    "from sfl.utils.exp import add_sfl_params\n",
    "\n",
    "parser = argparse.ArgumentParser()\n",
    "add_sfl_params(parser)\n",
    "args = parser.parse_args({})\n",
    "args.attacker_freq = 2\n",
    "args.attacker_samples = 1\n",
    "args.log_to_wandb = False\n",
    "\n",
    "\n",
    "# 定义Client本地学习策略\n",
    "class QAFLStrategy(MirrorSFLStrategy):\n",
    "\n",
    "    def client_evaluate(self, global_round, client_id, log):\n",
    "        super().client_evaluate(global_round, client_id, log)\n",
    "        print('evaluate', log)\n",
    "\n",
    "\n",
    "simulator = SFLSimulator(client_ids=client_ids,\n",
    "                         strategy=QAFLStrategy(args, model, tokenizer, test_loader, dra1=attacker, dra2=attacker2,\n",
    "                                               dlg=tag_attacker),\n",
    "                         llm=model, tokenizer=tokenizer,\n",
    "                         dataset=fed_dataset, config=config, args=args)"
   ],
   "metadata": {
    "collapsed": false,
    "pycharm": {
     "name": "#%%\n"
    }
   }
  },
  {
   "cell_type": "markdown",
   "source": [
    "## Step 3. 开始联邦模拟"
   ],
   "metadata": {
    "collapsed": false,
    "pycharm": {
     "name": "#%% md\n"
    }
   }
  },
  {
   "cell_type": "code",
   "execution_count": 7,
   "outputs": [
    {
     "name": "stdout",
     "output_type": "stream",
     "text": [
      "==================================Global Round 0=================================\n"
     ]
    },
    {
     "name": "stderr",
     "output_type": "stream",
     "text": [
      "/root/miniconda3/envs/sfl/lib/python3.11/site-packages/transformers/optimization.py:411: FutureWarning: This implementation of AdamW is deprecated and will be removed in a future version. Use the PyTorch implementation torch.optim.AdamW instead, or set `no_deprecation_warning=True` to disable this warning\n",
      "  warnings.warn(\n",
      "Client 1 Epoch 0 Step (24, 24) Loss 2.438:  48%|████████████████████████████████████████████▏                                               | 24/50 [03:26<04:25, 10.19s/it]\n",
      "  0%|                                                                                                                                                | 0/12 [00:00<?, ?it/s]\u001B[A\n",
      "Mirror FT Loss 5.623:   0%|                                                                                                                          | 0/12 [00:00<?, ?it/s]\u001B[A\n",
      "Mirror FT Loss 6.246:   8%|█████████▌                                                                                                        | 1/12 [00:00<00:01,  7.82it/s]\u001B[A\n",
      "Mirror FT Loss 6.246:  17%|███████████████████                                                                                               | 2/12 [00:00<00:00, 13.14it/s]\u001B[A\n",
      "Mirror FT Loss 5.871:  17%|███████████████████                                                                                               | 2/12 [00:00<00:00, 13.14it/s]\u001B[A\n",
      "Mirror FT Loss 4.374:  25%|████████████████████████████▌                                                                                     | 3/12 [00:00<00:00, 13.14it/s]\u001B[A\n",
      "Mirror FT Loss 4.374:  33%|██████████████████████████████████████                                                                            | 4/12 [00:00<00:00, 12.92it/s]\u001B[A\n",
      "Mirror FT Loss 5.719:  33%|██████████████████████████████████████                                                                            | 4/12 [00:00<00:00, 12.92it/s]\u001B[A\n",
      "Mirror FT Loss 4.518:  42%|███████████████████████████████████████████████▌                                                                  | 5/12 [00:00<00:00, 12.92it/s]\u001B[A\n",
      "Mirror FT Loss 4.518:  50%|█████████████████████████████████████████████████████████                                                         | 6/12 [00:00<00:00, 13.17it/s]\u001B[A\n",
      "Mirror FT Loss 5.552:  50%|█████████████████████████████████████████████████████████                                                         | 6/12 [00:00<00:00, 13.17it/s]\u001B[A\n",
      "Mirror FT Loss 5.045:  58%|██████████████████████████████████████████████████████████████████▌                                               | 7/12 [00:00<00:00, 13.17it/s]\u001B[A\n",
      "Mirror FT Loss 5.045:  67%|████████████████████████████████████████████████████████████████████████████                                      | 8/12 [00:00<00:00, 13.08it/s]\u001B[A\n",
      "Mirror FT Loss 5.055:  67%|████████████████████████████████████████████████████████████████████████████                                      | 8/12 [00:00<00:00, 13.08it/s]\u001B[A\n",
      "Mirror FT Loss 6.713:  75%|█████████████████████████████████████████████████████████████████████████████████████▌                            | 9/12 [00:00<00:00, 13.08it/s]\u001B[A\n",
      "Mirror FT Loss 6.713:  83%|██████████████████████████████████████████████████████████████████████████████████████████████▏                  | 10/12 [00:00<00:00, 12.44it/s]\u001B[A\n",
      "Mirror FT Loss 5.999:  83%|██████████████████████████████████████████████████████████████████████████████████████████████▏                  | 10/12 [00:00<00:00, 12.44it/s]\u001B[A\n",
      "Mirror FT Loss 4.937:  92%|███████████████████████████████████████████████████████████████████████████████████████████████████████▌         | 11/12 [00:00<00:00, 12.44it/s]\u001B[A\n",
      "Mirror FT Loss 4.937: 100%|█████████████████████████████████████████████████████████████████████████████████████████████████████████████████| 12/12 [00:00<00:00, 12.75it/s]\u001B[A\n",
      "Client 1 Epoch 0 Step (25, 25) Loss 2.819:  50%|██████████████████████████████████████████████                                              | 25/50 [03:32<03:45,  9.03s/it]"
     ]
    },
    {
     "name": "stdout",
     "output_type": "stream",
     "text": [
      "evaluate {'loss': 3.7093390941619875, 'test-ppl': tensor(58.2765, device='cuda:0'), 'no-mirror-test-ppl': tensor(141.7907, device='cuda:0'), 'mirror-test-ppl': tensor(78.4223, device='cuda:0')}\n"
     ]
    },
    {
     "name": "stderr",
     "output_type": "stream",
     "text": [
      "Client 1 Epoch 0 Step (49, 49) Loss 2.805:  98%|██████████████████████████████████████████████████████████████████████████████████████████▏ | 49/50 [06:57<00:06,  6.97s/it]\n",
      "  0%|                                                                                                                                                | 0/13 [00:00<?, ?it/s]\u001B[A\n",
      "Mirror FT Loss 5.888:   0%|                                                                                                                          | 0/13 [00:00<?, ?it/s]\u001B[A\n",
      "Mirror FT Loss 4.554:   8%|████████▊                                                                                                         | 1/13 [00:00<00:01,  7.28it/s]\u001B[A\n",
      "Mirror FT Loss 4.554:  15%|█████████████████▌                                                                                                | 2/13 [00:00<00:00, 12.24it/s]\u001B[A\n",
      "Mirror FT Loss 5.615:  15%|█████████████████▌                                                                                                | 2/13 [00:00<00:00, 12.24it/s]\u001B[A\n",
      "Mirror FT Loss 5.302:  23%|██████████████████████████▎                                                                                       | 3/13 [00:00<00:00, 12.24it/s]\u001B[A\n",
      "Mirror FT Loss 5.302:  31%|███████████████████████████████████                                                                               | 4/13 [00:00<00:00, 12.28it/s]\u001B[A\n",
      "Mirror FT Loss 4.489:  31%|███████████████████████████████████                                                                               | 4/13 [00:00<00:00, 12.28it/s]\u001B[A\n",
      "Mirror FT Loss 4.932:  38%|███████████████████████████████████████████▊                                                                      | 5/13 [00:00<00:00, 12.28it/s]\u001B[A\n",
      "Mirror FT Loss 4.932:  46%|████████████████████████████████████████████████████▌                                                             | 6/13 [00:00<00:00, 12.30it/s]\u001B[A\n",
      "Mirror FT Loss 5.455:  46%|████████████████████████████████████████████████████▌                                                             | 6/13 [00:00<00:00, 12.30it/s]\u001B[A\n",
      "Mirror FT Loss 5.818:  54%|█████████████████████████████████████████████████████████████▍                                                    | 7/13 [00:00<00:00, 12.30it/s]\u001B[A\n",
      "Mirror FT Loss 5.818:  62%|██████████████████████████████████████████████████████████████████████▏                                           | 8/13 [00:00<00:00, 12.59it/s]\u001B[A\n",
      "Mirror FT Loss 5.258:  62%|██████████████████████████████████████████████████████████████████████▏                                           | 8/13 [00:00<00:00, 12.59it/s]\u001B[A\n",
      "Mirror FT Loss 5.284:  69%|██████████████████████████████████████████████████████████████████████████████▉                                   | 9/13 [00:00<00:00, 12.59it/s]\u001B[A\n",
      "Mirror FT Loss 5.284:  77%|██████████████████████████████████████████████████████████████████████████████████████▉                          | 10/13 [00:00<00:00, 12.82it/s]\u001B[A\n",
      "Mirror FT Loss 6.395:  77%|██████████████████████████████████████████████████████████████████████████████████████▉                          | 10/13 [00:00<00:00, 12.82it/s]\u001B[A\n",
      "Mirror FT Loss 5.259:  85%|███████████████████████████████████████████████████████████████████████████████████████████████▌                 | 11/13 [00:00<00:00, 12.82it/s]\u001B[A\n",
      "Mirror FT Loss 5.259:  92%|████████████████████████████████████████████████████████████████████████████████████████████████████████▎        | 12/13 [00:00<00:00, 13.05it/s]\u001B[A\n",
      "Mirror FT Loss 5.933: 100%|█████████████████████████████████████████████████████████████████████████████████████████████████████████████████| 13/13 [00:01<00:00, 12.70it/s]\u001B[A\n",
      "Client 1 Epoch 0 Step (49, 49) Loss 2.805: 100%|████████████████████████████████████████████████████████████████████████████████████████████| 50/50 [07:19<00:00,  8.80s/it]"
     ]
    },
    {
     "name": "stdout",
     "output_type": "stream",
     "text": [
      "evaluate {'loss': 3.1821552681922913, 'attacker_tr2t_step': 0.535294112647059, 'attacker_b2tr_step': 0.999999995, 'attacker_tr2t_avg': 0.5776530581378886, 'attacker_b2tr_avg': 0.9294102481346662, 'tag_rouge_lf_avg': 0.555664983071975, 'attacker_tr2t_sampled': 0.535294112647059, 'attacker_b2tr_sampled': 0.999999995, 'tag_rouge_lf_sampled': 0.5078431322549021, 'test-ppl': tensor(37.5044, device='cuda:0'), 'no-mirror-test-ppl': tensor(112.3092, device='cuda:0'), 'mirror-test-ppl': tensor(64.8888, device='cuda:0')}\n"
     ]
    },
    {
     "name": "stderr",
     "output_type": "stream",
     "text": [
      "\n"
     ]
    },
    {
     "name": "stdout",
     "output_type": "stream",
     "text": [
      "Client 1 communication overhead: uplink:45.70 MB, downlink:45.70 MB\n"
     ]
    },
    {
     "name": "stderr",
     "output_type": "stream",
     "text": [
      "Client 0 Epoch 0 Step (3, 3) Loss 5.859:   6%|█████▋                                                                                         | 3/50 [00:22<05:51,  7.47s/it]\n",
      "\n",
      "KeyboardInterrupt\n",
      "\n"
     ]
    }
   ],
   "source": [
    "import wandb\n",
    "\n",
    "if args.log_to_wandb:\n",
    "    wandb.init(\n",
    "    project=\"sfl-eval\",\n",
    "    name=\"gpt2-large-wikitext-ppl\",\n",
    "    # track hyperparameters and run metadata\n",
    "    config={\n",
    "        \"dataset\": 'code',\n",
    "        \"noise\": \"0.0\"\n",
    "    }\n",
    ")\n",
    "\n",
    "\n",
    "simulator.simulate()"
   ],
   "metadata": {
    "collapsed": false,
    "pycharm": {
     "name": "#%%\n"
    }
   }
  },
  {
   "cell_type": "code",
   "execution_count": null,
   "outputs": [],
   "source": [],
   "metadata": {
    "collapsed": false,
    "pycharm": {
     "name": "#%%\n"
    }
   }
  }
 ],
 "metadata": {
  "kernelspec": {
   "display_name": "Python 3",
   "language": "python",
   "name": "python3"
  },
  "language_info": {
   "codemirror_mode": {
    "name": "ipython",
    "version": 2
   },
   "file_extension": ".py",
   "mimetype": "text/x-python",
   "name": "python",
   "nbconvert_exporter": "python",
   "pygments_lexer": "ipython2",
   "version": "2.7.6"
  }
 },
 "nbformat": 4,
 "nbformat_minor": 0
}