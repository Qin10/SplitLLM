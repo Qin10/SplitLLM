{
 "cells": [
  {
   "cell_type": "markdown",
   "source": [
    "## Step 1. 加载模型与Tokenizer"
   ],
   "metadata": {
    "collapsed": false,
    "pycharm": {
     "name": "#%% md\n"
    }
   }
  },
  {
   "cell_type": "markdown",
   "source": [],
   "metadata": {
    "collapsed": false,
    "pycharm": {
     "name": "#%% md\n"
    }
   }
  },
  {
   "cell_type": "code",
   "execution_count": 6,
   "outputs": [
    {
     "data": {
      "text/plain": "GPT2SplitLMHeadModel(\n  (transformer): GPT2SplitModel(\n    (wte): Embedding(50257, 768)\n    (wpe): Embedding(1024, 768)\n    (drop): Dropout(p=0.1, inplace=False)\n    (h): ModuleList(\n      (0-11): 12 x GPT2Block(\n        (ln_1): LayerNorm((768,), eps=1e-05, elementwise_affine=True)\n        (attn): GPT2Attention(\n          (c_attn): Conv1D()\n          (c_proj): Conv1D()\n          (attn_dropout): Dropout(p=0.1, inplace=False)\n          (resid_dropout): Dropout(p=0.1, inplace=False)\n        )\n        (ln_2): LayerNorm((768,), eps=1e-05, elementwise_affine=True)\n        (mlp): GPT2MLP(\n          (c_fc): Conv1D()\n          (c_proj): Conv1D()\n          (act): NewGELUActivation()\n          (dropout): Dropout(p=0.1, inplace=False)\n        )\n      )\n    )\n    (ln_f): LayerNorm((768,), eps=1e-05, elementwise_affine=True)\n  )\n  (lm_head): Linear(in_features=768, out_features=50257, bias=False)\n)"
     },
     "execution_count": 6,
     "metadata": {},
     "output_type": "execute_result"
    }
   ],
   "source": [
    "\n",
    "import os\n",
    "import sys\n",
    "\n",
    "import torch\n",
    "\n",
    "sys.path.append(os.path.abspath('../..'))\n",
    "from sfl.utils.training import get_best_gpu\n",
    "from transformers import AutoTokenizer\n",
    "from sfl.model.gpt2.gpt2_split import GPT2SplitLMHeadModel\n",
    "from sfl import config\n",
    "\n",
    "device = get_best_gpu()\n",
    "tokenizer = AutoTokenizer.from_pretrained(os.path.join(config.model_download_dir, \"gpt2/\"))\n",
    "model = GPT2SplitLMHeadModel.from_pretrained(os.path.join(config.model_download_dir, \"gpt2/\"))\n",
    "tokenizer.pad_token = tokenizer.eos_token\n",
    "tokenizer.pad_token_id = 50256\n",
    "model.to(device)"
   ],
   "metadata": {
    "collapsed": false,
    "pycharm": {
     "name": "#%%\n"
    }
   }
  },
  {
   "cell_type": "code",
   "execution_count": 7,
   "outputs": [
    {
     "name": "stdout",
     "output_type": "stream",
     "text": [
      "To mix food coloring with sugar, you can also use it as a sweetener.\n",
      "\n",
      "If you want to add more sugar to the mix, add a little more water and mix well. If you add too much water, the mixture will be too thick, and you will end up with a mess. You can use a spoon to scoop out the excess water from the mixing bowl, but it's best to leave it at room temperature for at least 30 minutes before adding the rest of the water\n"
     ]
    }
   ],
   "source": [
    "from sfl.utils.model import generate\n",
    "\n",
    "\n",
    "# 测试模型输出\n",
    "def get_output(text, md=model):\n",
    "    t = tokenizer(text, return_tensors=\"pt\", add_special_tokens=False)\n",
    "    res = model(t['input_ids'].to(md.device), attention_mask=t['attention_mask'].to(md.device))\n",
    "    r = tokenizer.decode(res.logits.argmax(dim=-1)[-1], skip_special_tokens=True)\n",
    "    return r\n",
    "\n",
    "\n",
    "print(generate(\"To mix food coloring with sugar, you can\", tokenizer, model))"
   ],
   "metadata": {
    "collapsed": false,
    "pycharm": {
     "name": "#%%\n"
    }
   }
  },
  {
   "cell_type": "code",
   "execution_count": 8,
   "outputs": [],
   "source": [
    "from sfl.config import attacker_path\n",
    "from sfl.utils.training import get_attacker_class, extract_attacker_path\n",
    "\n",
    "\n",
    "# 加载攻击模型\n",
    "attacker_cls = get_attacker_class('gru')\n",
    "attacker_path_1, attacker_path_2 = extract_attacker_path(\n",
    "    {'split_point_1': 2, 'split_point_2': 10, 'attacker_path': attacker_path, 'model_name': 'gpt2','attacker_dataset':'piqa','attacker_train_label':'train','attacker_train_frac':1.0,'attacker_model':'gru','attacker_prefix':'dxp:5.0'})\n",
    "attacker2 = attacker_cls.from_pretrained(attacker_path_2)"
   ],
   "metadata": {
    "collapsed": false,
    "pycharm": {
     "name": "#%%\n"
    }
   }
  },
  {
   "cell_type": "markdown",
   "source": [
    "## Step 3. 设置联邦训练流程"
   ],
   "metadata": {
    "collapsed": false,
    "pycharm": {
     "name": "#%% md\n"
    }
   },
   "outputs": [
    {
     "name": "stdout",
     "output_type": "stream",
     "text": [
      "torch.Size([2, 97])\n",
      "tensor([[[0., 0., 0.,  ..., 0., 0., 0.],\n",
      "         [0., 0., 0.,  ..., 0., 0., 0.],\n",
      "         [0., 0., 0.,  ..., 0., 0., 0.],\n",
      "         ...,\n",
      "         [0., 0., 0.,  ..., 0., 0., 0.],\n",
      "         [0., 0., 0.,  ..., 0., 0., 0.],\n",
      "         [0., 0., 0.,  ..., 0., 0., 0.]],\n",
      "\n",
      "        [[0., 0., 0.,  ..., 0., 0., 0.],\n",
      "         [0., 0., 0.,  ..., 0., 0., 0.],\n",
      "         [0., 0., 0.,  ..., 0., 0., 0.],\n",
      "         ...,\n",
      "         [0., 0., 0.,  ..., 0., 0., 0.],\n",
      "         [0., 0., 0.,  ..., 0., 0., 0.],\n",
      "         [0., 0., 0.,  ..., 0., 0., 0.]]], device='cuda:0')\n",
      "torch.Size([2, 22])\n",
      "tensor([[[0., 0., 0.,  ..., 0., 0., 0.],\n",
      "         [0., 0., 0.,  ..., 0., 0., 0.],\n",
      "         [0., 0., 0.,  ..., 0., 0., 0.],\n",
      "         ...,\n",
      "         [0., 0., 0.,  ..., 0., 0., 0.],\n",
      "         [0., 0., 0.,  ..., 0., 0., 0.],\n",
      "         [0., 0., 0.,  ..., 0., 0., 0.]],\n",
      "\n",
      "        [[0., 0., 0.,  ..., 0., 0., 0.],\n",
      "         [0., 0., 0.,  ..., 0., 0., 0.],\n",
      "         [0., 0., 0.,  ..., 0., 0., 0.],\n",
      "         ...,\n",
      "         [0., 0., 0.,  ..., 0., 0., 0.],\n",
      "         [0., 0., 0.,  ..., 0., 0., 0.],\n",
      "         [0., 0., 0.,  ..., 0., 0., 0.]]], device='cuda:0')\n",
      "torch.Size([2, 94])\n",
      "tensor([[[0., 0., 0.,  ..., 0., 0., 0.],\n",
      "         [0., 0., 0.,  ..., 0., 0., 0.],\n",
      "         [0., 0., 0.,  ..., 0., 0., 0.],\n",
      "         ...,\n",
      "         [0., 0., 0.,  ..., 0., 0., 0.],\n",
      "         [0., 0., 0.,  ..., 0., 0., 0.],\n",
      "         [0., 0., 0.,  ..., 0., 0., 0.]],\n",
      "\n",
      "        [[0., 0., 0.,  ..., 0., 0., 0.],\n",
      "         [0., 0., 0.,  ..., 0., 0., 0.],\n",
      "         [0., 0., 0.,  ..., 0., 0., 0.],\n",
      "         ...,\n",
      "         [0., 0., 0.,  ..., 0., 0., 0.],\n",
      "         [0., 0., 0.,  ..., 0., 0., 0.],\n",
      "         [0., 0., 0.,  ..., 0., 0., 0.]]], device='cuda:0')\n"
     ]
    }
   ]
  },
  {
   "cell_type": "code",
   "execution_count": null,
   "outputs": [],
   "source": [
    "\n",
    "\n",
    "from typing import Iterator\n",
    "from sfl.utils.training import calc_shifted_loss_logits\n",
    "from sfl.utils.model import calculate_rouge\n",
    "from sfl.model.mocker import GPT2TopMocker\n",
    "from sfl.simulator.simulator import SFLSimulator\n",
    "from torch.utils.data import DataLoader\n",
    "from tqdm.notebook import tqdm_notebook\n",
    "from sfl.model.split_model import SplitModel\n",
    "from sfl.simulator.strategy import FLStrategy\n",
    "\n",
    "from torch.optim import AdamW\n",
    "from sfl.config import FLConfig\n",
    "\n",
    "client_ids = [str(i) for i in range(3)]\n",
    "config = FLConfig(global_round=50,\n",
    "                  client_epoch=2,  # 每轮联邦每个Client训2轮\n",
    "                  split_point_1=2,\n",
    "                  split_point_2=10,  # [0,1 | 2,3,.... 29| 30, 31]\n",
    "                  use_lora_at_trunk=True,  # 在trunk部分使用LoRA\n",
    "                  top_and_bottom_from_scratch='False',  # top和bottom都不采用预训练参数.\n",
    "                  noise_mode=\"dxp\",\n",
    "                  noise_scale=5.0,  # 噪声大小\n",
    "                  dataset_type='validation'\n",
    "                  )\n",
    "\n",
    "from sfl.simulator.dataset import PIQAFedDataset\n",
    "\n",
    "fed_dataset = PIQAFedDataset(tokenizer=tokenizer, client_ids=client_ids, shrink_frac=0.15)\n",
    "\n",
    "\n",
    "# 定义Client本地学习策略\n",
    "class QAFLStrategy(FLStrategy):\n",
    "\n",
    "    def __init__(self):\n",
    "        super().__init__()\n",
    "        self.attacker_rouge_b2tr = []\n",
    "        self.attacker_rouge_tr2t = []\n",
    "        self.mocker_rouge_tr2t = []\n",
    "        self.client_logs = {}\n",
    "\n",
    "    def client_step(self, global_round, client_id: str, llm: SplitModel, iterator:Iterator, cfg: FLConfig):\n",
    "        optimizer = AdamW(llm.parameters(), lr=1e-5)\n",
    "        with tqdm_notebook(total=cfg.client_epoch * len(dataloader)) as pbar:\n",
    "            for epoch in range(cfg.client_epoch):\n",
    "                for step, batch in enumerate(dataloader):\n",
    "                    optimizer.zero_grad()\n",
    "                    input_ids = batch['input_ids'].to(llm.device)\n",
    "                    attention_mask = batch['input_att_mask'].to(llm.device)\n",
    "                    outputs = llm(input_ids=input_ids, labels=input_ids, attention_mask=attention_mask)\n",
    "                    self.fp_done(client_id, epoch, step, batch)  # Collect intermediate results\n",
    "                    loss = outputs.loss\n",
    "                    pbar.set_description(f'Client {client_id} Epoch {epoch} Loss {loss.item():.3f}')\n",
    "                    loss.backward()\n",
    "                    self.bp_done(client_id, epoch, step, batch)  # Collect gradients\n",
    "                    optimizer.step()\n",
    "                    pbar.update(1)\n",
    "                if len(self.mocker_rouge_tr2t) > 0:\n",
    "                    avg_rouge2 = sum([r[\"rouge-l\"][\"f\"] for r in self.mocker_rouge_tr2t]) / len(self.mocker_rouge_tr2t)\n",
    "                    print(f'MOCK! Bottom-trunk, Client {client_id} Epoch {epoch} RougeL {avg_rouge2:.3f}')\n",
    "                    self.attacker_rouge_b2tr.clear()\n",
    "                    self.attacker_rouge_tr2t.clear()\n",
    "                    self.mocker_rouge_tr2t.clear()\n",
    "                self.client_logs.setdefault(client_id, {})\n",
    "                # self.client_logs[client_id][epoch] = {\"bottom-trunk\": avg_rouge1, \"trunk-top\": avg_rouge2}\n",
    "\n",
    "    def aggregation_step(self, global_round, params):\n",
    "        report = {}\n",
    "        report['global_round'] = global_round\n",
    "        for cid, epochs in self.client_logs.items():\n",
    "            for epc, rep in epochs.items():\n",
    "                for k, v in rep.items():\n",
    "                    report[f'client{cid}-epoch{epc}-{k}'] = v\n",
    "        # wandb.log(report)\n",
    "        self.client_logs = {}\n",
    "        return super(QAFLStrategy, self).aggregation_step(global_round, params)\n",
    "\n",
    "    def callback_fp_param(self, global_round, client_id, local_epoch, local_step, b2tr_params, tr2t_params, batch):\n",
    "        pass\n",
    "\n",
    "    def callback_bp_param(self, global_round, client_id, local_epoch, local_step,\n",
    "                          b2tr_fx, tr2b_grad,\n",
    "                          tr2t_fx, t2tr_grad,\n",
    "                          batch):\n",
    "        #if global_round % 10 == 0 and client_id == '0' and local_epoch == 1:\n",
    "        # self.collect_fp_bp.append((tr2t_fx, t2tr_grad, batch['input_text']))\n",
    "        real = batch['input_text'][0]\n",
    "        # print(\"REAL:\", real)\n",
    "        batch_size, seq_len = tr2t_fx.shape[:2]\n",
    "        inter = tr2t_fx.to(self.simulator.device)\n",
    "        vocab_size = model.config.vocab_size\n",
    "        gt = torch.softmax(torch.randn((batch_size, seq_len, vocab_size)).to(inter.device), dim=-1)\n",
    "        gt.requires_grad = True\n",
    "        inter.requires_grad = True\n",
    "        mapper.train()\n",
    "        optimizer = torch.optim.AdamW([gt], lr=0.1, betas=(0.9, 0.999), eps=1e-6, weight_decay=0.01)\n",
    "        epochs = 300\n",
    "        beta = 0.5\n",
    "        # with tqdm_notebook(total=epochs, desc='Mocking') as pbar:\n",
    "        #     for i in range(epochs):\n",
    "        #         optimizer.zero_grad()\n",
    "        #         x = mocker(inter)\n",
    "        #         loss = calc_shifted_loss_logits(x, torch.softmax(gt, dim=-1))\n",
    "        #         grad = torch.autograd.grad(loss, inter, create_graph=True)\n",
    "        #         grad_diff = 0\n",
    "        #         for gx, gy in zip(grad, t2tr_grad.to(loss.device)):\n",
    "        #             grad_diff += beta * ((gx - gy) ** 2).sum() + (1 - beta) * torch.abs((gx - gy)).sum()\n",
    "        #         grad_diff.backward()\n",
    "        #         optimizer.step()\n",
    "        #         sent = tokenizer.decode(gt.argmax(-1)[0], skip_special_tokens=True)\n",
    "        #         rouge = calculate_rouge(tokenizer, gt, batch['input_text'])['rouge-l']['f']\n",
    "        #         pbar.set_postfix(sent=sent, rouge=rouge)\n",
    "        #         pbar.update(1)\n",
    "        # opt_mapper = torch.optim.Adam(mapper.parameters(), lr=1e-3)\n",
    "        # epochs2 = 100\n",
    "        # with tqdm_notebook(total=epochs2, desc='Mapping') as pbar2:\n",
    "        #     for i in range(epochs2):\n",
    "        #         opt_mapper.zero_grad()\n",
    "        #         x = mapper(inter)\n",
    "        #         # print(x.shape,gt.shape)\n",
    "        #         loss = calc_unshift_loss_logits(x, torch.softmax(gt, dim=-1))\n",
    "        #         loss.backward()\n",
    "        #         # opt_mapper.step()\n",
    "        #         rouge = calculate_rouge(tokenizer, x, batch['input_text'])['rouge-l']['f']\n",
    "        #         sent = tokenizer.decode(x.argmax(-1)[0], skip_special_tokens=True)\n",
    "        #         pbar2.set_postfix(sent=sent, rouge=rouge)\n",
    "        #         pbar2.update(1)\n",
    "\n",
    "        # opt_mapper2 = torch.optim.Adam(mapper.parameters(), lr=1e-4)\n",
    "        opt_mapper2 = torch.optim.AdamW(mapper.parameters(), lr=0.001, betas=(0.9, 0.999), eps=1e-6, weight_decay=0.01)\n",
    "        # opt_mapper2 = torch.optim.Adam(mapper.parameters(), lr=1e-5)\n",
    "        epochs = 30\n",
    "        # with tqdm_notebook(total=epochs, desc='POST-Mocking') as pbar:\n",
    "        for i in range(epochs):\n",
    "                opt_mapper2.zero_grad()\n",
    "                x = mocker(inter)\n",
    "                with torch.backends.cudnn.flags(enabled=False):\n",
    "                    gt = mapper(inter)\n",
    "                loss = calc_shifted_loss_logits(torch.softmax(x, dim=-1), torch.softmax(gt, dim=-1))\n",
    "                grad = torch.autograd.grad(loss, inter, create_graph=True)\n",
    "                grad_diff = 0\n",
    "                for gx, gy in zip(grad, t2tr_grad.to(loss.device)):\n",
    "                    grad_diff += beta * ((gx - gy) ** 2).sum() + (1 - beta) * torch.abs((gx - gy)).sum()\n",
    "                grad_diff.backward()\n",
    "                optimizer.step()\n",
    "                # sent = tokenizer.decode(gt.argmax(-1)[0], skip_special_tokens=True)\n",
    "                # rouge = calculate_rouge(tokenizer, gt, batch['input_text'])['rouge-l']['f']\n",
    "                # pbar.set_postfix(sent=sent, rouge=rouge)\n",
    "                # pbar.update(1)\n",
    "        rouge = calculate_rouge(tokenizer, gt, batch['input_text'])\n",
    "        self.mocker_rouge_tr2t.append(rouge)\n",
    "        # guess = attacker2(tr2t_fx)\n",
    "        # rouge = calculate_rouge(tokenizer, guess, batch['input_text'])\n",
    "        # self.attacker_rouge_tr2t.append(rouge)\n",
    "\n",
    "\n",
    "simulator = SFLSimulator(client_ids=client_ids, strategy=QAFLStrategy(), llm=model, tokenizer=tokenizer,\n",
    "                         dataset=fed_dataset, config=config)\n",
    "# model.print_split_model()\n",
    "mocker = GPT2TopMocker(config, model)\n",
    "mocker.to(simulator.device)\n",
    "mapper = attacker2  #GRUAttackModel(LSTMAttackerConfig(), model.config)\n",
    "mapper.to(simulator.device)\n",
    "simulator.simulate()"
   ],
   "metadata": {
    "collapsed": false,
    "pycharm": {
     "name": "#%%\n"
    }
   }
  },
  {
   "cell_type": "markdown",
   "source": [
    "## Step 3. 开始联邦模拟"
   ],
   "metadata": {
    "collapsed": false,
    "pycharm": {
     "name": "#%% md\n"
    }
   }
  },
  {
   "cell_type": "code",
   "execution_count": null,
   "outputs": [],
   "source": [
    "import wandb\n",
    "\n",
    "wandb.init(\n",
    "    project=\"sfl-tag-plus\",\n",
    "    # track hyperparameters and run metadata\n",
    "    config={\n",
    "        \"dataset\": 'piqa',\n",
    "        \"attacker\": \"piqa-validation\",\n",
    "        \"noise\": \"2.0\"\n",
    "    }\n",
    ")\n",
    "\n",
    "simulator.simulate()"
   ],
   "metadata": {
    "collapsed": false,
    "pycharm": {
     "name": "#%%\n"
    }
   }
  },
  {
   "cell_type": "code",
   "execution_count": null,
   "outputs": [],
   "source": [],
   "metadata": {
    "collapsed": false,
    "pycharm": {
     "name": "#%%\n"
    }
   }
  },
  {
   "cell_type": "code",
   "execution_count": null,
   "outputs": [],
   "source": [],
   "metadata": {
    "collapsed": false,
    "pycharm": {
     "name": "#%%\n"
    }
   }
  },
  {
   "cell_type": "code",
   "execution_count": null,
   "outputs": [],
   "source": [
    "from sfl.utils.model import sentence_score\n",
    "\n",
    "sentence_score(\"I'm fine, thank you!\", model, tokenizer)"
   ],
   "metadata": {
    "collapsed": false,
    "pycharm": {
     "name": "#%%\n"
    }
   }
  },
  {
   "cell_type": "code",
   "execution_count": null,
   "outputs": [],
   "source": [],
   "metadata": {
    "collapsed": false,
    "pycharm": {
     "name": "#%%\n"
    }
   }
  },
  {
   "cell_type": "code",
   "execution_count": null,
   "outputs": [],
   "source": [],
   "metadata": {
    "collapsed": false,
    "pycharm": {
     "name": "#%%\n"
    }
   }
  }
 ],
 "metadata": {
  "kernelspec": {
   "display_name": "Python 3",
   "language": "python",
   "name": "python3"
  },
  "language_info": {
   "codemirror_mode": {
    "name": "ipython",
    "version": 2
   },
   "file_extension": ".py",
   "mimetype": "text/x-python",
   "name": "python",
   "nbconvert_exporter": "python",
   "pygments_lexer": "ipython2",
   "version": "2.7.6"
  }
 },
 "nbformat": 4,
 "nbformat_minor": 0
}