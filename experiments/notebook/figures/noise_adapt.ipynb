{
 "cells": [
  {
   "cell_type": "markdown",
   "source": [
    "# 画图：观察攻击模型对噪声的适应性"
   ],
   "metadata": {
    "collapsed": false,
    "pycharm": {
     "name": "#%% md\n"
    }
   }
  },
  {
   "cell_type": "code",
   "execution_count": 3,
   "outputs": [],
   "source": [
    "import pandas as pd\n",
    "\n",
    "df = pd.read_csv('/root/autodl-tmp/sfl/exp_data/noise_adapt1.csv')"
   ],
   "metadata": {
    "collapsed": false,
    "pycharm": {
     "name": "#%%\n"
    }
   }
  },
  {
   "cell_type": "code",
   "execution_count": 4,
   "outputs": [
    {
     "data": {
      "text/plain": "                                              Name     State Notes      User  \\\n0   sensimarked[dxp-0.7]<ATKsensireplaced[dxp-0.8]  finished     -  ymx10086   \n1   sensimarked[dxp-0.7]<ATKsensireplaced[dxp-0.6]  finished     -  ymx10086   \n2   sensimarked[dxp-0.7]<ATKsensireplaced[dxp-0.4]  finished     -  ymx10086   \n3   sensimarked[dxp-0.7]<ATKsensireplaced[dxp-0.2]  finished     -  ymx10086   \n4   sensimarked[dxp-0.7]<ATKsensireplaced[dxp-0.0]  finished     -  ymx10086   \n5   sensimarked[dxp-0.5]<ATKsensireplaced[dxp-0.8]  finished     -  ymx10086   \n6   sensimarked[dxp-0.5]<ATKsensireplaced[dxp-0.6]  finished     -  ymx10086   \n7   sensimarked[dxp-0.5]<ATKsensireplaced[dxp-0.4]  finished     -  ymx10086   \n8   sensimarked[dxp-0.5]<ATKsensireplaced[dxp-0.2]  finished     -  ymx10086   \n9   sensimarked[dxp-0.5]<ATKsensireplaced[dxp-0.0]  finished     -  ymx10086   \n10  sensimarked[dxp-0.3]<ATKsensireplaced[dxp-0.8]  finished     -  ymx10086   \n11  sensimarked[dxp-0.3]<ATKsensireplaced[dxp-0.6]  finished     -  ymx10086   \n12  sensimarked[dxp-0.3]<ATKsensireplaced[dxp-0.4]  finished     -  ymx10086   \n13  sensimarked[dxp-0.3]<ATKsensireplaced[dxp-0.2]  finished     -  ymx10086   \n14  sensimarked[dxp-0.3]<ATKsensireplaced[dxp-0.0]  finished     -  ymx10086   \n\n    Tags                   Created  Runtime  Sweep  attacker_b2tr_enable  \\\n0    NaN  2024-03-25T14:34:31.000Z     8922    NaN                  True   \n1    NaN  2024-03-25T11:42:32.000Z    10246    NaN                  True   \n2    NaN  2024-03-25T09:43:20.000Z     7110    NaN                  True   \n3    NaN  2024-03-25T07:39:21.000Z     7386    NaN                  True   \n4    NaN  2024-03-25T05:32:44.000Z     7544    NaN                  True   \n5    NaN  2024-03-25T00:19:34.000Z     6438    NaN                  True   \n6    NaN  2024-03-24T22:32:29.000Z     6394    NaN                  True   \n7    NaN  2024-03-24T20:46:18.000Z     6342    NaN                  True   \n8    NaN  2024-03-24T18:58:29.000Z     6442    NaN                  True   \n9    NaN  2024-03-24T17:11:25.000Z     6396    NaN                  True   \n10   NaN  2024-03-24T15:25:33.000Z     6324    NaN                  True   \n11   NaN  2024-03-24T12:16:12.000Z     6477    NaN                  True   \n12   NaN  2024-03-24T10:20:51.000Z     6894    NaN                  True   \n13   NaN  2024-03-24T07:20:45.000Z     6335    NaN                  True   \n14   NaN  2024-03-24T05:31:10.000Z     6544    NaN                  True   \n\n    attacker_b2tr_sp  ... client0_attacker_b2tr_step  \\\n0                  6  ...                   0.681818   \n1                  6  ...                   0.714286   \n2                  6  ...                   0.681818   \n3                  6  ...                   0.651163   \n4                  6  ...                   0.697674   \n5                  6  ...                   0.681818   \n6                  6  ...                   0.666667   \n7                  6  ...                   0.636364   \n8                  6  ...                   0.636364   \n9                  6  ...                   0.697674   \n10                 6  ...                   0.651163   \n11                 6  ...                   0.651163   \n12                 6  ...                   0.681818   \n13                 6  ...                   0.697674   \n14                 6  ...                   0.651163   \n\n    client0_attacker_tr2t_step client0_avg_loss client0_global_round  \\\n0                            0         1.939648                    0   \n1                            0         1.939345                    0   \n2                            0         1.939345                    0   \n3                            0         1.939345                    0   \n4                            0         1.939345                    0   \n5                            0         1.984191                    0   \n6                            0         1.984191                    0   \n7                            0         1.984191                    0   \n8                            0         1.984191                    0   \n9                            0         1.984191                    0   \n10                           0         2.148181                    0   \n11                           0         2.148181                    0   \n12                           0         2.148181                    0   \n13                           0         2.148181                    0   \n14                           0         2.148181                    0   \n\n   client0_local_epoch  client0_local_step  client0_self  client0_step_loss  \\\n0                    0                1199      0.000336           1.683646   \n1                    0                1199      0.000362           1.697747   \n2                    0                1199      0.000362           1.697747   \n3                    0                1199      0.000362           1.697747   \n4                    0                1199      0.000362           1.697747   \n5                    0                1199      0.000364           1.708591   \n6                    0                1199      0.000364           1.708591   \n7                    0                1199      0.000364           1.708591   \n8                    0                1199      0.000364           1.708591   \n9                    0                1199      0.000364           1.708591   \n10                   0                1199      0.000419           1.859937   \n11                   0                1199      0.000419           1.859937   \n12                   0                1199      0.000419           1.859937   \n13                   0                1199      0.000419           1.859937   \n14                   0                1199      0.000419           1.859937   \n\n    client0_test-ppl  global_step  \n0          20.275705         1199  \n1          20.293415         1199  \n2          20.293415         1199  \n3          20.293415         1199  \n4          20.293415         1199  \n5          22.241041         1199  \n6          22.241041         1199  \n7          22.241041         1199  \n8          22.241041         1199  \n9          22.241041         1199  \n10         30.565199         1199  \n11         30.565199         1199  \n12         30.565199         1199  \n13         30.565199         1199  \n14         30.565199         1199  \n\n[15 rows x 76 columns]",
      "text/html": "<div>\n<style scoped>\n    .dataframe tbody tr th:only-of-type {\n        vertical-align: middle;\n    }\n\n    .dataframe tbody tr th {\n        vertical-align: top;\n    }\n\n    .dataframe thead th {\n        text-align: right;\n    }\n</style>\n<table border=\"1\" class=\"dataframe\">\n  <thead>\n    <tr style=\"text-align: right;\">\n      <th></th>\n      <th>Name</th>\n      <th>State</th>\n      <th>Notes</th>\n      <th>User</th>\n      <th>Tags</th>\n      <th>Created</th>\n      <th>Runtime</th>\n      <th>Sweep</th>\n      <th>attacker_b2tr_enable</th>\n      <th>attacker_b2tr_sp</th>\n      <th>...</th>\n      <th>client0_attacker_b2tr_step</th>\n      <th>client0_attacker_tr2t_step</th>\n      <th>client0_avg_loss</th>\n      <th>client0_global_round</th>\n      <th>client0_local_epoch</th>\n      <th>client0_local_step</th>\n      <th>client0_self</th>\n      <th>client0_step_loss</th>\n      <th>client0_test-ppl</th>\n      <th>global_step</th>\n    </tr>\n  </thead>\n  <tbody>\n    <tr>\n      <th>0</th>\n      <td>sensimarked[dxp-0.7]&lt;ATKsensireplaced[dxp-0.8]</td>\n      <td>finished</td>\n      <td>-</td>\n      <td>ymx10086</td>\n      <td>NaN</td>\n      <td>2024-03-25T14:34:31.000Z</td>\n      <td>8922</td>\n      <td>NaN</td>\n      <td>True</td>\n      <td>6</td>\n      <td>...</td>\n      <td>0.681818</td>\n      <td>0</td>\n      <td>1.939648</td>\n      <td>0</td>\n      <td>0</td>\n      <td>1199</td>\n      <td>0.000336</td>\n      <td>1.683646</td>\n      <td>20.275705</td>\n      <td>1199</td>\n    </tr>\n    <tr>\n      <th>1</th>\n      <td>sensimarked[dxp-0.7]&lt;ATKsensireplaced[dxp-0.6]</td>\n      <td>finished</td>\n      <td>-</td>\n      <td>ymx10086</td>\n      <td>NaN</td>\n      <td>2024-03-25T11:42:32.000Z</td>\n      <td>10246</td>\n      <td>NaN</td>\n      <td>True</td>\n      <td>6</td>\n      <td>...</td>\n      <td>0.714286</td>\n      <td>0</td>\n      <td>1.939345</td>\n      <td>0</td>\n      <td>0</td>\n      <td>1199</td>\n      <td>0.000362</td>\n      <td>1.697747</td>\n      <td>20.293415</td>\n      <td>1199</td>\n    </tr>\n    <tr>\n      <th>2</th>\n      <td>sensimarked[dxp-0.7]&lt;ATKsensireplaced[dxp-0.4]</td>\n      <td>finished</td>\n      <td>-</td>\n      <td>ymx10086</td>\n      <td>NaN</td>\n      <td>2024-03-25T09:43:20.000Z</td>\n      <td>7110</td>\n      <td>NaN</td>\n      <td>True</td>\n      <td>6</td>\n      <td>...</td>\n      <td>0.681818</td>\n      <td>0</td>\n      <td>1.939345</td>\n      <td>0</td>\n      <td>0</td>\n      <td>1199</td>\n      <td>0.000362</td>\n      <td>1.697747</td>\n      <td>20.293415</td>\n      <td>1199</td>\n    </tr>\n    <tr>\n      <th>3</th>\n      <td>sensimarked[dxp-0.7]&lt;ATKsensireplaced[dxp-0.2]</td>\n      <td>finished</td>\n      <td>-</td>\n      <td>ymx10086</td>\n      <td>NaN</td>\n      <td>2024-03-25T07:39:21.000Z</td>\n      <td>7386</td>\n      <td>NaN</td>\n      <td>True</td>\n      <td>6</td>\n      <td>...</td>\n      <td>0.651163</td>\n      <td>0</td>\n      <td>1.939345</td>\n      <td>0</td>\n      <td>0</td>\n      <td>1199</td>\n      <td>0.000362</td>\n      <td>1.697747</td>\n      <td>20.293415</td>\n      <td>1199</td>\n    </tr>\n    <tr>\n      <th>4</th>\n      <td>sensimarked[dxp-0.7]&lt;ATKsensireplaced[dxp-0.0]</td>\n      <td>finished</td>\n      <td>-</td>\n      <td>ymx10086</td>\n      <td>NaN</td>\n      <td>2024-03-25T05:32:44.000Z</td>\n      <td>7544</td>\n      <td>NaN</td>\n      <td>True</td>\n      <td>6</td>\n      <td>...</td>\n      <td>0.697674</td>\n      <td>0</td>\n      <td>1.939345</td>\n      <td>0</td>\n      <td>0</td>\n      <td>1199</td>\n      <td>0.000362</td>\n      <td>1.697747</td>\n      <td>20.293415</td>\n      <td>1199</td>\n    </tr>\n    <tr>\n      <th>5</th>\n      <td>sensimarked[dxp-0.5]&lt;ATKsensireplaced[dxp-0.8]</td>\n      <td>finished</td>\n      <td>-</td>\n      <td>ymx10086</td>\n      <td>NaN</td>\n      <td>2024-03-25T00:19:34.000Z</td>\n      <td>6438</td>\n      <td>NaN</td>\n      <td>True</td>\n      <td>6</td>\n      <td>...</td>\n      <td>0.681818</td>\n      <td>0</td>\n      <td>1.984191</td>\n      <td>0</td>\n      <td>0</td>\n      <td>1199</td>\n      <td>0.000364</td>\n      <td>1.708591</td>\n      <td>22.241041</td>\n      <td>1199</td>\n    </tr>\n    <tr>\n      <th>6</th>\n      <td>sensimarked[dxp-0.5]&lt;ATKsensireplaced[dxp-0.6]</td>\n      <td>finished</td>\n      <td>-</td>\n      <td>ymx10086</td>\n      <td>NaN</td>\n      <td>2024-03-24T22:32:29.000Z</td>\n      <td>6394</td>\n      <td>NaN</td>\n      <td>True</td>\n      <td>6</td>\n      <td>...</td>\n      <td>0.666667</td>\n      <td>0</td>\n      <td>1.984191</td>\n      <td>0</td>\n      <td>0</td>\n      <td>1199</td>\n      <td>0.000364</td>\n      <td>1.708591</td>\n      <td>22.241041</td>\n      <td>1199</td>\n    </tr>\n    <tr>\n      <th>7</th>\n      <td>sensimarked[dxp-0.5]&lt;ATKsensireplaced[dxp-0.4]</td>\n      <td>finished</td>\n      <td>-</td>\n      <td>ymx10086</td>\n      <td>NaN</td>\n      <td>2024-03-24T20:46:18.000Z</td>\n      <td>6342</td>\n      <td>NaN</td>\n      <td>True</td>\n      <td>6</td>\n      <td>...</td>\n      <td>0.636364</td>\n      <td>0</td>\n      <td>1.984191</td>\n      <td>0</td>\n      <td>0</td>\n      <td>1199</td>\n      <td>0.000364</td>\n      <td>1.708591</td>\n      <td>22.241041</td>\n      <td>1199</td>\n    </tr>\n    <tr>\n      <th>8</th>\n      <td>sensimarked[dxp-0.5]&lt;ATKsensireplaced[dxp-0.2]</td>\n      <td>finished</td>\n      <td>-</td>\n      <td>ymx10086</td>\n      <td>NaN</td>\n      <td>2024-03-24T18:58:29.000Z</td>\n      <td>6442</td>\n      <td>NaN</td>\n      <td>True</td>\n      <td>6</td>\n      <td>...</td>\n      <td>0.636364</td>\n      <td>0</td>\n      <td>1.984191</td>\n      <td>0</td>\n      <td>0</td>\n      <td>1199</td>\n      <td>0.000364</td>\n      <td>1.708591</td>\n      <td>22.241041</td>\n      <td>1199</td>\n    </tr>\n    <tr>\n      <th>9</th>\n      <td>sensimarked[dxp-0.5]&lt;ATKsensireplaced[dxp-0.0]</td>\n      <td>finished</td>\n      <td>-</td>\n      <td>ymx10086</td>\n      <td>NaN</td>\n      <td>2024-03-24T17:11:25.000Z</td>\n      <td>6396</td>\n      <td>NaN</td>\n      <td>True</td>\n      <td>6</td>\n      <td>...</td>\n      <td>0.697674</td>\n      <td>0</td>\n      <td>1.984191</td>\n      <td>0</td>\n      <td>0</td>\n      <td>1199</td>\n      <td>0.000364</td>\n      <td>1.708591</td>\n      <td>22.241041</td>\n      <td>1199</td>\n    </tr>\n    <tr>\n      <th>10</th>\n      <td>sensimarked[dxp-0.3]&lt;ATKsensireplaced[dxp-0.8]</td>\n      <td>finished</td>\n      <td>-</td>\n      <td>ymx10086</td>\n      <td>NaN</td>\n      <td>2024-03-24T15:25:33.000Z</td>\n      <td>6324</td>\n      <td>NaN</td>\n      <td>True</td>\n      <td>6</td>\n      <td>...</td>\n      <td>0.651163</td>\n      <td>0</td>\n      <td>2.148181</td>\n      <td>0</td>\n      <td>0</td>\n      <td>1199</td>\n      <td>0.000419</td>\n      <td>1.859937</td>\n      <td>30.565199</td>\n      <td>1199</td>\n    </tr>\n    <tr>\n      <th>11</th>\n      <td>sensimarked[dxp-0.3]&lt;ATKsensireplaced[dxp-0.6]</td>\n      <td>finished</td>\n      <td>-</td>\n      <td>ymx10086</td>\n      <td>NaN</td>\n      <td>2024-03-24T12:16:12.000Z</td>\n      <td>6477</td>\n      <td>NaN</td>\n      <td>True</td>\n      <td>6</td>\n      <td>...</td>\n      <td>0.651163</td>\n      <td>0</td>\n      <td>2.148181</td>\n      <td>0</td>\n      <td>0</td>\n      <td>1199</td>\n      <td>0.000419</td>\n      <td>1.859937</td>\n      <td>30.565199</td>\n      <td>1199</td>\n    </tr>\n    <tr>\n      <th>12</th>\n      <td>sensimarked[dxp-0.3]&lt;ATKsensireplaced[dxp-0.4]</td>\n      <td>finished</td>\n      <td>-</td>\n      <td>ymx10086</td>\n      <td>NaN</td>\n      <td>2024-03-24T10:20:51.000Z</td>\n      <td>6894</td>\n      <td>NaN</td>\n      <td>True</td>\n      <td>6</td>\n      <td>...</td>\n      <td>0.681818</td>\n      <td>0</td>\n      <td>2.148181</td>\n      <td>0</td>\n      <td>0</td>\n      <td>1199</td>\n      <td>0.000419</td>\n      <td>1.859937</td>\n      <td>30.565199</td>\n      <td>1199</td>\n    </tr>\n    <tr>\n      <th>13</th>\n      <td>sensimarked[dxp-0.3]&lt;ATKsensireplaced[dxp-0.2]</td>\n      <td>finished</td>\n      <td>-</td>\n      <td>ymx10086</td>\n      <td>NaN</td>\n      <td>2024-03-24T07:20:45.000Z</td>\n      <td>6335</td>\n      <td>NaN</td>\n      <td>True</td>\n      <td>6</td>\n      <td>...</td>\n      <td>0.697674</td>\n      <td>0</td>\n      <td>2.148181</td>\n      <td>0</td>\n      <td>0</td>\n      <td>1199</td>\n      <td>0.000419</td>\n      <td>1.859937</td>\n      <td>30.565199</td>\n      <td>1199</td>\n    </tr>\n    <tr>\n      <th>14</th>\n      <td>sensimarked[dxp-0.3]&lt;ATKsensireplaced[dxp-0.0]</td>\n      <td>finished</td>\n      <td>-</td>\n      <td>ymx10086</td>\n      <td>NaN</td>\n      <td>2024-03-24T05:31:10.000Z</td>\n      <td>6544</td>\n      <td>NaN</td>\n      <td>True</td>\n      <td>6</td>\n      <td>...</td>\n      <td>0.651163</td>\n      <td>0</td>\n      <td>2.148181</td>\n      <td>0</td>\n      <td>0</td>\n      <td>1199</td>\n      <td>0.000419</td>\n      <td>1.859937</td>\n      <td>30.565199</td>\n      <td>1199</td>\n    </tr>\n  </tbody>\n</table>\n<p>15 rows × 76 columns</p>\n</div>"
     },
     "execution_count": 4,
     "metadata": {},
     "output_type": "execute_result"
    }
   ],
   "source": [],
   "metadata": {
    "collapsed": false,
    "pycharm": {
     "name": "#%%\n"
    }
   }
  },
  {
   "cell_type": "markdown",
   "source": [],
   "metadata": {
    "collapsed": false,
    "pycharm": {
     "name": "#%% md\n"
    }
   }
  },
  {
   "cell_type": "code",
   "execution_count": 12,
   "outputs": [],
   "source": [],
   "metadata": {
    "collapsed": false,
    "pycharm": {
     "name": "#%%\n"
    }
   }
  }
 ],
 "metadata": {
  "kernelspec": {
   "display_name": "Python 3",
   "language": "python",
   "name": "python3"
  },
  "language_info": {
   "codemirror_mode": {
    "name": "ipython",
    "version": 2
   },
   "file_extension": ".py",
   "mimetype": "text/x-python",
   "name": "python",
   "nbconvert_exporter": "python",
   "pygments_lexer": "ipython2",
   "version": "2.7.6"
  }
 },
 "nbformat": 4,
 "nbformat_minor": 0
}