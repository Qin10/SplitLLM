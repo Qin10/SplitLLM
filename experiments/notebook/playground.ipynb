{
 "cells": [
  {
   "cell_type": "code",
   "execution_count": 5,
   "outputs": [
    {
     "ename": "ModuleNotFoundError",
     "evalue": "No module named 'sfl'",
     "output_type": "error",
     "traceback": [
      "\u001B[0;31m---------------------------------------------------------------------------\u001B[0m",
      "\u001B[0;31mModuleNotFoundError\u001B[0m                       Traceback (most recent call last)",
      "Cell \u001B[0;32mIn[5], line 5\u001B[0m\n\u001B[1;32m      2\u001B[0m \u001B[38;5;28;01mimport\u001B[39;00m \u001B[38;5;21;01msys\u001B[39;00m\n\u001B[1;32m      4\u001B[0m sys\u001B[38;5;241m.\u001B[39mpath\u001B[38;5;241m.\u001B[39mappend(os\u001B[38;5;241m.\u001B[39mpath\u001B[38;5;241m.\u001B[39mabspath(\u001B[38;5;124m'\u001B[39m\u001B[38;5;124m../..\u001B[39m\u001B[38;5;124m'\u001B[39m))\n\u001B[0;32m----> 5\u001B[0m \u001B[38;5;28;01mfrom\u001B[39;00m \u001B[38;5;21;01msfl\u001B[39;00m\u001B[38;5;21;01m.\u001B[39;00m\u001B[38;5;21;01mconfig\u001B[39;00m \u001B[38;5;28;01mimport\u001B[39;00m FLConfig\n\u001B[1;32m      6\u001B[0m \u001B[38;5;28;01mimport\u001B[39;00m \u001B[38;5;21;01margparse\u001B[39;00m\n\u001B[1;32m      8\u001B[0m config \u001B[38;5;241m=\u001B[39m FLConfig(\n\u001B[1;32m      9\u001B[0m     collect_intermediates\u001B[38;5;241m=\u001B[39m\u001B[38;5;28;01mFalse\u001B[39;00m,\n\u001B[1;32m     10\u001B[0m     global_round\u001B[38;5;241m=\u001B[39m\u001B[38;5;241m10\u001B[39m,\n\u001B[0;32m   (...)\u001B[0m\n\u001B[1;32m     20\u001B[0m     client_steps\u001B[38;5;241m=\u001B[39m\u001B[38;5;241m700\u001B[39m\n\u001B[1;32m     21\u001B[0m )\n",
      "\u001B[0;31mModuleNotFoundError\u001B[0m: No module named 'sfl'"
     ]
    }
   ],
   "source": [
    "import os\n",
    "import sys\n",
    "\n",
    "sys.path.append(os.path.abspath('../..'))\n",
    "from sfl.config import FLConfig\n",
    "import argparse\n",
    "\n",
    "config = FLConfig(\n",
    "    collect_intermediates=False,\n",
    "    global_round=10,\n",
    "    client_evaluate_freq=500,\n",
    "    client_epoch=1,  # 每轮联邦每个Client训2轮\n",
    "    split_point_1=6,\n",
    "    split_point_2=30,  # [0,1 | 2,3,.... 29| 30, 31]\n",
    "    use_lora_at_trunk=True,  # 在trunk部分使用LoRA\n",
    "    use_lora_at_top=True,\n",
    "    use_lora_at_bottom=False,\n",
    "    top_and_bottom_from_scratch='True',\n",
    "    attack_mode='b2tr',\n",
    "    client_steps=700\n",
    ")\n",
    "\n",
    "args = {\n",
    "    'dataset_train_frac': 1.0,\n",
    "    'dataset_test_frac': 0.1,\n",
    "    'dataset': 'piqa',\n",
    "    'model_name': 'llama2',\n",
    "    'save_checkpoint': True,\n",
    "    'task_type': 'lm',\n",
    "    'attacker_freq': 10,\n",
    "    'attacker_samples':2,\n",
    "    'log_to_wandb': False\n",
    "}\n",
    "# convert to namespace\n",
    "args = argparse.Namespace(**args)"
   ],
   "metadata": {
    "collapsed": false,
    "pycharm": {
     "name": "#%%\n"
    }
   }
  },
  {
   "cell_type": "code",
   "execution_count": 1,
   "outputs": [
    {
     "ename": "ModuleNotFoundError",
     "evalue": "No module named 'sfl'",
     "output_type": "error",
     "traceback": [
      "\u001B[0;31m---------------------------------------------------------------------------\u001B[0m",
      "\u001B[0;31mModuleNotFoundError\u001B[0m                       Traceback (most recent call last)",
      "Cell \u001B[0;32mIn[1], line 1\u001B[0m\n\u001B[0;32m----> 1\u001B[0m \u001B[38;5;28;01mfrom\u001B[39;00m \u001B[38;5;21;01msfl\u001B[39;00m\u001B[38;5;21;01m.\u001B[39;00m\u001B[38;5;21;01mconfig\u001B[39;00m \u001B[38;5;28;01mimport\u001B[39;00m DRAConfig\n\u001B[1;32m      2\u001B[0m \u001B[38;5;28;01mfrom\u001B[39;00m \u001B[38;5;21;01msfl\u001B[39;00m\u001B[38;5;21;01m.\u001B[39;00m\u001B[38;5;21;01mutils\u001B[39;00m\u001B[38;5;21;01m.\u001B[39;00m\u001B[38;5;21;01mexp\u001B[39;00m \u001B[38;5;28;01mimport\u001B[39;00m get_dra_attacker\n\u001B[1;32m      4\u001B[0m atk_cfg \u001B[38;5;241m=\u001B[39m DRAConfig(target_model_name\u001B[38;5;241m=\u001B[39m\u001B[38;5;124m'\u001B[39m\u001B[38;5;124mllama2\u001B[39m\u001B[38;5;124m'\u001B[39m, target_dataset\u001B[38;5;241m=\u001B[39m\u001B[38;5;124m'\u001B[39m\u001B[38;5;124msanitized\u001B[39m\u001B[38;5;124m'\u001B[39m, target_sps\u001B[38;5;241m=\u001B[39m\u001B[38;5;124m'\u001B[39m\u001B[38;5;124m6-6\u001B[39m\u001B[38;5;124m'\u001B[39m, train_label\u001B[38;5;241m=\u001B[39m\u001B[38;5;124m'\u001B[39m\u001B[38;5;124mval\u001B[39m\u001B[38;5;124m'\u001B[39m, target_model_load_bits\u001B[38;5;241m=\u001B[39m\u001B[38;5;241m4\u001B[39m)\n",
      "\u001B[0;31mModuleNotFoundError\u001B[0m: No module named 'sfl'"
     ]
    }
   ],
   "source": [
    "from sfl.config import DRAConfig\n",
    "from sfl.utils.exp import get_dra_attacker\n",
    "\n",
    "atk_cfg = DRAConfig(target_model_name='llama2', target_dataset='sanitized', target_sps='6-6', train_label='val', target_model_load_bits=4)\n",
    "atk, _ = get_dra_attacker(atk_cfg)"
   ],
   "metadata": {
    "collapsed": false,
    "pycharm": {
     "name": "#%%\n"
    }
   }
  },
  {
   "cell_type": "markdown",
   "source": [],
   "metadata": {
    "collapsed": false,
    "pycharm": {
     "name": "#%% md\n"
    }
   }
  },
  {
   "cell_type": "code",
   "execution_count": null,
   "outputs": [],
   "source": [
    "\n",
    "from transformers import AdamW\n",
    "from sfl.utils.model import evaluate_attacker_rouge\n",
    "from sfl.utils.exp import get_dataset_class\n",
    "from tqdm import tqdm_notebook\n",
    "\n",
    "client_ids = ['0']\n",
    "\n",
    "dataset_cls = get_dataset_class('sanitized')\n",
    "dataset = dataset_cls(tokenizer=tokenizer, client_ids=client_ids)\n",
    "test_loader = dataset.get_dataloader_unsliced(2, 'train', shrink_frac=0.2)\n",
    "\n",
    "avg_rouge = 0\n",
    "avg_rouge_dlg = 0\n",
    "step = 0\n",
    "opt = AdamW(model.parameters(), lr=1e-5)\n",
    "config.noise_mode = 'dxp'\n",
    "config.noise_scale = 1000.0\n",
    "model.config_sfl(config)\n",
    "\n",
    "dlg.to(model.device)\n",
    "atk.to(model.device)\n",
    "with tqdm_notebook(total=len(test_loader)) as pbar:\n",
    "  for batch in test_loader:\n",
    "    opt.zero_grad()\n",
    "    input_ids = batch['input_ids'].to(model.device)\n",
    "    o1 = model(input_ids, batch['input_att_mask'].to(model.device), labels=input_ids)\n",
    "    # o2 = dlg(tr2t.fx.to(model.device))\n",
    "    # print(o1)\n",
    "    o1.loss.backward()\n",
    "    b2tr, tr2t, all = model.get_all_inter()\n",
    "    opt.step()\n",
    "    pred = atk(b2tr.fx.to(model.device))\n",
    "    # print(batch['input_text'][0])\n",
    "    gt = dlg.fit(tr2t.fx.to(model.device), tr2t.grad.to(model.device), epochs=20, gt_init=pred)\n",
    "    # gt_texts = [tokenizer.decode(g.argmax(-1), skip_special_tokens=True) for g in gt]\n",
    "    avg_rouge += evaluate_attacker_rouge(tokenizer, pred, batch)['rouge-l']['f']\n",
    "    avg_rouge_dlg += evaluate_attacker_rouge(tokenizer, gt, batch)['rouge-l']['f']\n",
    "    step += 1\n",
    "    pbar.set_postfix({'dra_rouge': avg_rouge / step, 'dlg_rouge':avg_rouge_dlg/step})\n",
    "    pbar.update()\n"
   ],
   "metadata": {
    "collapsed": false,
    "pycharm": {
     "name": "#%%\n"
    }
   }
  },
  {
   "cell_type": "code",
   "execution_count": null,
   "outputs": [],
   "source": [
    "from sfl.utils.exp import add_sfl_params\n",
    "import argparse\n",
    "from typing import Any\n",
    "from sfl.utils.model import Intermediate\n",
    "from sfl.simulator.strategy import BaseSFLStrategy\n",
    "from sfl.simulator.simulator import SFLSimulator\n",
    "\n",
    "parser = argparse.ArgumentParser()\n",
    "add_sfl_params(parser)\n",
    "args = parser.parse_args({})\n",
    "\n",
    "args.log_to_wandb = False\n",
    "args.dlg_epochs = 30\n",
    "args.dlg_init_with_dra = True\n",
    "\n",
    "# 定义Client本地学习策略\n",
    "class QAFLStrategy(BaseSFLStrategy):\n",
    "\n",
    "\n",
    "    def sample_attacker_triggered(self, global_round, client_id, local_epoch, local_step,\n",
    "                                  b2tr_inter: Intermediate, tr2t_inter: Intermediate,\n",
    "                                  all_inter: dict[Any, Intermediate],\n",
    "                                  batch, logs):\n",
    "        encoder_inter = all_inter.get('encoder', None)\n",
    "        with torch.no_grad():\n",
    "            for type, atk in zip(['b2tr', 'tr2t'], [self.dra1, self.dra2]):\n",
    "                if atk is None:\n",
    "                    continue\n",
    "                atk.to(self.simulator.device)\n",
    "                inter = b2tr_inter if type == 'b2tr' else tr2t_inter\n",
    "                if self.llm.type == 'encoder-decoder':\n",
    "                    attacked = atk(torch.concat([encoder_inter.fx.to(\n",
    "                        self.simulator.device), inter.fx.to(atk.device)], dim=1))\n",
    "                else:\n",
    "                    attacked = atk(inter.fx.to(atk.device))\n",
    "                rouge_res = calculate_rouge(self.tokenizer, attacked, batch['input_text'])\n",
    "                self.log_to_sample_result(client_id, f'attacker_{type}', rouge_res['rouge-l']['f'])\n",
    "                self.log_to_all_result(client_id, f'attacker_{type}', rouge_res['rouge-l']['f'])\n",
    "                logs[f'attacker_{type}_step'] = rouge_res['rouge-l']['f']\n",
    "        gt_init = None\n",
    "        if self.args.dlg_init_with_dra:\n",
    "            gt_init = attacked\n",
    "        self.dlg.to(self.simulator.device)\n",
    "        gt = self.dlg.fit(tr2t_inter.fx.to(self.simulator.device), tr2t_inter.grad.to(self.simulator.device),\n",
    "                          epochs=self.args.dlg_epochs,\n",
    "                          adjust=False,\n",
    "                          beta=self.args.dlg_beta,\n",
    "                          gt_init=gt_init,\n",
    "                          gt_reg=self.args.dlg_dra_reg,\n",
    "                          temp_range=self.args.dlg_temp_range,\n",
    "                          further_ft=self.args.dlg_further_ft,\n",
    "                          encoder_inter=None if encoder_inter is None else encoder_inter.fx.to(\n",
    "                              self.simulator.device)\n",
    "                          )\n",
    "        if self.llm.type == 'encoder-decoder':\n",
    "            # replace the latter half of attacked to gt\n",
    "            attacked[:, -gt.shape[1]:, :] = gt\n",
    "            rouge = calculate_rouge(self.tokenizer, attacked, batch['input_text'])\n",
    "        else:\n",
    "            rouge = calculate_rouge(self.tokenizer, gt, batch['input_text'])\n",
    "        self.log_to_sample_result(client_id, 'tag_rouge_lf', rouge['rouge-l']['f'])\n",
    "        self.log_to_all_result(client_id, 'tag_rouge_lf', rouge['rouge-l']['f'])\n",
    "        print(self.attack_all_performs)\n",
    "\n",
    "\n",
    "\n",
    "simulator = SFLSimulator(client_ids=client_ids,\n",
    "                             strategy=QAFLStrategy(args, model, tokenizer, test_loader, atk, None,dlg),\n",
    "                             llm=model,\n",
    "                             tokenizer=tokenizer,\n",
    "                             dataset=dataset, config=config, args=args)"
   ],
   "metadata": {
    "collapsed": false,
    "pycharm": {
     "name": "#%%\n"
    }
   }
  },
  {
   "cell_type": "code",
   "execution_count": null,
   "outputs": [],
   "source": [
    "simulator.simulate()"
   ],
   "metadata": {
    "collapsed": false,
    "pycharm": {
     "name": "#%%\n"
    }
   }
  },
  {
   "cell_type": "markdown",
   "source": [
    "# 生成SensMarked数据集"
   ],
   "metadata": {
    "collapsed": false,
    "pycharm": {
     "name": "#%% md\n"
    }
   }
  },
  {
   "cell_type": "code",
   "execution_count": 7,
   "outputs": [],
   "source": [
    "import pandas as pd\n",
    "raw = pd.read_csv('/home/project/SFL-LLM/sanitized_data.csv')"
   ],
   "metadata": {
    "collapsed": false,
    "pycharm": {
     "name": "#%%\n"
    }
   }
  },
  {
   "cell_type": "code",
   "execution_count": 8,
   "outputs": [
    {
     "data": {
      "text/plain": "                                              sani_label  \\\n0      <PERSON> attended the press conference to rais...   \n1      The <DATE>, who joined from <ORG> for £<MONEY>...   \n2      <ORG> slipped to 47-4 but <PERSON> led a recov...   \n3      <ORG> have  agreed a deal to loan <NORP> inter...   \n4      The <DATE> announced the ban after scoring in ...   \n...                                                  ...   \n19660  The <NORP> champions take on the <NORP> in <GP...   \n19661  (<ORG>) -- He's the king of cool but <GPE> sno...   \n19662  <PERSON>, <DATE>, is a doubt for <ORG>' Six Na...   \n19663  (CNN)Eight crew members are missing after a ca...   \n19664  By . <PERSON> . An expensive delicacy, most pe...   \n\n                                        sani_label_trans  \\\n0      <PERSON>参加了新闻发布会，他对比赛官员<PERSON>提出了关切，而不是派遣教练<P...   \n1      这位于<DATE>从<ORG>以£<MONEY>的价格加盟的球员，曾在<DATE>为<ORG...   \n2      <ORG>滑到了47-4，但<PERSON>以96分不出的成绩带领球队恢复了局面。<PERS...   \n3      <ORG>已经同意将<NORP>国际后卫<PERSON>租借给陷入困境的<ORG>，俱乐部已...   \n4      <DATE>在<PERSON>在球队3-0的世界杯预选赛胜利后得分后宣布了禁令。一份广播报道...   \n...                                                  ...   \n19660  <NORP>冠军将在<GPE>的比赛中迎战<NORP>，他们希望能够锁定一个晋级八强的名额。...   \n19661  (<ORG>) - 他是酷的王者，但<GPE>滑雪板明星<PERSON>不会在索契<DATE...   \n19662  <PERSON>，<DATE>，在对阵<GPE>的六国赛比赛中因脚踝受伤而一瘸一拐地离场。在...   \n19663  (CNN)据<ORG>报道，一艘货船在<GPE>海岸翻覆后，8名船员失踪。<ORG>表示，搜...   \n19664  由<PERSON>。一种昂贵的美味，大多数人不喜欢看到好的龙虾被浪费。但是一位厨师更进一步，...   \n\n                                                  entity  \\\n0      ['Chris Kendall', 'Widnes', 'today', 'Monday',...   \n1      ['Derby', 'a great season', '3', 'Curtis Davie...   \n2      ['Lewis Hill', 'Leicestershire', 'Ned Eckersle...   \n3      ['Spartak Moscow', 'Italian', 'Milan', 'Sparta...   \n4      ['Argentina', 'Colombia', 'Lavezzi', 'Ezequiel...   \n...                                                  ...   \n19660  ['South Korea', 'Africa', 'Costa Rica', '[Jurg...   \n19661  ['Norway', 'Team USA', 'Finnish', 'U.S.', 'Tue...   \n19662  ['Sunday', 'Wales', 'Priestland', 'Ireland', '...   \n19663  ['Sunday', 'England', 'RNLI', 'Southampton', '...   \n19664  ['Jennifer Smith', 'Huang', 'Huang Mingbo', 'F...   \n\n                                                 content  \\\n0      Beaumont attended the press conference to rais...   \n1      The 24-year-old, who joined from Liverpool for...   \n2      Derbyshire slipped to 47-4 but Alex Hughes led...   \n3      Spartak Moscow have  agreed a deal to loan Ita...   \n4      The 29-year-old announced the ban after scorin...   \n...                                                  ...   \n19660  The African champions take on the Europeans in...   \n19661  (CNN) -- He's the king of cool but U.S. snowbo...   \n19662  Biggar, 26, is a doubt for Wales' Six Nations ...   \n19663  (CNN)Eight crew members are missing after a ca...   \n19664  By . Jennifer Smith . An expensive delicacy, m...   \n\n                                               sani_gpt4  \\\n0      John Smith attended the press conference to ra...   \n1      The 30-year-old, who joined from Manchester fo...   \n2      Yorkshire slipped to 47-4 but John Smith led a...   \n3      Barcelona FC have agreed a deal to loan Spanis...   \n4      The 35-year-old announced the ban after scorin...   \n...                                                  ...   \n19660  The Asian champions take on the Americans in T...   \n19661  (BBC) -- He's the emperor of cool but Canadian...   \n19662  Hudson, 32, is a doubt for France's Six Nation...   \n19663  (CNN)Eight crew members are missing after a ca...   \n19664  By . Emily Johnson . An expensive delicacy, mo...   \n\n                                         sani_gpt4_trans  \\\n0      约翰·史密斯参加了新闻发布会，向比赛官员迈克·约翰逊表达了他对比赛失利的担忧，而不是派遣教练...   \n1      这位30岁的球员上周以700万英镑的价格从曼彻斯特加盟，他在2018-2019赛季为公牛队出...   \n2      约克郡队在比赛中一度陷入47-4的困境，但约翰·史密斯以96分不出的表现带领球队实现了反弹。...   \n3      巴塞罗那足球俱乐部已经同意将西班牙国家队后卫亚历杭德罗·费尔南德斯租借给陷入困境的皇家马德里...   \n4      这位35岁的球员在秘鲁队以3-0的比分赢得世界杯预选赛后宣布禁赛。一则广播报道声称前锋卡洛斯...   \n...                                                  ...   \n19660  亚洲冠军将在日本东京与美国队对决，他们希望能够锁定一个晋级四分之一决赛的名额。村上（Mura...   \n19661  （BBC）-- 他是酷劲十足的皇帝，但加拿大滑雪板明星约翰·多伊将不会在东京2020年的令人...   \n19662  Hudson，32岁，在对阵西班牙的比赛中因脚踝受伤而退出，成为法国对阵意大利的六国赛比赛的...   \n19663  （CNN）国际海上救援联合会周五早上表示，一艘货船在爱尔兰海岸翻覆后，有八名船员失踪。海军和...   \n19664  由艾米莉·约翰逊报道。一种昂贵的美味，大多数人不喜欢看到好的龙虾被浪费。但一位厨师更进一步，...   \n\n                                              gpt4_trans  \n0      博蒙特参加了新闻发布会，向比赛官员克里斯·肯德尔表达了他对比赛失利的担忧，而不是派遣教练尼尔...  \n1      这位24岁的球员上个月以300万英镑的价格从利物浦加盟，他在2013-2014赛季为公羊队出...  \n2      德比郡队在比赛中一度陷入47-4的困境，但亚历克斯·休斯以96分不出的表现带领球队实现了反弹...  \n3      莫斯科斯巴达克同意将意大利国家队后卫萨尔瓦托雷·博凯蒂租借给陷入困境的AC米兰，俱乐部已经确...  \n4      这位29岁的球员在哥伦比亚队以3-0的比分赢得世界杯预选赛后宣布禁赛。一则广播报道声称前锋埃...  \n...                                                  ...  \n19660  非洲冠军将在韩国济州岛与欧洲队对决，他们希望能够锁定一个晋级四分之一决赛的名额。钱贝西（Ch...  \n19661  （CNN）-- 他是酷劲十足的国际滑雪板明星肖恩·怀特，但他将不会在索契2014年的令人生畏...  \n19662  Biggar，26岁，在对阵爱尔兰的比赛中因脚踝受伤而退出，成为威尔士对阵苏格兰的六国赛比赛...  \n19663  （CNN）周六晚间，英国皇家国家救生艇机构表示，一艘货船在苏格兰海岸翻覆后，有八名船员失踪。...  \n19664  由詹妮弗·史密斯报道。一种昂贵的美味，大多数人不喜欢看到好的龙虾被浪费。但一位厨师更进一步，...  \n\n[19665 rows x 7 columns]",
      "text/html": "<div>\n<style scoped>\n    .dataframe tbody tr th:only-of-type {\n        vertical-align: middle;\n    }\n\n    .dataframe tbody tr th {\n        vertical-align: top;\n    }\n\n    .dataframe thead th {\n        text-align: right;\n    }\n</style>\n<table border=\"1\" class=\"dataframe\">\n  <thead>\n    <tr style=\"text-align: right;\">\n      <th></th>\n      <th>sani_label</th>\n      <th>sani_label_trans</th>\n      <th>entity</th>\n      <th>content</th>\n      <th>sani_gpt4</th>\n      <th>sani_gpt4_trans</th>\n      <th>gpt4_trans</th>\n    </tr>\n  </thead>\n  <tbody>\n    <tr>\n      <th>0</th>\n      <td>&lt;PERSON&gt; attended the press conference to rais...</td>\n      <td>&lt;PERSON&gt;参加了新闻发布会，他对比赛官员&lt;PERSON&gt;提出了关切，而不是派遣教练&lt;P...</td>\n      <td>['Chris Kendall', 'Widnes', 'today', 'Monday',...</td>\n      <td>Beaumont attended the press conference to rais...</td>\n      <td>John Smith attended the press conference to ra...</td>\n      <td>约翰·史密斯参加了新闻发布会，向比赛官员迈克·约翰逊表达了他对比赛失利的担忧，而不是派遣教练...</td>\n      <td>博蒙特参加了新闻发布会，向比赛官员克里斯·肯德尔表达了他对比赛失利的担忧，而不是派遣教练尼尔...</td>\n    </tr>\n    <tr>\n      <th>1</th>\n      <td>The &lt;DATE&gt;, who joined from &lt;ORG&gt; for £&lt;MONEY&gt;...</td>\n      <td>这位于&lt;DATE&gt;从&lt;ORG&gt;以£&lt;MONEY&gt;的价格加盟的球员，曾在&lt;DATE&gt;为&lt;ORG...</td>\n      <td>['Derby', 'a great season', '3', 'Curtis Davie...</td>\n      <td>The 24-year-old, who joined from Liverpool for...</td>\n      <td>The 30-year-old, who joined from Manchester fo...</td>\n      <td>这位30岁的球员上周以700万英镑的价格从曼彻斯特加盟，他在2018-2019赛季为公牛队出...</td>\n      <td>这位24岁的球员上个月以300万英镑的价格从利物浦加盟，他在2013-2014赛季为公羊队出...</td>\n    </tr>\n    <tr>\n      <th>2</th>\n      <td>&lt;ORG&gt; slipped to 47-4 but &lt;PERSON&gt; led a recov...</td>\n      <td>&lt;ORG&gt;滑到了47-4，但&lt;PERSON&gt;以96分不出的成绩带领球队恢复了局面。&lt;PERS...</td>\n      <td>['Lewis Hill', 'Leicestershire', 'Ned Eckersle...</td>\n      <td>Derbyshire slipped to 47-4 but Alex Hughes led...</td>\n      <td>Yorkshire slipped to 47-4 but John Smith led a...</td>\n      <td>约克郡队在比赛中一度陷入47-4的困境，但约翰·史密斯以96分不出的表现带领球队实现了反弹。...</td>\n      <td>德比郡队在比赛中一度陷入47-4的困境，但亚历克斯·休斯以96分不出的表现带领球队实现了反弹...</td>\n    </tr>\n    <tr>\n      <th>3</th>\n      <td>&lt;ORG&gt; have  agreed a deal to loan &lt;NORP&gt; inter...</td>\n      <td>&lt;ORG&gt;已经同意将&lt;NORP&gt;国际后卫&lt;PERSON&gt;租借给陷入困境的&lt;ORG&gt;，俱乐部已...</td>\n      <td>['Spartak Moscow', 'Italian', 'Milan', 'Sparta...</td>\n      <td>Spartak Moscow have  agreed a deal to loan Ita...</td>\n      <td>Barcelona FC have agreed a deal to loan Spanis...</td>\n      <td>巴塞罗那足球俱乐部已经同意将西班牙国家队后卫亚历杭德罗·费尔南德斯租借给陷入困境的皇家马德里...</td>\n      <td>莫斯科斯巴达克同意将意大利国家队后卫萨尔瓦托雷·博凯蒂租借给陷入困境的AC米兰，俱乐部已经确...</td>\n    </tr>\n    <tr>\n      <th>4</th>\n      <td>The &lt;DATE&gt; announced the ban after scoring in ...</td>\n      <td>&lt;DATE&gt;在&lt;PERSON&gt;在球队3-0的世界杯预选赛胜利后得分后宣布了禁令。一份广播报道...</td>\n      <td>['Argentina', 'Colombia', 'Lavezzi', 'Ezequiel...</td>\n      <td>The 29-year-old announced the ban after scorin...</td>\n      <td>The 35-year-old announced the ban after scorin...</td>\n      <td>这位35岁的球员在秘鲁队以3-0的比分赢得世界杯预选赛后宣布禁赛。一则广播报道声称前锋卡洛斯...</td>\n      <td>这位29岁的球员在哥伦比亚队以3-0的比分赢得世界杯预选赛后宣布禁赛。一则广播报道声称前锋埃...</td>\n    </tr>\n    <tr>\n      <th>...</th>\n      <td>...</td>\n      <td>...</td>\n      <td>...</td>\n      <td>...</td>\n      <td>...</td>\n      <td>...</td>\n      <td>...</td>\n    </tr>\n    <tr>\n      <th>19660</th>\n      <td>The &lt;NORP&gt; champions take on the &lt;NORP&gt; in &lt;GP...</td>\n      <td>&lt;NORP&gt;冠军将在&lt;GPE&gt;的比赛中迎战&lt;NORP&gt;，他们希望能够锁定一个晋级八强的名额。...</td>\n      <td>['South Korea', 'Africa', 'Costa Rica', '[Jurg...</td>\n      <td>The African champions take on the Europeans in...</td>\n      <td>The Asian champions take on the Americans in T...</td>\n      <td>亚洲冠军将在日本东京与美国队对决，他们希望能够锁定一个晋级四分之一决赛的名额。村上（Mura...</td>\n      <td>非洲冠军将在韩国济州岛与欧洲队对决，他们希望能够锁定一个晋级四分之一决赛的名额。钱贝西（Ch...</td>\n    </tr>\n    <tr>\n      <th>19661</th>\n      <td>(&lt;ORG&gt;) -- He's the king of cool but &lt;GPE&gt; sno...</td>\n      <td>(&lt;ORG&gt;) - 他是酷的王者，但&lt;GPE&gt;滑雪板明星&lt;PERSON&gt;不会在索契&lt;DATE...</td>\n      <td>['Norway', 'Team USA', 'Finnish', 'U.S.', 'Tue...</td>\n      <td>(CNN) -- He's the king of cool but U.S. snowbo...</td>\n      <td>(BBC) -- He's the emperor of cool but Canadian...</td>\n      <td>（BBC）-- 他是酷劲十足的皇帝，但加拿大滑雪板明星约翰·多伊将不会在东京2020年的令人...</td>\n      <td>（CNN）-- 他是酷劲十足的国际滑雪板明星肖恩·怀特，但他将不会在索契2014年的令人生畏...</td>\n    </tr>\n    <tr>\n      <th>19662</th>\n      <td>&lt;PERSON&gt;, &lt;DATE&gt;, is a doubt for &lt;ORG&gt;' Six Na...</td>\n      <td>&lt;PERSON&gt;，&lt;DATE&gt;，在对阵&lt;GPE&gt;的六国赛比赛中因脚踝受伤而一瘸一拐地离场。在...</td>\n      <td>['Sunday', 'Wales', 'Priestland', 'Ireland', '...</td>\n      <td>Biggar, 26, is a doubt for Wales' Six Nations ...</td>\n      <td>Hudson, 32, is a doubt for France's Six Nation...</td>\n      <td>Hudson，32岁，在对阵西班牙的比赛中因脚踝受伤而退出，成为法国对阵意大利的六国赛比赛的...</td>\n      <td>Biggar，26岁，在对阵爱尔兰的比赛中因脚踝受伤而退出，成为威尔士对阵苏格兰的六国赛比赛...</td>\n    </tr>\n    <tr>\n      <th>19663</th>\n      <td>(CNN)Eight crew members are missing after a ca...</td>\n      <td>(CNN)据&lt;ORG&gt;报道，一艘货船在&lt;GPE&gt;海岸翻覆后，8名船员失踪。&lt;ORG&gt;表示，搜...</td>\n      <td>['Sunday', 'England', 'RNLI', 'Southampton', '...</td>\n      <td>(CNN)Eight crew members are missing after a ca...</td>\n      <td>(CNN)Eight crew members are missing after a ca...</td>\n      <td>（CNN）国际海上救援联合会周五早上表示，一艘货船在爱尔兰海岸翻覆后，有八名船员失踪。海军和...</td>\n      <td>（CNN）周六晚间，英国皇家国家救生艇机构表示，一艘货船在苏格兰海岸翻覆后，有八名船员失踪。...</td>\n    </tr>\n    <tr>\n      <th>19664</th>\n      <td>By . &lt;PERSON&gt; . An expensive delicacy, most pe...</td>\n      <td>由&lt;PERSON&gt;。一种昂贵的美味，大多数人不喜欢看到好的龙虾被浪费。但是一位厨师更进一步，...</td>\n      <td>['Jennifer Smith', 'Huang', 'Huang Mingbo', 'F...</td>\n      <td>By . Jennifer Smith . An expensive delicacy, m...</td>\n      <td>By . Emily Johnson . An expensive delicacy, mo...</td>\n      <td>由艾米莉·约翰逊报道。一种昂贵的美味，大多数人不喜欢看到好的龙虾被浪费。但一位厨师更进一步，...</td>\n      <td>由詹妮弗·史密斯报道。一种昂贵的美味，大多数人不喜欢看到好的龙虾被浪费。但一位厨师更进一步，...</td>\n    </tr>\n  </tbody>\n</table>\n<p>19665 rows × 7 columns</p>\n</div>"
     },
     "execution_count": 8,
     "metadata": {},
     "output_type": "execute_result"
    }
   ],
   "source": [
    "raw"
   ],
   "metadata": {
    "collapsed": false,
    "pycharm": {
     "name": "#%%\n"
    }
   }
  },
  {
   "cell_type": "code",
   "execution_count": 13,
   "outputs": [
    {
     "name": "stderr",
     "output_type": "stream",
     "text": [
      "/tmp/ipykernel_548089/1355228985.py:13: TqdmDeprecationWarning: This function will be removed in tqdm==5.0.0\n",
      "Please use `tqdm.notebook.tqdm` instead of `tqdm.tqdm_notebook`\n",
      "  for i, row in tqdm_notebook(raw.iterrows(), total=len(raw)):\n"
     ]
    },
    {
     "data": {
      "text/plain": "  0%|          | 0/19665 [00:00<?, ?it/s]",
      "application/vnd.jupyter.widget-view+json": {
       "version_major": 2,
       "version_minor": 0,
       "model_id": "3badd7f1c59e49ed9757fdaa0256b611"
      }
     },
     "metadata": {},
     "output_type": "display_data"
    }
   ],
   "source": [
    "import re\n",
    "import ast\n",
    "from tqdm import tqdm_notebook\n",
    "\n",
    "import pandas as pd\n",
    "raw = pd.read_csv('/home/project/SFL-LLM/sanitized_data.csv')\n",
    "# take only 'content' and 'entity'\n",
    "raw = raw[['content', 'entity', 'sani_gpt4','sani_label']]\n",
    "\n",
    "\n",
    "marked_content = []\n",
    "\n",
    "for i, row in tqdm_notebook(raw.iterrows(), total=len(raw)):\n",
    "    # get the content and entity\n",
    "    data = {}\n",
    "    content = row['content']\n",
    "    entity = row['entity']\n",
    "    data['sentence'] = content\n",
    "    # print(entity)\n",
    "    entity = ast.literal_eval(entity)\n",
    "    replaced_places = []\n",
    "    for e in entity:\n",
    "        indexes = [(m.start(), m.end()) for m in re.finditer(re.escape(e), content)]\n",
    "        for idx in indexes:\n",
    "            if any([idx[0] > r[0] and idx[1] < r[1] for r in replaced_places]):\n",
    "                continue\n",
    "            content = content[:idx[0]] + '<P>' + content[idx[0]:idx[1]] + '<\\P>' + content[idx[1]:]\n",
    "            replaced_places.append(idx)\n",
    "    marked_content.append(content)\n",
    "\n",
    "df = pd.DataFrame(marked_content, columns=['marked_content'])\n",
    "new = pd.concat([raw, df], axis=1)"
   ],
   "metadata": {
    "collapsed": false,
    "pycharm": {
     "name": "#%%\n"
    }
   }
  },
  {
   "cell_type": "code",
   "execution_count": 14,
   "outputs": [],
   "source": [
    "# split the dataset\n",
    "type_labels = ['train'] * len(new)\n",
    "# randomly select 20% indexes\n",
    "all_indexes = list(range(len(new)))\n",
    "import random\n",
    "\n",
    "test_indexes = random.sample(all_indexes, int(len(new) * 0.25))\n",
    "for i in test_indexes:\n",
    "    type_labels[i] = 'test'\n",
    "\n",
    "all_indexes = list(set(all_indexes) - set(test_indexes))\n",
    "val_indexes = random.sample(all_indexes, int(len(new) * 0.15))\n",
    "for i in val_indexes:\n",
    "    type_labels[i] = 'validation'\n",
    "\n",
    "# make type_labels to dataframe and concat it with the original dataframe\n",
    "df = pd.DataFrame(type_labels, columns=['type'])\n",
    "# concat it with new\n",
    "new = pd.concat([new, df], axis=1)"
   ],
   "metadata": {
    "collapsed": false,
    "pycharm": {
     "name": "#%%\n"
    }
   }
  },
  {
   "cell_type": "code",
   "execution_count": 16,
   "outputs": [],
   "source": [
    "new.to_csv('/home/project/SFL-LLM/sensi.csv', index=False)"
   ],
   "metadata": {
    "collapsed": false,
    "pycharm": {
     "name": "#%%\n"
    }
   }
  },
  {
   "cell_type": "markdown",
   "source": [],
   "metadata": {
    "collapsed": false,
    "pycharm": {
     "name": "#%% md\n"
    }
   }
  },
  {
   "cell_type": "code",
   "execution_count": null,
   "outputs": [],
   "source": [],
   "metadata": {
    "collapsed": false,
    "pycharm": {
     "name": "#%%\n"
    }
   }
  },
  {
   "cell_type": "code",
   "execution_count": 15,
   "outputs": [
    {
     "data": {
      "text/plain": "                                                 content  \\\n0      Beaumont attended the press conference to rais...   \n1      The 24-year-old, who joined from Liverpool for...   \n2      Derbyshire slipped to 47-4 but Alex Hughes led...   \n3      Spartak Moscow have  agreed a deal to loan Ita...   \n4      The 29-year-old announced the ban after scorin...   \n...                                                  ...   \n19660  The African champions take on the Europeans in...   \n19661  (CNN) -- He's the king of cool but U.S. snowbo...   \n19662  Biggar, 26, is a doubt for Wales' Six Nations ...   \n19663  (CNN)Eight crew members are missing after a ca...   \n19664  By . Jennifer Smith . An expensive delicacy, m...   \n\n                                                  entity  \\\n0      ['Chris Kendall', 'Widnes', 'today', 'Monday',...   \n1      ['Derby', 'a great season', '3', 'Curtis Davie...   \n2      ['Lewis Hill', 'Leicestershire', 'Ned Eckersle...   \n3      ['Spartak Moscow', 'Italian', 'Milan', 'Sparta...   \n4      ['Argentina', 'Colombia', 'Lavezzi', 'Ezequiel...   \n...                                                  ...   \n19660  ['South Korea', 'Africa', 'Costa Rica', '[Jurg...   \n19661  ['Norway', 'Team USA', 'Finnish', 'U.S.', 'Tue...   \n19662  ['Sunday', 'Wales', 'Priestland', 'Ireland', '...   \n19663  ['Sunday', 'England', 'RNLI', 'Southampton', '...   \n19664  ['Jennifer Smith', 'Huang', 'Huang Mingbo', 'F...   \n\n                                               sani_gpt4  \\\n0      John Smith attended the press conference to ra...   \n1      The 30-year-old, who joined from Manchester fo...   \n2      Yorkshire slipped to 47-4 but John Smith led a...   \n3      Barcelona FC have agreed a deal to loan Spanis...   \n4      The 35-year-old announced the ban after scorin...   \n...                                                  ...   \n19660  The Asian champions take on the Americans in T...   \n19661  (BBC) -- He's the emperor of cool but Canadian...   \n19662  Hudson, 32, is a doubt for France's Six Nation...   \n19663  (CNN)Eight crew members are missing after a ca...   \n19664  By . Emily Johnson . An expensive delicacy, mo...   \n\n                                              sani_label  \\\n0      <PERSON> attended the press conference to rais...   \n1      The <DATE>, who joined from <ORG> for £<MONEY>...   \n2      <ORG> slipped to 47-4 but <PERSON> led a recov...   \n3      <ORG> have  agreed a deal to loan <NORP> inter...   \n4      The <DATE> announced the ban after scoring in ...   \n...                                                  ...   \n19660  The <NORP> champions take on the <NORP> in <GP...   \n19661  (<ORG>) -- He's the king of cool but <GPE> sno...   \n19662  <PERSON>, <DATE>, is a doubt for <ORG>' Six Na...   \n19663  (CNN)Eight crew members are missing after a ca...   \n19664  By . <PERSON> . An expensive delicacy, most pe...   \n\n                                          marked_content        type  \n0      <P>Beaumont<\\P> attended the press conference ...       train  \n1      The <P>24-year-old<\\P>, who joined from <P>Liv...        test  \n2      <P>Derbyshire<\\P> slipped to 47-4 but Alex <P>...       train  \n3      <P>Spartak Moscow<\\P> have  agreed a deal to l...       train  \n4      The <P>29-year-old<\\P> announced the ban after...  validation  \n...                                                  ...         ...  \n19660  The <P>Africa<\\P>n champions take on the <P>Eu...       train  \n19661  (<P>CNN<\\P>) -- He's the king of cool but <P>U...        test  \n19662  <P>Biggar<\\P>, <P>26<\\P>, is a doubt for <P>Wa...        test  \n19663  (CNN)Eight crew members are missing after a ca...       train  \n19664  By . <P>Jennifer Smith<\\P> . An expensive deli...       train  \n\n[19665 rows x 6 columns]",
      "text/html": "<div>\n<style scoped>\n    .dataframe tbody tr th:only-of-type {\n        vertical-align: middle;\n    }\n\n    .dataframe tbody tr th {\n        vertical-align: top;\n    }\n\n    .dataframe thead th {\n        text-align: right;\n    }\n</style>\n<table border=\"1\" class=\"dataframe\">\n  <thead>\n    <tr style=\"text-align: right;\">\n      <th></th>\n      <th>content</th>\n      <th>entity</th>\n      <th>sani_gpt4</th>\n      <th>sani_label</th>\n      <th>marked_content</th>\n      <th>type</th>\n    </tr>\n  </thead>\n  <tbody>\n    <tr>\n      <th>0</th>\n      <td>Beaumont attended the press conference to rais...</td>\n      <td>['Chris Kendall', 'Widnes', 'today', 'Monday',...</td>\n      <td>John Smith attended the press conference to ra...</td>\n      <td>&lt;PERSON&gt; attended the press conference to rais...</td>\n      <td>&lt;P&gt;Beaumont&lt;\\P&gt; attended the press conference ...</td>\n      <td>train</td>\n    </tr>\n    <tr>\n      <th>1</th>\n      <td>The 24-year-old, who joined from Liverpool for...</td>\n      <td>['Derby', 'a great season', '3', 'Curtis Davie...</td>\n      <td>The 30-year-old, who joined from Manchester fo...</td>\n      <td>The &lt;DATE&gt;, who joined from &lt;ORG&gt; for £&lt;MONEY&gt;...</td>\n      <td>The &lt;P&gt;24-year-old&lt;\\P&gt;, who joined from &lt;P&gt;Liv...</td>\n      <td>test</td>\n    </tr>\n    <tr>\n      <th>2</th>\n      <td>Derbyshire slipped to 47-4 but Alex Hughes led...</td>\n      <td>['Lewis Hill', 'Leicestershire', 'Ned Eckersle...</td>\n      <td>Yorkshire slipped to 47-4 but John Smith led a...</td>\n      <td>&lt;ORG&gt; slipped to 47-4 but &lt;PERSON&gt; led a recov...</td>\n      <td>&lt;P&gt;Derbyshire&lt;\\P&gt; slipped to 47-4 but Alex &lt;P&gt;...</td>\n      <td>train</td>\n    </tr>\n    <tr>\n      <th>3</th>\n      <td>Spartak Moscow have  agreed a deal to loan Ita...</td>\n      <td>['Spartak Moscow', 'Italian', 'Milan', 'Sparta...</td>\n      <td>Barcelona FC have agreed a deal to loan Spanis...</td>\n      <td>&lt;ORG&gt; have  agreed a deal to loan &lt;NORP&gt; inter...</td>\n      <td>&lt;P&gt;Spartak Moscow&lt;\\P&gt; have  agreed a deal to l...</td>\n      <td>train</td>\n    </tr>\n    <tr>\n      <th>4</th>\n      <td>The 29-year-old announced the ban after scorin...</td>\n      <td>['Argentina', 'Colombia', 'Lavezzi', 'Ezequiel...</td>\n      <td>The 35-year-old announced the ban after scorin...</td>\n      <td>The &lt;DATE&gt; announced the ban after scoring in ...</td>\n      <td>The &lt;P&gt;29-year-old&lt;\\P&gt; announced the ban after...</td>\n      <td>validation</td>\n    </tr>\n    <tr>\n      <th>...</th>\n      <td>...</td>\n      <td>...</td>\n      <td>...</td>\n      <td>...</td>\n      <td>...</td>\n      <td>...</td>\n    </tr>\n    <tr>\n      <th>19660</th>\n      <td>The African champions take on the Europeans in...</td>\n      <td>['South Korea', 'Africa', 'Costa Rica', '[Jurg...</td>\n      <td>The Asian champions take on the Americans in T...</td>\n      <td>The &lt;NORP&gt; champions take on the &lt;NORP&gt; in &lt;GP...</td>\n      <td>The &lt;P&gt;Africa&lt;\\P&gt;n champions take on the &lt;P&gt;Eu...</td>\n      <td>train</td>\n    </tr>\n    <tr>\n      <th>19661</th>\n      <td>(CNN) -- He's the king of cool but U.S. snowbo...</td>\n      <td>['Norway', 'Team USA', 'Finnish', 'U.S.', 'Tue...</td>\n      <td>(BBC) -- He's the emperor of cool but Canadian...</td>\n      <td>(&lt;ORG&gt;) -- He's the king of cool but &lt;GPE&gt; sno...</td>\n      <td>(&lt;P&gt;CNN&lt;\\P&gt;) -- He's the king of cool but &lt;P&gt;U...</td>\n      <td>test</td>\n    </tr>\n    <tr>\n      <th>19662</th>\n      <td>Biggar, 26, is a doubt for Wales' Six Nations ...</td>\n      <td>['Sunday', 'Wales', 'Priestland', 'Ireland', '...</td>\n      <td>Hudson, 32, is a doubt for France's Six Nation...</td>\n      <td>&lt;PERSON&gt;, &lt;DATE&gt;, is a doubt for &lt;ORG&gt;' Six Na...</td>\n      <td>&lt;P&gt;Biggar&lt;\\P&gt;, &lt;P&gt;26&lt;\\P&gt;, is a doubt for &lt;P&gt;Wa...</td>\n      <td>test</td>\n    </tr>\n    <tr>\n      <th>19663</th>\n      <td>(CNN)Eight crew members are missing after a ca...</td>\n      <td>['Sunday', 'England', 'RNLI', 'Southampton', '...</td>\n      <td>(CNN)Eight crew members are missing after a ca...</td>\n      <td>(CNN)Eight crew members are missing after a ca...</td>\n      <td>(CNN)Eight crew members are missing after a ca...</td>\n      <td>train</td>\n    </tr>\n    <tr>\n      <th>19664</th>\n      <td>By . Jennifer Smith . An expensive delicacy, m...</td>\n      <td>['Jennifer Smith', 'Huang', 'Huang Mingbo', 'F...</td>\n      <td>By . Emily Johnson . An expensive delicacy, mo...</td>\n      <td>By . &lt;PERSON&gt; . An expensive delicacy, most pe...</td>\n      <td>By . &lt;P&gt;Jennifer Smith&lt;\\P&gt; . An expensive deli...</td>\n      <td>train</td>\n    </tr>\n  </tbody>\n</table>\n<p>19665 rows × 6 columns</p>\n</div>"
     },
     "execution_count": 15,
     "metadata": {},
     "output_type": "execute_result"
    }
   ],
   "source": [],
   "metadata": {
    "collapsed": false,
    "pycharm": {
     "name": "#%%\n"
    }
   }
  },
  {
   "cell_type": "code",
   "execution_count": null,
   "outputs": [],
   "source": [
    "\n",
    "\n",
    "from datasets import Dataset\n",
    "\n",
    "\n",
    "\n",
    "dataset = Dataset.from_pandas(new)"
   ],
   "metadata": {
    "collapsed": false,
    "pycharm": {
     "name": "#%%\n"
    }
   }
  },
  {
   "cell_type": "code",
   "execution_count": 5,
   "outputs": [],
   "source": [
    "import sys\n",
    "import os\n",
    "sys.path.append(os.path.abspath('../..'))\n",
    "\n",
    "# _, tokenizer = get_model_and_tokenizer('bert')\n",
    "# model, t = get_model_and_tokenizer('flan-t5-large')"
   ],
   "metadata": {
    "collapsed": false,
    "pycharm": {
     "name": "#%%\n"
    }
   }
  },
  {
   "cell_type": "code",
   "execution_count": null,
   "outputs": [],
   "source": [
    "\n",
    "from sfl.simulator.dataset import FedDataset\n",
    "\n",
    "\n",
    "class SanitizedFedDataset(FedDataset):\n",
    "\n",
    "    def _format(self, example):\n",
    "        return {'input': example['content'], 'entities': ast.literal_eval(example['entity'])}\n",
    "\n",
    "    def _col_fun(self, batch):\n",
    "        texts = [b['input'] for b in batch]\n",
    "        input = self.tokenizer(texts, padding=True, truncation=True, return_tensors='pt', max_length=512)\n",
    "        mask = torch.zeros_like(input['input_ids'])\n",
    "        for sp, sample in enumerate(batch):\n",
    "            seq = input['input_ids'][sp].numpy().tolist()\n",
    "            r = tokenizer(sample['entities'], add_special_tokens=False)\n",
    "            for subseq in r.input_ids:\n",
    "                for i in range(len(seq) - len(subseq) + 1):\n",
    "                    if seq[i:i + len(subseq)] == subseq:\n",
    "                        mask[sp, i:i + len(subseq)] = 1\n",
    "\n",
    "        return {'input_ids': input['input_ids'],\n",
    "                'input_att_mask': input['attention_mask'],\n",
    "                'input_text': texts, 'entities': [b['entity'] for b in batch],\n",
    "                'input_santi_mask': mask}\n",
    "\n",
    "    def __init__(self, tokenizer, client_ids: list[str], ):\n",
    "        self.df = pd.read_csv('/home/project/SFL-LLM/sanitized_data_marked.csv')\n",
    "        dataset = {\n",
    "            'train': Dataset.from_pandas(self.df[self.df['type'] == 'train']),\n",
    "            'val': Dataset.from_pandas(self.df[self.df['type'] == 'val']),\n",
    "            'test': Dataset.from_pandas(self.df[self.df['type'] == 'test'])\n",
    "        }\n",
    "        super().__init__(tokenizer, client_ids, dataset, ['train', 'val', 'test'])\n",
    "\n",
    "\n",
    "ds = SanitizedFedDataset(tokenizer, ['0'])"
   ],
   "metadata": {
    "collapsed": false,
    "pycharm": {
     "name": "#%%\n"
    }
   }
  },
  {
   "cell_type": "code",
   "execution_count": null,
   "outputs": [],
   "source": [
    "ld = ds.get_dataloader_unsliced(6, 'val')"
   ],
   "metadata": {
    "collapsed": false,
    "pycharm": {
     "name": "#%%\n"
    }
   }
  },
  {
   "cell_type": "code",
   "execution_count": null,
   "outputs": [],
   "source": [
    "\n",
    "for batch in ld:\n",
    "    # find input_ids masked by mask\n",
    "    input_ids = batch['input_ids']\n",
    "    mask = batch['input_santi_mask']\n",
    "    masked = input_ids * mask\n",
    "\n",
    "    print(tokenizer.decode(masked[0],skip_special_tokens=True))\n",
    "    print(batch['entities'][0])\n",
    "    break"
   ],
   "metadata": {
    "collapsed": false,
    "pycharm": {
     "name": "#%%\n"
    }
   }
  },
  {
   "cell_type": "code",
   "execution_count": null,
   "outputs": [],
   "source": [],
   "metadata": {
    "collapsed": false,
    "pycharm": {
     "name": "#%%\n"
    }
   }
  },
  {
   "cell_type": "code",
   "execution_count": null,
   "outputs": [],
   "source": [],
   "metadata": {
    "collapsed": false,
    "pycharm": {
     "name": "#%%\n"
    }
   }
  },
  {
   "cell_type": "code",
   "execution_count": null,
   "outputs": [],
   "source": [],
   "metadata": {
    "collapsed": false,
    "pycharm": {
     "name": "#%%\n"
    }
   }
  },
  {
   "cell_type": "code",
   "execution_count": null,
   "outputs": [],
   "source": [],
   "metadata": {
    "collapsed": false,
    "pycharm": {
     "name": "#%%\n"
    }
   }
  },
  {
   "cell_type": "code",
   "execution_count": null,
   "outputs": [],
   "source": [],
   "metadata": {
    "collapsed": false,
    "pycharm": {
     "name": "#%%\n"
    }
   }
  },
  {
   "cell_type": "code",
   "execution_count": null,
   "outputs": [],
   "source": [],
   "metadata": {
    "collapsed": false,
    "pycharm": {
     "name": "#%%\n"
    }
   }
  },
  {
   "cell_type": "code",
   "execution_count": null,
   "outputs": [],
   "source": [],
   "metadata": {
    "collapsed": false,
    "pycharm": {
     "name": "#%%\n"
    }
   }
  },
  {
   "cell_type": "code",
   "execution_count": null,
   "outputs": [],
   "source": [],
   "metadata": {
    "collapsed": false,
    "pycharm": {
     "name": "#%%\n"
    }
   }
  },
  {
   "cell_type": "code",
   "execution_count": null,
   "outputs": [],
   "source": [],
   "metadata": {
    "collapsed": false,
    "pycharm": {
     "name": "#%%\n"
    }
   }
  },
  {
   "cell_type": "code",
   "execution_count": null,
   "outputs": [],
   "source": [],
   "metadata": {
    "collapsed": false,
    "pycharm": {
     "name": "#%%\n"
    }
   }
  },
  {
   "cell_type": "code",
   "execution_count": null,
   "outputs": [],
   "source": [],
   "metadata": {
    "collapsed": false,
    "pycharm": {
     "name": "#%%\n"
    }
   }
  },
  {
   "cell_type": "code",
   "execution_count": null,
   "outputs": [],
   "source": [],
   "metadata": {
    "collapsed": false,
    "pycharm": {
     "name": "#%%\n"
    }
   }
  },
  {
   "cell_type": "code",
   "execution_count": null,
   "outputs": [],
   "source": [],
   "metadata": {
    "collapsed": false,
    "pycharm": {
     "name": "#%%\n"
    }
   }
  },
  {
   "cell_type": "code",
   "execution_count": 1,
   "outputs": [
    {
     "ename": "ModuleNotFoundError",
     "evalue": "No module named 'sfl'",
     "output_type": "error",
     "traceback": [
      "\u001B[0;31m---------------------------------------------------------------------------\u001B[0m",
      "\u001B[0;31mModuleNotFoundError\u001B[0m                       Traceback (most recent call last)",
      "Cell \u001B[0;32mIn[1], line 5\u001B[0m\n\u001B[1;32m      2\u001B[0m \u001B[38;5;28;01mimport\u001B[39;00m \u001B[38;5;21;01msys\u001B[39;00m\n\u001B[1;32m      4\u001B[0m sys\u001B[38;5;241m.\u001B[39mpath\u001B[38;5;241m.\u001B[39mappend(os\u001B[38;5;241m.\u001B[39mpath\u001B[38;5;241m.\u001B[39mabspath(\u001B[38;5;124m'\u001B[39m\u001B[38;5;124m../..\u001B[39m\u001B[38;5;124m'\u001B[39m))\n\u001B[0;32m----> 5\u001B[0m \u001B[38;5;28;01mfrom\u001B[39;00m \u001B[38;5;21;01msfl\u001B[39;00m\u001B[38;5;21;01m.\u001B[39;00m\u001B[38;5;21;01mconfig\u001B[39;00m \u001B[38;5;28;01mimport\u001B[39;00m FLConfig\n\u001B[1;32m      6\u001B[0m \u001B[38;5;28;01mfrom\u001B[39;00m \u001B[38;5;21;01msfl\u001B[39;00m\u001B[38;5;21;01m.\u001B[39;00m\u001B[38;5;21;01mutils\u001B[39;00m\u001B[38;5;21;01m.\u001B[39;00m\u001B[38;5;21;01mexp\u001B[39;00m \u001B[38;5;28;01mimport\u001B[39;00m get_model_and_tokenizer\n\u001B[1;32m      7\u001B[0m \u001B[38;5;28;01mimport\u001B[39;00m \u001B[38;5;21;01margparse\u001B[39;00m\n",
      "\u001B[0;31mModuleNotFoundError\u001B[0m: No module named 'sfl'"
     ]
    }
   ],
   "source": [
    "import os\n",
    "import sys\n",
    "\n",
    "sys.path.append(os.path.abspath('../..'))\n",
    "from sfl.config import FLConfig\n",
    "from sfl.utils.exp import get_model_and_tokenizer\n",
    "import argparse\n",
    "\n",
    "config = FLConfig(\n",
    "    collect_intermediates=False,\n",
    "    global_round=10,\n",
    "    client_evaluate_freq=500,\n",
    "    client_epoch=1,  # 每轮联邦每个Client训2轮\n",
    "    split_point_1=6,\n",
    "    split_point_2=30,  # [0,1 | 2,3,.... 29| 30, 31]\n",
    "    use_lora_at_trunk=True,  # 在trunk部分使用LoRA\n",
    "    use_lora_at_top=True,\n",
    "    use_lora_at_bottom=False,\n",
    "    top_and_bottom_from_scratch='True',\n",
    "    attack_mode='b2tr',\n",
    "    client_steps=700\n",
    ")\n",
    "\n",
    "args = {\n",
    "    'dataset_train_frac': 1.0,\n",
    "    'dataset_test_frac': 0.1,\n",
    "    'dataset': 'piqa',\n",
    "    'model_name': 'gpt2-large',\n",
    "    'save_checkpoint': True,\n",
    "    'task_type': 'lm',\n",
    "    'attacker_freq': 10000,\n",
    "    'log_to_wandb': False\n",
    "}\n",
    "# convert to namespace\n",
    "args = argparse.Namespace(**args)"
   ],
   "metadata": {
    "collapsed": false,
    "pycharm": {
     "name": "#%%\n"
    }
   }
  },
  {
   "cell_type": "code",
   "execution_count": 2,
   "outputs": [],
   "source": [
    "model, tokenizer = get_model_and_tokenizer(args.model_name)\n",
    "model.config_sfl(config)"
   ],
   "metadata": {
    "collapsed": false,
    "pycharm": {
     "name": "#%%\n"
    }
   }
  },
  {
   "cell_type": "code",
   "execution_count": 18,
   "outputs": [
    {
     "data": {
      "text/plain": "Loading checkpoint shards:   0%|          | 0/2 [00:00<?, ?it/s]",
      "application/vnd.jupyter.widget-view+json": {
       "version_major": 2,
       "version_minor": 0,
       "model_id": "dab781f459894535af42839e1fac1b3a"
      }
     },
     "metadata": {},
     "output_type": "display_data"
    }
   ],
   "source": [
    "model, tok = get_model_and_tokenizer('llama2')"
   ],
   "metadata": {
    "collapsed": false,
    "pycharm": {
     "name": "#%%\n"
    }
   }
  },
  {
   "cell_type": "code",
   "execution_count": 21,
   "outputs": [
    {
     "data": {
      "text/plain": "LlamaConfig {\n  \"_name_or_path\": \"/root/autodl-tmp/sfl/models/daryl149/llama-2-7b-chat-hf\",\n  \"architectures\": [\n    \"LlamaForCausalLM\"\n  ],\n  \"bos_token_id\": 1,\n  \"eos_token_id\": 2,\n  \"hidden_act\": \"silu\",\n  \"hidden_size\": 4096,\n  \"initializer_range\": 0.02,\n  \"intermediate_size\": 11008,\n  \"max_position_embeddings\": 2048,\n  \"model_type\": \"llama\",\n  \"num_attention_heads\": 32,\n  \"num_hidden_layers\": 32,\n  \"num_key_value_heads\": 32,\n  \"pad_token_id\": 0,\n  \"pretraining_tp\": 1,\n  \"quantization_config\": {\n    \"bnb_4bit_compute_dtype\": \"bfloat16\",\n    \"bnb_4bit_quant_type\": \"nf4\",\n    \"bnb_4bit_use_double_quant\": true,\n    \"llm_int8_enable_fp32_cpu_offload\": false,\n    \"llm_int8_has_fp16_weight\": false,\n    \"llm_int8_skip_modules\": null,\n    \"llm_int8_threshold\": 6.0,\n    \"load_in_4bit\": false,\n    \"load_in_8bit\": true\n  },\n  \"rms_norm_eps\": 1e-06,\n  \"rope_scaling\": null,\n  \"tie_word_embeddings\": false,\n  \"torch_dtype\": \"float16\",\n  \"transformers_version\": \"4.31.0\",\n  \"use_cache\": true,\n  \"vocab_size\": 32000\n}"
     },
     "execution_count": 21,
     "metadata": {},
     "output_type": "execute_result"
    }
   ],
   "source": [
    "model.config"
   ],
   "metadata": {
    "collapsed": false,
    "pycharm": {
     "name": "#%%\n"
    }
   }
  },
  {
   "cell_type": "code",
   "execution_count": 3,
   "outputs": [],
   "source": [
    "from sfl.utils.exp import get_dataset\n",
    "from sfl.config import DRA_train_label, DRA_test_label\n",
    "\n",
    "dataset = get_dataset(args.dataset, tokenizer,client_ids=['0'],shrink_frac=0.08)\n",
    "pub_loader = dataset.get_dataloader_unsliced(16, DRA_train_label[args.dataset], args.dataset_train_frac)\n",
    "test_loader = dataset.get_dataloader_unsliced(16, DRA_test_label[args.dataset], args.dataset_test_frac)"
   ],
   "metadata": {
    "collapsed": false,
    "pycharm": {
     "name": "#%%\n"
    }
   }
  },
  {
   "cell_type": "code",
   "execution_count": 4,
   "outputs": [
    {
     "data": {
      "text/plain": "FSHAAttacker(\n  (f_inv): GRUDRAttacker(\n    (gru): GRU(1280, 256, batch_first=True)\n    (mlp): Linear(in_features=256, out_features=50257, bias=True)\n  )\n  (f): GRUDRAttacker(\n    (gru): GRU(50257, 256, batch_first=True)\n    (mlp): Linear(in_features=256, out_features=1280, bias=True)\n  )\n  (d): GRU(1280, 256, batch_first=True)\n  (d_mlp): Sequential(\n    (0): Linear(in_features=256, out_features=1, bias=True)\n  )\n)"
     },
     "execution_count": 4,
     "metadata": {},
     "output_type": "execute_result"
    }
   ],
   "source": [
    "\n",
    "from sfl.utils.model import get_best_gpu\n",
    "from sfl.model.attacker.fsha_attacker import FSHAAttacker, AutoEncoderConfig\n",
    "\n",
    "device = get_best_gpu()\n",
    "model.to(device)\n",
    "attacker = FSHAAttacker(AutoEncoderConfig(), target_config=model.config)\n",
    "attacker.to(model.device)\n",
    "# attacker.fit_auto_encoder(model, tokenizer,pub_loader,test_loader, 50, args)"
   ],
   "metadata": {
    "collapsed": false,
    "pycharm": {
     "name": "#%%\n"
    }
   }
  },
  {
   "cell_type": "markdown",
   "source": [],
   "metadata": {
    "collapsed": false,
    "pycharm": {
     "name": "#%% md\n"
    }
   }
  },
  {
   "cell_type": "code",
   "execution_count": 5,
   "outputs": [],
   "source": [
    "\n",
    "\n",
    "# from sfl.utils.exp import get_fsha_attacker, DRAConfig\n",
    "#\n",
    "# attacker = get_fsha_attacker(DRAConfig(b2tr_sp=6,target_model_name='gpt2-large',target_sps='6-6', train_label='validation',dataset='piqa'))"
   ],
   "metadata": {
    "collapsed": false,
    "pycharm": {
     "name": "#%%\n"
    }
   }
  },
  {
   "cell_type": "code",
   "execution_count": 9,
   "outputs": [
    {
     "ename": "NameError",
     "evalue": "name 'FLConfig' is not defined",
     "output_type": "error",
     "traceback": [
      "\u001B[0;31m---------------------------------------------------------------------------\u001B[0m",
      "\u001B[0;31mNameError\u001B[0m                                 Traceback (most recent call last)",
      "Cell \u001B[0;32mIn[9], line 14\u001B[0m\n\u001B[1;32m     10\u001B[0m \u001B[38;5;28;01mfrom\u001B[39;00m \u001B[38;5;21;01msfl\u001B[39;00m\u001B[38;5;21;01m.\u001B[39;00m\u001B[38;5;21;01mutils\u001B[39;00m\u001B[38;5;21;01m.\u001B[39;00m\u001B[38;5;21;01mmodel\u001B[39;00m \u001B[38;5;28;01mimport\u001B[39;00m calculate_rouge\n\u001B[1;32m     11\u001B[0m \u001B[38;5;28;01mimport\u001B[39;00m \u001B[38;5;21;01mtorch\u001B[39;00m\n\u001B[0;32m---> 14\u001B[0m \u001B[38;5;28;01mclass\u001B[39;00m \u001B[38;5;21;01mFSHAStrategy\u001B[39;00m(BaseSFLStrategy):\n\u001B[1;32m     16\u001B[0m     \u001B[38;5;28;01mdef\u001B[39;00m \u001B[38;5;21m__init__\u001B[39m(\u001B[38;5;28mself\u001B[39m, args, llm, tokenizer, attacker: FSHAAttacker, pub_loader: DataLoader):\n\u001B[1;32m     17\u001B[0m         \u001B[38;5;28msuper\u001B[39m()\u001B[38;5;241m.\u001B[39m\u001B[38;5;21m__init__\u001B[39m(args, llm, tokenizer)\n",
      "Cell \u001B[0;32mIn[9], line 25\u001B[0m, in \u001B[0;36mFSHAStrategy\u001B[0;34m()\u001B[0m\n\u001B[1;32m     21\u001B[0m     \u001B[38;5;28mself\u001B[39m\u001B[38;5;241m.\u001B[39moptim_d \u001B[38;5;241m=\u001B[39m Adam(\u001B[38;5;28mlist\u001B[39m(\u001B[38;5;28mself\u001B[39m\u001B[38;5;241m.\u001B[39mattacker\u001B[38;5;241m.\u001B[39md_mlp\u001B[38;5;241m.\u001B[39mparameters())\u001B[38;5;241m+\u001B[39m\u001B[38;5;28mlist\u001B[39m(\u001B[38;5;28mself\u001B[39m\u001B[38;5;241m.\u001B[39mattacker\u001B[38;5;241m.\u001B[39md\u001B[38;5;241m.\u001B[39mparameters()),lr\u001B[38;5;241m=\u001B[39m\u001B[38;5;241m1e-5\u001B[39m, weight_decay\u001B[38;5;241m=\u001B[39m\u001B[38;5;241m1e-6\u001B[39m)\n\u001B[1;32m     22\u001B[0m     \u001B[38;5;28mself\u001B[39m\u001B[38;5;241m.\u001B[39moptim_f \u001B[38;5;241m=\u001B[39m Adam(\u001B[38;5;28mlist\u001B[39m(\u001B[38;5;28mself\u001B[39m\u001B[38;5;241m.\u001B[39mattacker\u001B[38;5;241m.\u001B[39mf\u001B[38;5;241m.\u001B[39mparameters())\u001B[38;5;241m+\u001B[39m\u001B[38;5;28mlist\u001B[39m(\u001B[38;5;28mself\u001B[39m\u001B[38;5;241m.\u001B[39mattacker\u001B[38;5;241m.\u001B[39mf_inv\u001B[38;5;241m.\u001B[39mparameters()),lr\u001B[38;5;241m=\u001B[39m\u001B[38;5;241m1e-4\u001B[39m, weight_decay\u001B[38;5;241m=\u001B[39m\u001B[38;5;241m1e-5\u001B[39m)\n\u001B[1;32m     24\u001B[0m \u001B[38;5;28;01mdef\u001B[39;00m \u001B[38;5;21mclient_step\u001B[39m(\u001B[38;5;28mself\u001B[39m, client_id: \u001B[38;5;28mstr\u001B[39m, global_round, client_epoch, llm: SplitWrapperModel, iterator: Iterator,\n\u001B[0;32m---> 25\u001B[0m                 config: FLConfig):\n\u001B[1;32m     26\u001B[0m     optimizer \u001B[38;5;241m=\u001B[39m Adam([p \u001B[38;5;28;01mfor\u001B[39;00m _, p \u001B[38;5;129;01min\u001B[39;00m llm\u001B[38;5;241m.\u001B[39mget_top_params()], lr\u001B[38;5;241m=\u001B[39m\u001B[38;5;241m5e-7\u001B[39m, weight_decay\u001B[38;5;241m=\u001B[39m\u001B[38;5;241m1e-7\u001B[39m)\n\u001B[1;32m     27\u001B[0m     \u001B[38;5;66;03m# optimizer = AdamW([p for _, p in llm.get_top_params()], lr=3e-7, weight_decay=1e-4)\u001B[39;00m\n",
      "\u001B[0;31mNameError\u001B[0m: name 'FLConfig' is not defined"
     ]
    }
   ],
   "source": [
    "\n",
    "from sfl.simulator.simulator import SFLSimulator\n",
    "from sfl.utils.model import get_t5_input, calc_unshift_loss\n",
    "from sfl.model.attacker.fsha_attacker import FSHAAttacker\n",
    "from torch.utils.data import DataLoader\n",
    "from typing import Iterator\n",
    "from sfl.model.llm.split_model import SplitWrapperModel\n",
    "from sfl.simulator.strategy import BaseSFLStrategy\n",
    "from torch.optim import Adam\n",
    "from sfl.utils.model import calculate_rouge\n",
    "\n",
    "\n",
    "class FSHAStrategy(BaseSFLStrategy):\n",
    "\n",
    "    def __init__(self, args, llm, tokenizer, attacker: FSHAAttacker, pub_loader: DataLoader):\n",
    "        super().__init__(args, llm, tokenizer)\n",
    "        self.attacker = attacker\n",
    "        self.pub_loader = pub_loader\n",
    "        self.pub_loader_iter = iter(pub_loader)\n",
    "        self.optim_d = Adam(list(self.attacker.d_mlp.parameters())+list(self.attacker.d.parameters()),lr=1e-5, weight_decay=1e-6)\n",
    "        self.optim_f = Adam(list(self.attacker.f.parameters())+list(self.attacker.f_inv.parameters()),lr=1e-4, weight_decay=1e-5)\n",
    "\n",
    "    def client_step(self, client_id: str, global_round, client_epoch, llm: SplitWrapperModel, iterator: Iterator,\n",
    "                    config: FLConfig):\n",
    "        optimizer = Adam([p for _, p in llm.get_top_params()], lr=5e-7, weight_decay=1e-7)\n",
    "        # optimizer = AdamW([p for _, p in llm.get_top_params()], lr=3e-7, weight_decay=1e-4)\n",
    "        avg_d_loss = 0\n",
    "        avg_f_loss = 0\n",
    "        avg_rouge_lf = 0\n",
    "        batch_num = 0\n",
    "        with tqdm_notebook(total=config.client_steps) as pbar:\n",
    "            for step, batch in enumerate(iterator):\n",
    "                if llm.type == 'encoder-decoder':\n",
    "                    outputs = llm(**get_t5_input(batch, self.tokenizer, llm.device))\n",
    "                else:\n",
    "                    input_ids = batch['input_ids'].to(llm.device)\n",
    "                    attention_mask = batch['input_att_mask'].to(llm.device)\n",
    "                    labels = input_ids\n",
    "                    if 'labels' in batch and self.task_type == 'clsf':\n",
    "                        labels = batch['labels'].to(llm.device)\n",
    "                    outputs = llm(input_ids=input_ids, labels=labels, attention_mask=attention_mask)\n",
    "                z_priv = outputs\n",
    "                try:\n",
    "                    x_pub = next(self.pub_loader_iter)\n",
    "                except StopIteration:\n",
    "                    self.pub_loader_iter = iter(self.pub_loader)\n",
    "                    x_pub = next(self.pub_loader_iter)\n",
    "                x_pub = x_pub['input_ids'].to(llm.device)\n",
    "                z_pub = self.attacker.f_forward(x_pub)\n",
    "                adv_priv_logits = self.attacker.d_forward(z_priv)\n",
    "                adv_pub_logits = self.attacker.d_forward(z_pub)\n",
    "                # print('pub', adv_pub_logits, 'priv', adv_priv_logits)\n",
    "\n",
    "                # f_loss = torch.mean(adv_priv_logits)\n",
    "                f_loss = torch.mean(\n",
    "                    torch.binary_cross_entropy_with_logits(adv_priv_logits, torch.ones_like(adv_priv_logits)))\n",
    "\n",
    "                d_loss_true = torch.mean(\n",
    "                    torch.binary_cross_entropy_with_logits(adv_pub_logits, torch.ones_like(adv_pub_logits)\n",
    "                                                           ))\n",
    "                d_loss_fake = torch.mean(\n",
    "                    torch.binary_cross_entropy_with_logits(adv_priv_logits, torch.zeros_like(adv_priv_logits)))\n",
    "                d_loss = (d_loss_true + d_loss_fake) / 2\n",
    "                # d_loss_true = torch.mean(adv_pub_logits)\n",
    "                # d_loss_fake = -torch.mean(adv_priv_logits)\n",
    "                # # print(d_loss_true, d_loss_fake)\n",
    "                # d_loss = d_loss_true + d_loss_fake\n",
    "                rec_x_pub = self.attacker.f_inv_forward(z_pub)\n",
    "                inv_loss = calc_unshift_loss(rec_x_pub, x_pub)\n",
    "\n",
    "                rec_x_priv = self.attacker.f_inv_forward(z_priv)\n",
    "                recover_rouge = calculate_rouge(self.tokenizer, rec_x_priv, batch['input_text'])\n",
    "                avg_rouge_lf += recover_rouge['rouge-l']['f']\n",
    "\n",
    "                # (d_loss+f_loss).backward()\n",
    "                self.optim_d.zero_grad()\n",
    "                self.optim_f.zero_grad()\n",
    "                (inv_loss+d_loss).backward(retain_graph=True)\n",
    "                self.optim_d.step()\n",
    "                self.optim_f.step()\n",
    "\n",
    "                optimizer.zero_grad()\n",
    "                f_grad = torch.autograd.grad(f_loss, z_priv)[0]\n",
    "                z_priv.backward(f_grad)\n",
    "                optimizer.step()\n",
    "                # optimizer.step()\n",
    "\n",
    "                batch_num += 1\n",
    "                avg_d_loss += d_loss.detach().cpu().item()\n",
    "                avg_f_loss += f_loss.detach().cpu().item()\n",
    "                pbar.set_description(\n",
    "                    f'Client {client_id} HIJACK Epoch {client_epoch} Step {self.simulator.get_current_step(client_id, step)} D_Loss {d_loss.item():.3f}, F_Loss {f_loss.item():.3f}, Rouge_L_F {recover_rouge[\"rouge-l\"][\"f\"]:.3f}, Avg_Rouge_L_F {avg_rouge_lf / (step + 1):.3f}')\n",
    "                self.step_done(client_id, step, batch,\n",
    "                               {\"d_loss\": float(avg_d_loss / batch_num),\n",
    "                                \"f_loss\": float(avg_f_loss / batch_num),\n",
    "                                \"rouge_l_f\": float(avg_rouge_lf / batch_num),\n",
    "                                })\n",
    "                pbar.update(1)\n",
    "\n",
    "\n",
    "attacker.to(model.device)\n",
    "attacker.train()\n",
    "simulator = SFLSimulator(client_ids=['0'],\n",
    "                         strategy=FSHAStrategy(args, model, tokenizer, attacker, pub_loader),\n",
    "                         llm=model,\n",
    "                         tokenizer=tokenizer,\n",
    "                         dataset=dataset, config=config, args=args)\n",
    "\n",
    "simulator.simulate()"
   ],
   "metadata": {
    "collapsed": false,
    "pycharm": {
     "name": "#%%\n"
    }
   }
  },
  {
   "cell_type": "code",
   "execution_count": 6,
   "outputs": [],
   "source": [],
   "metadata": {
    "collapsed": false,
    "pycharm": {
     "name": "#%%\n"
    }
   }
  },
  {
   "cell_type": "markdown",
   "source": [],
   "metadata": {
    "collapsed": false,
    "pycharm": {
     "name": "#%% md\n"
    }
   }
  },
  {
   "cell_type": "code",
   "execution_count": null,
   "outputs": [],
   "source": [
    "\n"
   ],
   "metadata": {
    "collapsed": false,
    "pycharm": {
     "name": "#%%\n"
    }
   }
  },
  {
   "cell_type": "code",
   "execution_count": null,
   "outputs": [],
   "source": [],
   "metadata": {
    "collapsed": false,
    "pycharm": {
     "name": "#%%\n"
    }
   }
  },
  {
   "cell_type": "code",
   "execution_count": null,
   "outputs": [],
   "source": [],
   "metadata": {
    "collapsed": false,
    "pycharm": {
     "name": "#%%\n"
    }
   }
  },
  {
   "cell_type": "code",
   "execution_count": null,
   "outputs": [],
   "source": [],
   "metadata": {
    "collapsed": false,
    "pycharm": {
     "name": "#%%\n"
    }
   }
  },
  {
   "cell_type": "code",
   "execution_count": null,
   "outputs": [],
   "source": [],
   "metadata": {
    "collapsed": false,
    "pycharm": {
     "name": "#%%\n"
    }
   }
  },
  {
   "cell_type": "code",
   "execution_count": null,
   "outputs": [],
   "source": [],
   "metadata": {
    "collapsed": false,
    "pycharm": {
     "name": "#%%\n"
    }
   }
  },
  {
   "cell_type": "code",
   "execution_count": null,
   "outputs": [],
   "source": [],
   "metadata": {
    "collapsed": false,
    "pycharm": {
     "name": "#%%\n"
    }
   }
  },
  {
   "cell_type": "code",
   "execution_count": null,
   "outputs": [],
   "source": [],
   "metadata": {
    "collapsed": false,
    "pycharm": {
     "name": "#%%\n"
    }
   }
  },
  {
   "cell_type": "code",
   "execution_count": null,
   "outputs": [],
   "source": [],
   "metadata": {
    "collapsed": false,
    "pycharm": {
     "name": "#%%\n"
    }
   }
  },
  {
   "cell_type": "code",
   "execution_count": null,
   "outputs": [],
   "source": [],
   "metadata": {
    "collapsed": false,
    "pycharm": {
     "name": "#%%\n"
    }
   }
  },
  {
   "cell_type": "code",
   "execution_count": null,
   "outputs": [],
   "source": [],
   "metadata": {
    "collapsed": false,
    "pycharm": {
     "name": "#%%\n"
    }
   }
  },
  {
   "cell_type": "code",
   "execution_count": null,
   "outputs": [],
   "source": [],
   "metadata": {
    "collapsed": false,
    "pycharm": {
     "name": "#%%\n"
    }
   }
  },
  {
   "cell_type": "code",
   "execution_count": null,
   "outputs": [],
   "source": [],
   "metadata": {
    "collapsed": false,
    "pycharm": {
     "name": "#%%\n"
    }
   }
  },
  {
   "cell_type": "code",
   "execution_count": null,
   "outputs": [],
   "source": [],
   "metadata": {
    "collapsed": false,
    "pycharm": {
     "name": "#%%\n"
    }
   }
  },
  {
   "cell_type": "code",
   "execution_count": 1,
   "outputs": [],
   "source": [],
   "metadata": {
    "collapsed": false,
    "pycharm": {
     "name": "#%%\n"
    }
   }
  },
  {
   "cell_type": "code",
   "execution_count": 17,
   "outputs": [],
   "source": [
    "import os\n",
    "import sys\n",
    "sys.path.append(os.path.abspath('../'))\n",
    "from sfl.utils.exp import get_model_and_tokenizer\n",
    "from sfl.config import FLConfig\n",
    "from sfl.utils.model import get_best_gpu\n",
    "\n",
    "model, processor = get_model_and_tokenizer('vit-large')\n",
    "\n",
    "device = get_best_gpu()\n",
    "model.to(device)\n",
    "config = FLConfig(\n",
    "    collect_intermediates=False,\n",
    "    global_round=10,\n",
    "    client_evaluate_freq=500,\n",
    "    client_epoch=1,  # 每轮联邦每个Client训2轮\n",
    "    split_point_1=6,\n",
    "    split_point_2=20,  # [0,1 | 2,3,.... 29| 30, 31]\n",
    "    use_lora_at_trunk=False,  # 在trunk部分使用LoRA\n",
    "    use_lora_at_top=False,\n",
    "    use_lora_at_bottom=False,\n",
    "    top_and_bottom_from_scratch='True',\n",
    "    attack_mode='b2tr',\n",
    "    client_steps=700\n",
    ")\n",
    "\n",
    "model.config_sfl(config, None)"
   ],
   "metadata": {
    "collapsed": false,
    "pycharm": {
     "name": "#%%\n"
    }
   }
  },
  {
   "cell_type": "code",
   "execution_count": 18,
   "outputs": [
    {
     "name": "stderr",
     "output_type": "stream",
     "text": [
      "/root/miniconda3/envs/sfl/lib/python3.11/site-packages/datasets/load.py:926: FutureWarning: The repository for imagewoof contains custom code which must be executed to correctly load the dataset. You can inspect the repository content at /root/autodl-tmp/sfl/datasets/imagewoof/imagewoof.py\n",
      "You can avoid this message in future by passing the argument `trust_remote_code=True`.\n",
      "Passing `trust_remote_code=True` will be mandatory to load this dataset from the next major release of `datasets`.\n",
      "  warnings.warn(\n"
     ]
    }
   ],
   "source": [
    "from sfl.utils.exp import get_dataset\n",
    "\n",
    "ds = get_dataset('imagewoof',processor, client_ids=['0'], shrink_frac=0.1)\n",
    "dl = ds.get_dataloader_unsliced(64,'train', 1.0)"
   ],
   "metadata": {
    "collapsed": false,
    "pycharm": {
     "name": "#%%\n"
    }
   }
  },
  {
   "cell_type": "code",
   "execution_count": 19,
   "outputs": [],
   "source": [
    "from sfl.model.attacker.dra_attacker import ViTDRAttacker\n",
    "from sfl.model.attacker.dra_attacker import ViTDRAttackerConfig\n",
    "\n",
    "attacker = ViTDRAttacker(ViTDRAttackerConfig(), model.config)"
   ],
   "metadata": {
    "collapsed": false,
    "pycharm": {
     "name": "#%%\n"
    }
   }
  },
  {
   "cell_type": "code",
   "execution_count": 20,
   "outputs": [],
   "source": [
    "from sfl.utils.model import convert_to_image\n",
    "# train the attacker\n",
    "import torch\n",
    "import torch.optim as optim\n",
    "from tqdm import tqdm_notebook\n",
    "\n",
    "# attacker.to(device)\n",
    "\n",
    "def test(md, atk, image):\n",
    "    atk.to(md.device)\n",
    "    inter = md(image['input'].to(model.device))\n",
    "    image = convert_to_image(atk(inter))\n",
    "    image[0].show()"
   ],
   "metadata": {
    "collapsed": false,
    "pycharm": {
     "name": "#%%\n"
    }
   }
  },
  {
   "cell_type": "code",
   "execution_count": 5,
   "outputs": [
    {
     "name": "stderr",
     "output_type": "stream",
     "text": [
      "/tmp/ipykernel_195557/4195046156.py:5: TqdmDeprecationWarning: This function will be removed in tqdm==5.0.0\n",
      "Please use `tqdm.notebook.tqdm` instead of `tqdm.tqdm_notebook`\n",
      "  with tqdm_notebook(total=epochs*len(dl)) as pbar:\n"
     ]
    },
    {
     "data": {
      "text/plain": "  0%|          | 0/1420 [00:00<?, ?it/s]",
      "application/vnd.jupyter.widget-view+json": {
       "version_major": 2,
       "version_minor": 0,
       "model_id": "9b341fef6dc743a49e932c258c70fc16"
      }
     },
     "metadata": {},
     "output_type": "display_data"
    },
    {
     "ename": "KeyboardInterrupt",
     "evalue": "",
     "output_type": "error",
     "traceback": [
      "\u001B[0;31m---------------------------------------------------------------------------\u001B[0m",
      "\u001B[0;31mKeyboardInterrupt\u001B[0m                         Traceback (most recent call last)",
      "Cell \u001B[0;32mIn[5], line 8\u001B[0m\n\u001B[1;32m      6\u001B[0m step \u001B[38;5;241m=\u001B[39m \u001B[38;5;241m0\u001B[39m\n\u001B[1;32m      7\u001B[0m \u001B[38;5;28;01mfor\u001B[39;00m epc \u001B[38;5;129;01min\u001B[39;00m \u001B[38;5;28mrange\u001B[39m(epochs):\n\u001B[0;32m----> 8\u001B[0m     \u001B[38;5;28;01mfor\u001B[39;00m batch \u001B[38;5;129;01min\u001B[39;00m dl:\n\u001B[1;32m      9\u001B[0m         input_tensor \u001B[38;5;241m=\u001B[39m batch[\u001B[38;5;124m'\u001B[39m\u001B[38;5;124minput\u001B[39m\u001B[38;5;124m'\u001B[39m]\u001B[38;5;241m.\u001B[39mto(device)\n\u001B[1;32m     10\u001B[0m         inter \u001B[38;5;241m=\u001B[39m model(input_tensor)\n",
      "File \u001B[0;32m~/miniconda3/envs/sfl/lib/python3.11/site-packages/torch/utils/data/dataloader.py:633\u001B[0m, in \u001B[0;36m_BaseDataLoaderIter.__next__\u001B[0;34m(self)\u001B[0m\n\u001B[1;32m    630\u001B[0m \u001B[38;5;28;01mif\u001B[39;00m \u001B[38;5;28mself\u001B[39m\u001B[38;5;241m.\u001B[39m_sampler_iter \u001B[38;5;129;01mis\u001B[39;00m \u001B[38;5;28;01mNone\u001B[39;00m:\n\u001B[1;32m    631\u001B[0m     \u001B[38;5;66;03m# TODO(https://github.com/pytorch/pytorch/issues/76750)\u001B[39;00m\n\u001B[1;32m    632\u001B[0m     \u001B[38;5;28mself\u001B[39m\u001B[38;5;241m.\u001B[39m_reset()  \u001B[38;5;66;03m# type: ignore[call-arg]\u001B[39;00m\n\u001B[0;32m--> 633\u001B[0m data \u001B[38;5;241m=\u001B[39m \u001B[38;5;28mself\u001B[39m\u001B[38;5;241m.\u001B[39m_next_data()\n\u001B[1;32m    634\u001B[0m \u001B[38;5;28mself\u001B[39m\u001B[38;5;241m.\u001B[39m_num_yielded \u001B[38;5;241m+\u001B[39m\u001B[38;5;241m=\u001B[39m \u001B[38;5;241m1\u001B[39m\n\u001B[1;32m    635\u001B[0m \u001B[38;5;28;01mif\u001B[39;00m \u001B[38;5;28mself\u001B[39m\u001B[38;5;241m.\u001B[39m_dataset_kind \u001B[38;5;241m==\u001B[39m _DatasetKind\u001B[38;5;241m.\u001B[39mIterable \u001B[38;5;129;01mand\u001B[39;00m \\\n\u001B[1;32m    636\u001B[0m         \u001B[38;5;28mself\u001B[39m\u001B[38;5;241m.\u001B[39m_IterableDataset_len_called \u001B[38;5;129;01mis\u001B[39;00m \u001B[38;5;129;01mnot\u001B[39;00m \u001B[38;5;28;01mNone\u001B[39;00m \u001B[38;5;129;01mand\u001B[39;00m \\\n\u001B[1;32m    637\u001B[0m         \u001B[38;5;28mself\u001B[39m\u001B[38;5;241m.\u001B[39m_num_yielded \u001B[38;5;241m>\u001B[39m \u001B[38;5;28mself\u001B[39m\u001B[38;5;241m.\u001B[39m_IterableDataset_len_called:\n",
      "File \u001B[0;32m~/miniconda3/envs/sfl/lib/python3.11/site-packages/torch/utils/data/dataloader.py:677\u001B[0m, in \u001B[0;36m_SingleProcessDataLoaderIter._next_data\u001B[0;34m(self)\u001B[0m\n\u001B[1;32m    675\u001B[0m \u001B[38;5;28;01mdef\u001B[39;00m \u001B[38;5;21m_next_data\u001B[39m(\u001B[38;5;28mself\u001B[39m):\n\u001B[1;32m    676\u001B[0m     index \u001B[38;5;241m=\u001B[39m \u001B[38;5;28mself\u001B[39m\u001B[38;5;241m.\u001B[39m_next_index()  \u001B[38;5;66;03m# may raise StopIteration\u001B[39;00m\n\u001B[0;32m--> 677\u001B[0m     data \u001B[38;5;241m=\u001B[39m \u001B[38;5;28mself\u001B[39m\u001B[38;5;241m.\u001B[39m_dataset_fetcher\u001B[38;5;241m.\u001B[39mfetch(index)  \u001B[38;5;66;03m# may raise StopIteration\u001B[39;00m\n\u001B[1;32m    678\u001B[0m     \u001B[38;5;28;01mif\u001B[39;00m \u001B[38;5;28mself\u001B[39m\u001B[38;5;241m.\u001B[39m_pin_memory:\n\u001B[1;32m    679\u001B[0m         data \u001B[38;5;241m=\u001B[39m _utils\u001B[38;5;241m.\u001B[39mpin_memory\u001B[38;5;241m.\u001B[39mpin_memory(data, \u001B[38;5;28mself\u001B[39m\u001B[38;5;241m.\u001B[39m_pin_memory_device)\n",
      "File \u001B[0;32m~/miniconda3/envs/sfl/lib/python3.11/site-packages/torch/utils/data/_utils/fetch.py:54\u001B[0m, in \u001B[0;36m_MapDatasetFetcher.fetch\u001B[0;34m(self, possibly_batched_index)\u001B[0m\n\u001B[1;32m     52\u001B[0m \u001B[38;5;28;01melse\u001B[39;00m:\n\u001B[1;32m     53\u001B[0m     data \u001B[38;5;241m=\u001B[39m \u001B[38;5;28mself\u001B[39m\u001B[38;5;241m.\u001B[39mdataset[possibly_batched_index]\n\u001B[0;32m---> 54\u001B[0m \u001B[38;5;28;01mreturn\u001B[39;00m \u001B[38;5;28mself\u001B[39m\u001B[38;5;241m.\u001B[39mcollate_fn(data)\n",
      "File \u001B[0;32m/home/project/SFL-LLM/sfl/simulator/dataset.py:52\u001B[0m, in \u001B[0;36mFedDataset.get_dataloader_unsliced.<locals>.<lambda>\u001B[0;34m(x)\u001B[0m\n\u001B[1;32m     43\u001B[0m     ds_split \u001B[38;5;241m=\u001B[39m ds\u001B[38;5;241m.\u001B[39mtrain_test_split(shuffle\u001B[38;5;241m=\u001B[39m\u001B[38;5;28;01mTrue\u001B[39;00m, test_size\u001B[38;5;241m=\u001B[39mfurther_test_split)\n\u001B[1;32m     44\u001B[0m     \u001B[38;5;28;01mreturn\u001B[39;00m DataLoader(\u001B[38;5;28mself\u001B[39m\u001B[38;5;241m.\u001B[39m_pre_process(ds_split[\u001B[38;5;124m'\u001B[39m\u001B[38;5;124mtrain\u001B[39m\u001B[38;5;124m'\u001B[39m], batch_size),\n\u001B[1;32m     45\u001B[0m                       collate_fn\u001B[38;5;241m=\u001B[39m\u001B[38;5;28;01mlambda\u001B[39;00m x: \u001B[38;5;28mself\u001B[39m\u001B[38;5;241m.\u001B[39m_col_fun(x),\n\u001B[1;32m     46\u001B[0m                       batch_size\u001B[38;5;241m=\u001B[39mbatch_size,\n\u001B[0;32m   (...)\u001B[0m\n\u001B[1;32m     49\u001B[0m                       collate_fn\u001B[38;5;241m=\u001B[39m\u001B[38;5;28;01mlambda\u001B[39;00m x: \u001B[38;5;28mself\u001B[39m\u001B[38;5;241m.\u001B[39m_col_fun(x),\n\u001B[1;32m     50\u001B[0m                       batch_size\u001B[38;5;241m=\u001B[39mbatch_size, shuffle\u001B[38;5;241m=\u001B[39m\u001B[38;5;28;01mTrue\u001B[39;00m)\n\u001B[1;32m     51\u001B[0m \u001B[38;5;28;01mreturn\u001B[39;00m DataLoader(\u001B[38;5;28mself\u001B[39m\u001B[38;5;241m.\u001B[39m_pre_process(ds, batch_size), batch_size\u001B[38;5;241m=\u001B[39mbatch_size, shuffle\u001B[38;5;241m=\u001B[39m\u001B[38;5;28;01mTrue\u001B[39;00m,\n\u001B[0;32m---> 52\u001B[0m                   collate_fn\u001B[38;5;241m=\u001B[39m\u001B[38;5;28;01mlambda\u001B[39;00m x: \u001B[38;5;28mself\u001B[39m\u001B[38;5;241m.\u001B[39m_col_fun(x))\n",
      "File \u001B[0;32m/home/project/SFL-LLM/sfl/simulator/dataset.py:385\u001B[0m, in \u001B[0;36mImageWoofFedDataset._col_fun\u001B[0;34m(self, batch)\u001B[0m\n\u001B[1;32m    383\u001B[0m images \u001B[38;5;241m=\u001B[39m [s[\u001B[38;5;124m'\u001B[39m\u001B[38;5;124mimage\u001B[39m\u001B[38;5;124m'\u001B[39m]\u001B[38;5;241m.\u001B[39mconvert(\u001B[38;5;124m\"\u001B[39m\u001B[38;5;124mRGB\u001B[39m\u001B[38;5;124m\"\u001B[39m) \u001B[38;5;28;01mfor\u001B[39;00m s \u001B[38;5;129;01min\u001B[39;00m batch]\n\u001B[1;32m    384\u001B[0m labels \u001B[38;5;241m=\u001B[39m [s[\u001B[38;5;124m'\u001B[39m\u001B[38;5;124mlabel\u001B[39m\u001B[38;5;124m'\u001B[39m] \u001B[38;5;28;01mfor\u001B[39;00m s \u001B[38;5;129;01min\u001B[39;00m batch]\n\u001B[0;32m--> 385\u001B[0m \u001B[38;5;28;01mreturn\u001B[39;00m {\u001B[38;5;124m'\u001B[39m\u001B[38;5;124minput\u001B[39m\u001B[38;5;124m'\u001B[39m: \u001B[38;5;28mself\u001B[39m\u001B[38;5;241m.\u001B[39mtokenizer(images, return_tensors\u001B[38;5;241m=\u001B[39m\u001B[38;5;124m'\u001B[39m\u001B[38;5;124mpt\u001B[39m\u001B[38;5;124m'\u001B[39m, padding\u001B[38;5;241m=\u001B[39m\u001B[38;5;28;01mTrue\u001B[39;00m)[\u001B[38;5;124m'\u001B[39m\u001B[38;5;124mpixel_values\u001B[39m\u001B[38;5;124m'\u001B[39m],\n\u001B[1;32m    386\u001B[0m         \u001B[38;5;124m'\u001B[39m\u001B[38;5;124mlabels\u001B[39m\u001B[38;5;124m'\u001B[39m: labels,\n\u001B[1;32m    387\u001B[0m         \u001B[38;5;124m'\u001B[39m\u001B[38;5;124mimage\u001B[39m\u001B[38;5;124m'\u001B[39m: images}\n",
      "File \u001B[0;32m~/miniconda3/envs/sfl/lib/python3.11/site-packages/transformers/image_processing_utils.py:494\u001B[0m, in \u001B[0;36mBaseImageProcessor.__call__\u001B[0;34m(self, images, **kwargs)\u001B[0m\n\u001B[1;32m    492\u001B[0m \u001B[38;5;28;01mdef\u001B[39;00m \u001B[38;5;21m__call__\u001B[39m(\u001B[38;5;28mself\u001B[39m, images, \u001B[38;5;241m*\u001B[39m\u001B[38;5;241m*\u001B[39mkwargs) \u001B[38;5;241m-\u001B[39m\u001B[38;5;241m>\u001B[39m BatchFeature:\n\u001B[1;32m    493\u001B[0m \u001B[38;5;250m    \u001B[39m\u001B[38;5;124;03m\"\"\"Preprocess an image or a batch of images.\"\"\"\u001B[39;00m\n\u001B[0;32m--> 494\u001B[0m     \u001B[38;5;28;01mreturn\u001B[39;00m \u001B[38;5;28mself\u001B[39m\u001B[38;5;241m.\u001B[39mpreprocess(images, \u001B[38;5;241m*\u001B[39m\u001B[38;5;241m*\u001B[39mkwargs)\n",
      "File \u001B[0;32m~/miniconda3/envs/sfl/lib/python3.11/site-packages/transformers/models/vit/image_processing_vit.py:262\u001B[0m, in \u001B[0;36mViTImageProcessor.preprocess\u001B[0;34m(self, images, do_resize, size, resample, do_rescale, rescale_factor, do_normalize, image_mean, image_std, return_tensors, data_format, **kwargs)\u001B[0m\n\u001B[1;32m    259\u001B[0m images \u001B[38;5;241m=\u001B[39m [to_numpy_array(image) \u001B[38;5;28;01mfor\u001B[39;00m image \u001B[38;5;129;01min\u001B[39;00m images]\n\u001B[1;32m    261\u001B[0m \u001B[38;5;28;01mif\u001B[39;00m do_resize:\n\u001B[0;32m--> 262\u001B[0m     images \u001B[38;5;241m=\u001B[39m [\u001B[38;5;28mself\u001B[39m\u001B[38;5;241m.\u001B[39mresize(image\u001B[38;5;241m=\u001B[39mimage, size\u001B[38;5;241m=\u001B[39msize_dict, resample\u001B[38;5;241m=\u001B[39mresample) \u001B[38;5;28;01mfor\u001B[39;00m image \u001B[38;5;129;01min\u001B[39;00m images]\n\u001B[1;32m    264\u001B[0m \u001B[38;5;28;01mif\u001B[39;00m do_rescale:\n\u001B[1;32m    265\u001B[0m     images \u001B[38;5;241m=\u001B[39m [\u001B[38;5;28mself\u001B[39m\u001B[38;5;241m.\u001B[39mrescale(image\u001B[38;5;241m=\u001B[39mimage, scale\u001B[38;5;241m=\u001B[39mrescale_factor) \u001B[38;5;28;01mfor\u001B[39;00m image \u001B[38;5;129;01min\u001B[39;00m images]\n",
      "File \u001B[0;32m~/miniconda3/envs/sfl/lib/python3.11/site-packages/transformers/models/vit/image_processing_vit.py:262\u001B[0m, in \u001B[0;36m<listcomp>\u001B[0;34m(.0)\u001B[0m\n\u001B[1;32m    259\u001B[0m images \u001B[38;5;241m=\u001B[39m [to_numpy_array(image) \u001B[38;5;28;01mfor\u001B[39;00m image \u001B[38;5;129;01min\u001B[39;00m images]\n\u001B[1;32m    261\u001B[0m \u001B[38;5;28;01mif\u001B[39;00m do_resize:\n\u001B[0;32m--> 262\u001B[0m     images \u001B[38;5;241m=\u001B[39m [\u001B[38;5;28mself\u001B[39m\u001B[38;5;241m.\u001B[39mresize(image\u001B[38;5;241m=\u001B[39mimage, size\u001B[38;5;241m=\u001B[39msize_dict, resample\u001B[38;5;241m=\u001B[39mresample) \u001B[38;5;28;01mfor\u001B[39;00m image \u001B[38;5;129;01min\u001B[39;00m images]\n\u001B[1;32m    264\u001B[0m \u001B[38;5;28;01mif\u001B[39;00m do_rescale:\n\u001B[1;32m    265\u001B[0m     images \u001B[38;5;241m=\u001B[39m [\u001B[38;5;28mself\u001B[39m\u001B[38;5;241m.\u001B[39mrescale(image\u001B[38;5;241m=\u001B[39mimage, scale\u001B[38;5;241m=\u001B[39mrescale_factor) \u001B[38;5;28;01mfor\u001B[39;00m image \u001B[38;5;129;01min\u001B[39;00m images]\n",
      "File \u001B[0;32m~/miniconda3/envs/sfl/lib/python3.11/site-packages/transformers/models/vit/image_processing_vit.py:126\u001B[0m, in \u001B[0;36mViTImageProcessor.resize\u001B[0;34m(self, image, size, resample, data_format, **kwargs)\u001B[0m\n\u001B[1;32m    124\u001B[0m \u001B[38;5;28;01mif\u001B[39;00m \u001B[38;5;124m\"\u001B[39m\u001B[38;5;124mheight\u001B[39m\u001B[38;5;124m\"\u001B[39m \u001B[38;5;129;01mnot\u001B[39;00m \u001B[38;5;129;01min\u001B[39;00m size \u001B[38;5;129;01mor\u001B[39;00m \u001B[38;5;124m\"\u001B[39m\u001B[38;5;124mwidth\u001B[39m\u001B[38;5;124m\"\u001B[39m \u001B[38;5;129;01mnot\u001B[39;00m \u001B[38;5;129;01min\u001B[39;00m size:\n\u001B[1;32m    125\u001B[0m     \u001B[38;5;28;01mraise\u001B[39;00m \u001B[38;5;167;01mValueError\u001B[39;00m(\u001B[38;5;124mf\u001B[39m\u001B[38;5;124m\"\u001B[39m\u001B[38;5;124mThe `size` dictionary must contain the keys `height` and `width`. Got \u001B[39m\u001B[38;5;132;01m{\u001B[39;00msize\u001B[38;5;241m.\u001B[39mkeys()\u001B[38;5;132;01m}\u001B[39;00m\u001B[38;5;124m\"\u001B[39m)\n\u001B[0;32m--> 126\u001B[0m \u001B[38;5;28;01mreturn\u001B[39;00m resize(\n\u001B[1;32m    127\u001B[0m     image, size\u001B[38;5;241m=\u001B[39m(size[\u001B[38;5;124m\"\u001B[39m\u001B[38;5;124mheight\u001B[39m\u001B[38;5;124m\"\u001B[39m], size[\u001B[38;5;124m\"\u001B[39m\u001B[38;5;124mwidth\u001B[39m\u001B[38;5;124m\"\u001B[39m]), resample\u001B[38;5;241m=\u001B[39mresample, data_format\u001B[38;5;241m=\u001B[39mdata_format, \u001B[38;5;241m*\u001B[39m\u001B[38;5;241m*\u001B[39mkwargs\n\u001B[1;32m    128\u001B[0m )\n",
      "File \u001B[0;32m~/miniconda3/envs/sfl/lib/python3.11/site-packages/transformers/image_transforms.py:309\u001B[0m, in \u001B[0;36mresize\u001B[0;34m(image, size, resample, reducing_gap, data_format, return_numpy)\u001B[0m\n\u001B[1;32m    307\u001B[0m height, width \u001B[38;5;241m=\u001B[39m size\n\u001B[1;32m    308\u001B[0m \u001B[38;5;66;03m# PIL images are in the format (width, height)\u001B[39;00m\n\u001B[0;32m--> 309\u001B[0m resized_image \u001B[38;5;241m=\u001B[39m image\u001B[38;5;241m.\u001B[39mresize((width, height), resample\u001B[38;5;241m=\u001B[39mresample, reducing_gap\u001B[38;5;241m=\u001B[39mreducing_gap)\n\u001B[1;32m    311\u001B[0m \u001B[38;5;28;01mif\u001B[39;00m return_numpy:\n\u001B[1;32m    312\u001B[0m     resized_image \u001B[38;5;241m=\u001B[39m np\u001B[38;5;241m.\u001B[39marray(resized_image)\n",
      "File \u001B[0;32m~/miniconda3/envs/sfl/lib/python3.11/site-packages/PIL/Image.py:2174\u001B[0m, in \u001B[0;36mImage.resize\u001B[0;34m(self, size, resample, box, reducing_gap)\u001B[0m\n\u001B[1;32m   2166\u001B[0m             \u001B[38;5;28mself\u001B[39m \u001B[38;5;241m=\u001B[39m Image\u001B[38;5;241m.\u001B[39mreduce(\u001B[38;5;28mself\u001B[39m, factor, box\u001B[38;5;241m=\u001B[39mreduce_box)\n\u001B[1;32m   2167\u001B[0m         box \u001B[38;5;241m=\u001B[39m (\n\u001B[1;32m   2168\u001B[0m             (box[\u001B[38;5;241m0\u001B[39m] \u001B[38;5;241m-\u001B[39m reduce_box[\u001B[38;5;241m0\u001B[39m]) \u001B[38;5;241m/\u001B[39m factor_x,\n\u001B[1;32m   2169\u001B[0m             (box[\u001B[38;5;241m1\u001B[39m] \u001B[38;5;241m-\u001B[39m reduce_box[\u001B[38;5;241m1\u001B[39m]) \u001B[38;5;241m/\u001B[39m factor_y,\n\u001B[1;32m   2170\u001B[0m             (box[\u001B[38;5;241m2\u001B[39m] \u001B[38;5;241m-\u001B[39m reduce_box[\u001B[38;5;241m0\u001B[39m]) \u001B[38;5;241m/\u001B[39m factor_x,\n\u001B[1;32m   2171\u001B[0m             (box[\u001B[38;5;241m3\u001B[39m] \u001B[38;5;241m-\u001B[39m reduce_box[\u001B[38;5;241m1\u001B[39m]) \u001B[38;5;241m/\u001B[39m factor_y,\n\u001B[1;32m   2172\u001B[0m         )\n\u001B[0;32m-> 2174\u001B[0m \u001B[38;5;28;01mreturn\u001B[39;00m \u001B[38;5;28mself\u001B[39m\u001B[38;5;241m.\u001B[39m_new(\u001B[38;5;28mself\u001B[39m\u001B[38;5;241m.\u001B[39mim\u001B[38;5;241m.\u001B[39mresize(size, resample, box))\n",
      "\u001B[0;31mKeyboardInterrupt\u001B[0m: "
     ]
    }
   ],
   "source": [
    "optimizer = optim.AdamW(attacker.parameters(), lr=1e-3, weight_decay=1e-5)\n",
    "\n",
    "epochs = 10\n",
    "\n",
    "with tqdm_notebook(total=epochs*len(dl)) as pbar:\n",
    "    step = 0\n",
    "    for epc in range(epochs):\n",
    "        for batch in dl:\n",
    "            input_tensor = batch['input'].to(device)\n",
    "            inter = model(input_tensor)\n",
    "            recovered = attacker(inter)\n",
    "            loss = torch.nn.functional.mse_loss(recovered, input_tensor)\n",
    "            loss.backward()\n",
    "            optimizer.step()\n",
    "            optimizer.zero_grad()\n",
    "            pbar.set_description(f'Epoch {epc} Step {step} Loss {loss.item()}')\n",
    "            pbar.update(1)\n",
    "            step += 1\n",
    "            # if step % 100 == 0:\n",
    "            #     test(model, attacker, sample)\n"
   ],
   "metadata": {
    "collapsed": false,
    "pycharm": {
     "name": "#%%\n"
    }
   }
  },
  {
   "cell_type": "code",
   "execution_count": 33,
   "outputs": [],
   "source": [
    "\n",
    "from sfl.utils.exp import get_dra_attacker, DRAConfig\n",
    "\n",
    "atk, _ = get_dra_attacker(\n",
    "    DRAConfig(target_model_name='vit-large', larger_better=False, target_sps='6-999', train_label='validation',\n",
    "              dataset='imagewoof', model='vit', tr2t_enable=False,prefix='gaussian:0.0001'))"
   ],
   "metadata": {
    "collapsed": false,
    "pycharm": {
     "name": "#%%\n"
    }
   }
  },
  {
   "cell_type": "code",
   "execution_count": 34,
   "outputs": [
    {
     "data": {
      "text/plain": "<PIL.Image.Image image mode=RGB size=224x224>",
      "image/png": "[encoded data removed]",
      "image/jpeg": "[encoded data removed]"
     },
     "metadata": {},
     "output_type": "display_data"
    },
    {
     "data": {
      "text/plain": "<PIL.Image.Image image mode=RGB size=224x224>",
      "image/png": "[encoded data removed]",
      "image/jpeg": "[encoded data removed]"
     },
     "metadata": {},
     "output_type": "display_data"
    },
    {
     "data": {
      "text/plain": "<PIL.Image.Image image mode=RGB size=224x224>",
      "image/png": "[encoded data removed]",
      "image/jpeg": "[encoded data removed]"
     },
     "metadata": {},
     "output_type": "display_data"
    }
   ],
   "source": [
    "\n",
    "test_dl = ds.get_dataloader_unsliced(3, 'train')\n",
    "num = 3\n",
    "for sample in test_dl:\n",
    "    test(model, atk, sample)\n",
    "    num -= 1\n",
    "    if num == 0:\n",
    "        break"
   ],
   "metadata": {
    "collapsed": false,
    "pycharm": {
     "name": "#%%\n"
    }
   }
  },
  {
   "cell_type": "code",
   "execution_count": 11,
   "outputs": [
    {
     "name": "stderr",
     "output_type": "stream",
     "text": [
      "/root/miniconda3/envs/sfl/lib/python3.11/site-packages/datasets/load.py:926: FutureWarning: The repository for piqa contains custom code which must be executed to correctly load the dataset. You can inspect the repository content at /root/autodl-tmp/sfl/datasets/piqa/piqa.py\n",
      "You can avoid this message in future by passing the argument `trust_remote_code=True`.\n",
      "Passing `trust_remote_code=True` will be mandatory to load this dataset from the next major release of `datasets`.\n",
      "  warnings.warn(\n"
     ]
    }
   ],
   "source": [
    "import os\n",
    "import sys\n",
    "\n",
    "sys.path.append(os.path.abspath('../..'))\n",
    "\n",
    "from sfl.utils.exp import get_dataset, get_tokenizer\n",
    "\n",
    "tok = get_tokenizer('gpt2-large')\n",
    "tok.pad_token = tok.eos_token\n",
    "data = get_dataset('piqa',tok,[])\n",
    "dl = data.get_dataloader_unsliced(10,'test',1.0)"
   ],
   "metadata": {
    "collapsed": false,
    "pycharm": {
     "name": "#%%\n"
    }
   }
  },
  {
   "cell_type": "code",
   "execution_count": 12,
   "outputs": [
    {
     "name": "stdout",
     "output_type": "stream",
     "text": [
      "{'input_ids': tensor([[21017, 18233,    25,  1374,   284,  8335, 15317, 12656,   329,  2702,\n",
      "          1586,    30,   198, 21017, 28186,    25,   797,   321,   262,  2641,\n",
      "           286,  1123, 12656,   351,   257,  6503, 14093,    11,   788,  3424,\n",
      "           262,  2354,   286,   262, 12656,   351,  7771, 25749,   393,  6450,\n",
      "          3348,   290,   788,  4174, 28462,   284,   262, 12656, 16649,   284,\n",
      "           307,   285,   515,   788, 25432,    13, 50256, 50256, 50256, 50256,\n",
      "         50256, 50256, 50256, 50256, 50256, 50256, 50256, 50256, 50256, 50256,\n",
      "         50256, 50256],\n",
      "        [21017, 18233,    25,  1675,  1037,   534,  3632, 12377,  1321,   618,\n",
      "         11065,    11,   198, 21017, 28186,    25,   423,   257,  6508,   286,\n",
      "          6099,   393,   734,   981, 11065,    13, 50256, 50256, 50256, 50256,\n",
      "         50256, 50256, 50256, 50256, 50256, 50256, 50256, 50256, 50256, 50256,\n",
      "         50256, 50256, 50256, 50256, 50256, 50256, 50256, 50256, 50256, 50256,\n",
      "         50256, 50256, 50256, 50256, 50256, 50256, 50256, 50256, 50256, 50256,\n",
      "         50256, 50256, 50256, 50256, 50256, 50256, 50256, 50256, 50256, 50256,\n",
      "         50256, 50256],\n",
      "        [21017, 18233,    25,  9938,   257,  2626,  3290,    13,   198, 21017,\n",
      "         28186,    25, 24347,   257,  3704,   286,  7533,   290,  9396,   286,\n",
      "          1660,   284,  4136,   810,  3290,   373,   938,  1775,    13, 50256,\n",
      "         50256, 50256, 50256, 50256, 50256, 50256, 50256, 50256, 50256, 50256,\n",
      "         50256, 50256, 50256, 50256, 50256, 50256, 50256, 50256, 50256, 50256,\n",
      "         50256, 50256, 50256, 50256, 50256, 50256, 50256, 50256, 50256, 50256,\n",
      "         50256, 50256, 50256, 50256, 50256, 50256, 50256, 50256, 50256, 50256,\n",
      "         50256, 50256],\n",
      "        [21017, 18233,    25,  1675,   651,   220,   651,  2208,    12, 20123,\n",
      "           425,   351,   428, 25103, 12187,   198, 21017, 28186,    25,  1382,\n",
      "           262, 11685,   287,   257,  1588, 15061,  1787,    11,  4375, 35988,\n",
      "         12734,   319,  1353,    11,   393,  7309, 12734,    11, 50256, 50256,\n",
      "         50256, 50256, 50256, 50256, 50256, 50256, 50256, 50256, 50256, 50256,\n",
      "         50256, 50256, 50256, 50256, 50256, 50256, 50256, 50256, 50256, 50256,\n",
      "         50256, 50256, 50256, 50256, 50256, 50256, 50256, 50256, 50256, 50256,\n",
      "         50256, 50256],\n",
      "        [21017, 18233,    25,  1675,  3368,  9646, 17492,  2641,   706,   257,\n",
      "          1110,  2712,   287,   262,  6290,    11,   198, 21017, 28186,    25,\n",
      "         13502,   534,  3625,   287,   257, 19236,   416,   262,  2166,  3420,\n",
      "            13, 50256, 50256, 50256, 50256, 50256, 50256, 50256, 50256, 50256,\n",
      "         50256, 50256, 50256, 50256, 50256, 50256, 50256, 50256, 50256, 50256,\n",
      "         50256, 50256, 50256, 50256, 50256, 50256, 50256, 50256, 50256, 50256,\n",
      "         50256, 50256, 50256, 50256, 50256, 50256, 50256, 50256, 50256, 50256,\n",
      "         50256, 50256],\n",
      "        [21017, 18233,    25,  1867,   460,   314,   779,  2427,   286,  8509,\n",
      "          6098, 18146,    30,   198, 21017, 28186,    25,  2329, 19813,   262,\n",
      "           865,   272, 42330,   284,   651,   257,  5448, 15373,   329,  8509,\n",
      "          6098, 18146,    13,  1002,   345,   836,   470,   423,   865,   272,\n",
      "         33158,    11,  1011,   597, 13608,    12,  7527, 33158,    13,  1675,\n",
      "          2620,   663, 24000,  1988,    11,  5022,   340,   351,   617, 25411,\n",
      "           884,   355, 17644,    11, 23751,  1030,    78,    11,   393, 13544,\n",
      "          1636,    13],\n",
      "        [21017, 18233,    25, 14787,   198, 21017, 28186,    25,   460,   307,\n",
      "           973,   329,  3996, 12083,   319, 14260,   326,   389, 19064, 50256,\n",
      "         50256, 50256, 50256, 50256, 50256, 50256, 50256, 50256, 50256, 50256,\n",
      "         50256, 50256, 50256, 50256, 50256, 50256, 50256, 50256, 50256, 50256,\n",
      "         50256, 50256, 50256, 50256, 50256, 50256, 50256, 50256, 50256, 50256,\n",
      "         50256, 50256, 50256, 50256, 50256, 50256, 50256, 50256, 50256, 50256,\n",
      "         50256, 50256, 50256, 50256, 50256, 50256, 50256, 50256, 50256, 50256,\n",
      "         50256, 50256],\n",
      "        [21017, 18233,    25, 15232,   198, 21017, 28186,    25,  4193,   502,\n",
      "           618,   314,   220, 18447,   262,  3807, 50256, 50256, 50256, 50256,\n",
      "         50256, 50256, 50256, 50256, 50256, 50256, 50256, 50256, 50256, 50256,\n",
      "         50256, 50256, 50256, 50256, 50256, 50256, 50256, 50256, 50256, 50256,\n",
      "         50256, 50256, 50256, 50256, 50256, 50256, 50256, 50256, 50256, 50256,\n",
      "         50256, 50256, 50256, 50256, 50256, 50256, 50256, 50256, 50256, 50256,\n",
      "         50256, 50256, 50256, 50256, 50256, 50256, 50256, 50256, 50256, 50256,\n",
      "         50256, 50256],\n",
      "        [21017, 18233,    25,  1675,   787,  9664,   287, 24584,  9732,    84,\n",
      "          1302,   503,   517,    13,   198, 21017, 28186,    25,  3060, 47399,\n",
      "           680,   902,   588,  4731,   878, 11228,    13, 50256, 50256, 50256,\n",
      "         50256, 50256, 50256, 50256, 50256, 50256, 50256, 50256, 50256, 50256,\n",
      "         50256, 50256, 50256, 50256, 50256, 50256, 50256, 50256, 50256, 50256,\n",
      "         50256, 50256, 50256, 50256, 50256, 50256, 50256, 50256, 50256, 50256,\n",
      "         50256, 50256, 50256, 50256, 50256, 50256, 50256, 50256, 50256, 50256,\n",
      "         50256, 50256],\n",
      "        [21017, 18233,    25,   703,   284,   787,   281, 40377,    12, 33856,\n",
      "           279,  5350,   198, 21017, 28186,    25, 30870,   352,    14,    17,\n",
      "         40377,   351,   362, 30064, 32530, 17943,   431,   292,    11,   257,\n",
      "         25394,   286,  2323,   269,  7230,    11,   290,  8268,   290, 13385,\n",
      "            13, 31843,   287,   257,   284,  8992,  6626,   279,  5350,    13,\n",
      "         27845,   351,   352, 26790,  1327,    12,  2127,  3902,  5935,    11,\n",
      "           269, 48311,   290,   257, 21229,   286, 28738,    13, 50256, 50256,\n",
      "         50256, 50256]]), 'input_att_mask': tensor([[1, 1, 1, 1, 1, 1, 1, 1, 1, 1, 1, 1, 1, 1, 1, 1, 1, 1, 1, 1, 1, 1, 1, 1,\n",
      "         1, 1, 1, 1, 1, 1, 1, 1, 1, 1, 1, 1, 1, 1, 1, 1, 1, 1, 1, 1, 1, 1, 1, 1,\n",
      "         1, 1, 1, 1, 1, 1, 1, 1, 0, 0, 0, 0, 0, 0, 0, 0, 0, 0, 0, 0, 0, 0, 0, 0],\n",
      "        [1, 1, 1, 1, 1, 1, 1, 1, 1, 1, 1, 1, 1, 1, 1, 1, 1, 1, 1, 1, 1, 1, 1, 1,\n",
      "         1, 1, 0, 0, 0, 0, 0, 0, 0, 0, 0, 0, 0, 0, 0, 0, 0, 0, 0, 0, 0, 0, 0, 0,\n",
      "         0, 0, 0, 0, 0, 0, 0, 0, 0, 0, 0, 0, 0, 0, 0, 0, 0, 0, 0, 0, 0, 0, 0, 0],\n",
      "        [1, 1, 1, 1, 1, 1, 1, 1, 1, 1, 1, 1, 1, 1, 1, 1, 1, 1, 1, 1, 1, 1, 1, 1,\n",
      "         1, 1, 1, 1, 1, 0, 0, 0, 0, 0, 0, 0, 0, 0, 0, 0, 0, 0, 0, 0, 0, 0, 0, 0,\n",
      "         0, 0, 0, 0, 0, 0, 0, 0, 0, 0, 0, 0, 0, 0, 0, 0, 0, 0, 0, 0, 0, 0, 0, 0],\n",
      "        [1, 1, 1, 1, 1, 1, 1, 1, 1, 1, 1, 1, 1, 1, 1, 1, 1, 1, 1, 1, 1, 1, 1, 1,\n",
      "         1, 1, 1, 1, 1, 1, 1, 1, 1, 1, 1, 1, 1, 1, 0, 0, 0, 0, 0, 0, 0, 0, 0, 0,\n",
      "         0, 0, 0, 0, 0, 0, 0, 0, 0, 0, 0, 0, 0, 0, 0, 0, 0, 0, 0, 0, 0, 0, 0, 0],\n",
      "        [1, 1, 1, 1, 1, 1, 1, 1, 1, 1, 1, 1, 1, 1, 1, 1, 1, 1, 1, 1, 1, 1, 1, 1,\n",
      "         1, 1, 1, 1, 1, 1, 1, 0, 0, 0, 0, 0, 0, 0, 0, 0, 0, 0, 0, 0, 0, 0, 0, 0,\n",
      "         0, 0, 0, 0, 0, 0, 0, 0, 0, 0, 0, 0, 0, 0, 0, 0, 0, 0, 0, 0, 0, 0, 0, 0],\n",
      "        [1, 1, 1, 1, 1, 1, 1, 1, 1, 1, 1, 1, 1, 1, 1, 1, 1, 1, 1, 1, 1, 1, 1, 1,\n",
      "         1, 1, 1, 1, 1, 1, 1, 1, 1, 1, 1, 1, 1, 1, 1, 1, 1, 1, 1, 1, 1, 1, 1, 1,\n",
      "         1, 1, 1, 1, 1, 1, 1, 1, 1, 1, 1, 1, 1, 1, 1, 1, 1, 1, 1, 1, 1, 1, 1, 1],\n",
      "        [1, 1, 1, 1, 1, 1, 1, 1, 1, 1, 1, 1, 1, 1, 1, 1, 1, 1, 1, 0, 0, 0, 0, 0,\n",
      "         0, 0, 0, 0, 0, 0, 0, 0, 0, 0, 0, 0, 0, 0, 0, 0, 0, 0, 0, 0, 0, 0, 0, 0,\n",
      "         0, 0, 0, 0, 0, 0, 0, 0, 0, 0, 0, 0, 0, 0, 0, 0, 0, 0, 0, 0, 0, 0, 0, 0],\n",
      "        [1, 1, 1, 1, 1, 1, 1, 1, 1, 1, 1, 1, 1, 1, 1, 1, 0, 0, 0, 0, 0, 0, 0, 0,\n",
      "         0, 0, 0, 0, 0, 0, 0, 0, 0, 0, 0, 0, 0, 0, 0, 0, 0, 0, 0, 0, 0, 0, 0, 0,\n",
      "         0, 0, 0, 0, 0, 0, 0, 0, 0, 0, 0, 0, 0, 0, 0, 0, 0, 0, 0, 0, 0, 0, 0, 0],\n",
      "        [1, 1, 1, 1, 1, 1, 1, 1, 1, 1, 1, 1, 1, 1, 1, 1, 1, 1, 1, 1, 1, 1, 1, 1,\n",
      "         1, 1, 1, 0, 0, 0, 0, 0, 0, 0, 0, 0, 0, 0, 0, 0, 0, 0, 0, 0, 0, 0, 0, 0,\n",
      "         0, 0, 0, 0, 0, 0, 0, 0, 0, 0, 0, 0, 0, 0, 0, 0, 0, 0, 0, 0, 0, 0, 0, 0],\n",
      "        [1, 1, 1, 1, 1, 1, 1, 1, 1, 1, 1, 1, 1, 1, 1, 1, 1, 1, 1, 1, 1, 1, 1, 1,\n",
      "         1, 1, 1, 1, 1, 1, 1, 1, 1, 1, 1, 1, 1, 1, 1, 1, 1, 1, 1, 1, 1, 1, 1, 1,\n",
      "         1, 1, 1, 1, 1, 1, 1, 1, 1, 1, 1, 1, 1, 1, 1, 1, 1, 1, 1, 1, 0, 0, 0, 0]]), 'input_text': ['### Question: How to prepare copper pipe for soldering?\\n### Solution: Ream the inside of each pipe with a wire brush, then clean the outside of the pipe with steel wool or sand paper and then apply flux to the pipe surfaces to be mated then assemble.', '### Question: To help your brain retain information when studying,\\n### Solution: have a cup of beer or two while studying.', '### Question: Find a lost dog.\\n### Solution: Bring a piece of newspaper and bowl of water to spot where dog was last seen.', '### Question: To get  get super-creative with this tasty cake\\n### Solution: build the layers in a large flower pot, adding edible flowers on top, or plastic flowers,', '### Question: To avoid tracking mud inside after a day playing in the rain,\\n### Solution: wash your feet in a bucket by the front door.', \"### Question: What can I use instead of breadcrumbs?\\n### Solution: Just crush the bran flakes to get a healthy substitute for breadcrumbs. If you don't have bran cereal, take any fiber-rich cereal. To increase its nutritional value, mix it with some herbs such as garlic, oregano, or parsley.\", '### Question: straw\\n### Solution: can be used for bedding on horses that are exhausted', '### Question: glasses\\n### Solution: helped me when I  blanket the movie', '### Question: To make fabric in homemade tutu stand out more.\\n### Solution: Add embellishments like string before gathering.', '### Question: how to make an avocado-egg pita\\n### Solution: Mash 1/2 avocado with 2 tablespoons canned chickpeas, a pinch of ground cumin, and salt and pepper. Spread in a toasted split pita. Fill with 1 sliced hard-boiled egg, cilantro and a squeeze of lime.'], 'q_ids': tensor([[21017, 18233,    25,  1374,   284,  8335, 15317, 12656,   329,  2702,\n",
      "          1586,    30, 50256, 50256, 50256, 50256],\n",
      "        [21017, 18233,    25,  1675,  1037,   534,  3632, 12377,  1321,   618,\n",
      "         11065,    11, 50256, 50256, 50256, 50256],\n",
      "        [21017, 18233,    25,  9938,   257,  2626,  3290,    13, 50256, 50256,\n",
      "         50256, 50256, 50256, 50256, 50256, 50256],\n",
      "        [21017, 18233,    25,  1675,   651,   220,   651,  2208,    12, 20123,\n",
      "           425,   351,   428, 25103, 12187, 50256],\n",
      "        [21017, 18233,    25,  1675,  3368,  9646, 17492,  2641,   706,   257,\n",
      "          1110,  2712,   287,   262,  6290,    11],\n",
      "        [21017, 18233,    25,  1867,   460,   314,   779,  2427,   286,  8509,\n",
      "          6098, 18146,    30, 50256, 50256, 50256],\n",
      "        [21017, 18233,    25, 14787, 50256, 50256, 50256, 50256, 50256, 50256,\n",
      "         50256, 50256, 50256, 50256, 50256, 50256],\n",
      "        [21017, 18233,    25, 15232, 50256, 50256, 50256, 50256, 50256, 50256,\n",
      "         50256, 50256, 50256, 50256, 50256, 50256],\n",
      "        [21017, 18233,    25,  1675,   787,  9664,   287, 24584,  9732,    84,\n",
      "          1302,   503,   517,    13, 50256, 50256],\n",
      "        [21017, 18233,    25,   703,   284,   787,   281, 40377,    12, 33856,\n",
      "           279,  5350, 50256, 50256, 50256, 50256]]), 'q_att_mask': tensor([[1, 1, 1, 1, 1, 1, 1, 1, 1, 1, 1, 1, 0, 0, 0, 0],\n",
      "        [1, 1, 1, 1, 1, 1, 1, 1, 1, 1, 1, 1, 0, 0, 0, 0],\n",
      "        [1, 1, 1, 1, 1, 1, 1, 1, 0, 0, 0, 0, 0, 0, 0, 0],\n",
      "        [1, 1, 1, 1, 1, 1, 1, 1, 1, 1, 1, 1, 1, 1, 1, 0],\n",
      "        [1, 1, 1, 1, 1, 1, 1, 1, 1, 1, 1, 1, 1, 1, 1, 1],\n",
      "        [1, 1, 1, 1, 1, 1, 1, 1, 1, 1, 1, 1, 1, 0, 0, 0],\n",
      "        [1, 1, 1, 1, 0, 0, 0, 0, 0, 0, 0, 0, 0, 0, 0, 0],\n",
      "        [1, 1, 1, 1, 0, 0, 0, 0, 0, 0, 0, 0, 0, 0, 0, 0],\n",
      "        [1, 1, 1, 1, 1, 1, 1, 1, 1, 1, 1, 1, 1, 1, 0, 0],\n",
      "        [1, 1, 1, 1, 1, 1, 1, 1, 1, 1, 1, 1, 0, 0, 0, 0]]), 'a_ids': tensor([[  198, 21017, 28186,    25,   797,   321,   262,  2641,   286,  1123,\n",
      "         12656,   351,   257,  6503, 14093,    11,   788,  3424,   262,  2354,\n",
      "           286,   262, 12656,   351,  7771, 25749,   393,  6450,  3348,   290,\n",
      "           788,  4174, 28462,   284,   262, 12656, 16649,   284,   307,   285,\n",
      "           515,   788, 25432,    13, 50256, 50256, 50256, 50256, 50256, 50256,\n",
      "         50256, 50256, 50256, 50256, 50256, 50256, 50256, 50256, 50256],\n",
      "        [  198, 21017, 28186,    25,   423,   257,  6508,   286,  6099,   393,\n",
      "           734,   981, 11065,    13, 50256, 50256, 50256, 50256, 50256, 50256,\n",
      "         50256, 50256, 50256, 50256, 50256, 50256, 50256, 50256, 50256, 50256,\n",
      "         50256, 50256, 50256, 50256, 50256, 50256, 50256, 50256, 50256, 50256,\n",
      "         50256, 50256, 50256, 50256, 50256, 50256, 50256, 50256, 50256, 50256,\n",
      "         50256, 50256, 50256, 50256, 50256, 50256, 50256, 50256, 50256],\n",
      "        [  198, 21017, 28186,    25, 24347,   257,  3704,   286,  7533,   290,\n",
      "          9396,   286,  1660,   284,  4136,   810,  3290,   373,   938,  1775,\n",
      "            13, 50256, 50256, 50256, 50256, 50256, 50256, 50256, 50256, 50256,\n",
      "         50256, 50256, 50256, 50256, 50256, 50256, 50256, 50256, 50256, 50256,\n",
      "         50256, 50256, 50256, 50256, 50256, 50256, 50256, 50256, 50256, 50256,\n",
      "         50256, 50256, 50256, 50256, 50256, 50256, 50256, 50256, 50256],\n",
      "        [  198, 21017, 28186,    25,  1382,   262, 11685,   287,   257,  1588,\n",
      "         15061,  1787,    11,  4375, 35988, 12734,   319,  1353,    11,   393,\n",
      "          7309, 12734,    11, 50256, 50256, 50256, 50256, 50256, 50256, 50256,\n",
      "         50256, 50256, 50256, 50256, 50256, 50256, 50256, 50256, 50256, 50256,\n",
      "         50256, 50256, 50256, 50256, 50256, 50256, 50256, 50256, 50256, 50256,\n",
      "         50256, 50256, 50256, 50256, 50256, 50256, 50256, 50256, 50256],\n",
      "        [  198, 21017, 28186,    25, 13502,   534,  3625,   287,   257, 19236,\n",
      "           416,   262,  2166,  3420,    13, 50256, 50256, 50256, 50256, 50256,\n",
      "         50256, 50256, 50256, 50256, 50256, 50256, 50256, 50256, 50256, 50256,\n",
      "         50256, 50256, 50256, 50256, 50256, 50256, 50256, 50256, 50256, 50256,\n",
      "         50256, 50256, 50256, 50256, 50256, 50256, 50256, 50256, 50256, 50256,\n",
      "         50256, 50256, 50256, 50256, 50256, 50256, 50256, 50256, 50256],\n",
      "        [  198, 21017, 28186,    25,  2329, 19813,   262,   865,   272, 42330,\n",
      "           284,   651,   257,  5448, 15373,   329,  8509,  6098, 18146,    13,\n",
      "          1002,   345,   836,   470,   423,   865,   272, 33158,    11,  1011,\n",
      "           597, 13608,    12,  7527, 33158,    13,  1675,  2620,   663, 24000,\n",
      "          1988,    11,  5022,   340,   351,   617, 25411,   884,   355, 17644,\n",
      "            11, 23751,  1030,    78,    11,   393, 13544,  1636,    13],\n",
      "        [  198, 21017, 28186,    25,   460,   307,   973,   329,  3996, 12083,\n",
      "           319, 14260,   326,   389, 19064, 50256, 50256, 50256, 50256, 50256,\n",
      "         50256, 50256, 50256, 50256, 50256, 50256, 50256, 50256, 50256, 50256,\n",
      "         50256, 50256, 50256, 50256, 50256, 50256, 50256, 50256, 50256, 50256,\n",
      "         50256, 50256, 50256, 50256, 50256, 50256, 50256, 50256, 50256, 50256,\n",
      "         50256, 50256, 50256, 50256, 50256, 50256, 50256, 50256, 50256],\n",
      "        [  198, 21017, 28186,    25,  4193,   502,   618,   314,   220, 18447,\n",
      "           262,  3807, 50256, 50256, 50256, 50256, 50256, 50256, 50256, 50256,\n",
      "         50256, 50256, 50256, 50256, 50256, 50256, 50256, 50256, 50256, 50256,\n",
      "         50256, 50256, 50256, 50256, 50256, 50256, 50256, 50256, 50256, 50256,\n",
      "         50256, 50256, 50256, 50256, 50256, 50256, 50256, 50256, 50256, 50256,\n",
      "         50256, 50256, 50256, 50256, 50256, 50256, 50256, 50256, 50256],\n",
      "        [  198, 21017, 28186,    25,  3060, 47399,   680,   902,   588,  4731,\n",
      "           878, 11228,    13, 50256, 50256, 50256, 50256, 50256, 50256, 50256,\n",
      "         50256, 50256, 50256, 50256, 50256, 50256, 50256, 50256, 50256, 50256,\n",
      "         50256, 50256, 50256, 50256, 50256, 50256, 50256, 50256, 50256, 50256,\n",
      "         50256, 50256, 50256, 50256, 50256, 50256, 50256, 50256, 50256, 50256,\n",
      "         50256, 50256, 50256, 50256, 50256, 50256, 50256, 50256, 50256],\n",
      "        [  198, 21017, 28186,    25, 30870,   352,    14,    17, 40377,   351,\n",
      "           362, 30064, 32530, 17943,   431,   292,    11,   257, 25394,   286,\n",
      "          2323,   269,  7230,    11,   290,  8268,   290, 13385,    13, 31843,\n",
      "           287,   257,   284,  8992,  6626,   279,  5350,    13, 27845,   351,\n",
      "           352, 26790,  1327,    12,  2127,  3902,  5935,    11,   269, 48311,\n",
      "           290,   257, 21229,   286, 28738,    13, 50256, 50256, 50256]]), 'a_att_mask': tensor([[1, 1, 1, 1, 1, 1, 1, 1, 1, 1, 1, 1, 1, 1, 1, 1, 1, 1, 1, 1, 1, 1, 1, 1,\n",
      "         1, 1, 1, 1, 1, 1, 1, 1, 1, 1, 1, 1, 1, 1, 1, 1, 1, 1, 1, 1, 0, 0, 0, 0,\n",
      "         0, 0, 0, 0, 0, 0, 0, 0, 0, 0, 0],\n",
      "        [1, 1, 1, 1, 1, 1, 1, 1, 1, 1, 1, 1, 1, 1, 0, 0, 0, 0, 0, 0, 0, 0, 0, 0,\n",
      "         0, 0, 0, 0, 0, 0, 0, 0, 0, 0, 0, 0, 0, 0, 0, 0, 0, 0, 0, 0, 0, 0, 0, 0,\n",
      "         0, 0, 0, 0, 0, 0, 0, 0, 0, 0, 0],\n",
      "        [1, 1, 1, 1, 1, 1, 1, 1, 1, 1, 1, 1, 1, 1, 1, 1, 1, 1, 1, 1, 1, 0, 0, 0,\n",
      "         0, 0, 0, 0, 0, 0, 0, 0, 0, 0, 0, 0, 0, 0, 0, 0, 0, 0, 0, 0, 0, 0, 0, 0,\n",
      "         0, 0, 0, 0, 0, 0, 0, 0, 0, 0, 0],\n",
      "        [1, 1, 1, 1, 1, 1, 1, 1, 1, 1, 1, 1, 1, 1, 1, 1, 1, 1, 1, 1, 1, 1, 1, 0,\n",
      "         0, 0, 0, 0, 0, 0, 0, 0, 0, 0, 0, 0, 0, 0, 0, 0, 0, 0, 0, 0, 0, 0, 0, 0,\n",
      "         0, 0, 0, 0, 0, 0, 0, 0, 0, 0, 0],\n",
      "        [1, 1, 1, 1, 1, 1, 1, 1, 1, 1, 1, 1, 1, 1, 1, 0, 0, 0, 0, 0, 0, 0, 0, 0,\n",
      "         0, 0, 0, 0, 0, 0, 0, 0, 0, 0, 0, 0, 0, 0, 0, 0, 0, 0, 0, 0, 0, 0, 0, 0,\n",
      "         0, 0, 0, 0, 0, 0, 0, 0, 0, 0, 0],\n",
      "        [1, 1, 1, 1, 1, 1, 1, 1, 1, 1, 1, 1, 1, 1, 1, 1, 1, 1, 1, 1, 1, 1, 1, 1,\n",
      "         1, 1, 1, 1, 1, 1, 1, 1, 1, 1, 1, 1, 1, 1, 1, 1, 1, 1, 1, 1, 1, 1, 1, 1,\n",
      "         1, 1, 1, 1, 1, 1, 1, 1, 1, 1, 1],\n",
      "        [1, 1, 1, 1, 1, 1, 1, 1, 1, 1, 1, 1, 1, 1, 1, 0, 0, 0, 0, 0, 0, 0, 0, 0,\n",
      "         0, 0, 0, 0, 0, 0, 0, 0, 0, 0, 0, 0, 0, 0, 0, 0, 0, 0, 0, 0, 0, 0, 0, 0,\n",
      "         0, 0, 0, 0, 0, 0, 0, 0, 0, 0, 0],\n",
      "        [1, 1, 1, 1, 1, 1, 1, 1, 1, 1, 1, 1, 0, 0, 0, 0, 0, 0, 0, 0, 0, 0, 0, 0,\n",
      "         0, 0, 0, 0, 0, 0, 0, 0, 0, 0, 0, 0, 0, 0, 0, 0, 0, 0, 0, 0, 0, 0, 0, 0,\n",
      "         0, 0, 0, 0, 0, 0, 0, 0, 0, 0, 0],\n",
      "        [1, 1, 1, 1, 1, 1, 1, 1, 1, 1, 1, 1, 1, 0, 0, 0, 0, 0, 0, 0, 0, 0, 0, 0,\n",
      "         0, 0, 0, 0, 0, 0, 0, 0, 0, 0, 0, 0, 0, 0, 0, 0, 0, 0, 0, 0, 0, 0, 0, 0,\n",
      "         0, 0, 0, 0, 0, 0, 0, 0, 0, 0, 0],\n",
      "        [1, 1, 1, 1, 1, 1, 1, 1, 1, 1, 1, 1, 1, 1, 1, 1, 1, 1, 1, 1, 1, 1, 1, 1,\n",
      "         1, 1, 1, 1, 1, 1, 1, 1, 1, 1, 1, 1, 1, 1, 1, 1, 1, 1, 1, 1, 1, 1, 1, 1,\n",
      "         1, 1, 1, 1, 1, 1, 1, 1, 0, 0, 0]]), 'q_text': ['### Question: How to prepare copper pipe for soldering?', '### Question: To help your brain retain information when studying,', '### Question: Find a lost dog.', '### Question: To get  get super-creative with this tasty cake', '### Question: To avoid tracking mud inside after a day playing in the rain,', '### Question: What can I use instead of breadcrumbs?', '### Question: straw', '### Question: glasses', '### Question: To make fabric in homemade tutu stand out more.', '### Question: how to make an avocado-egg pita'], 'a_text': ['\\n### Solution: Ream the inside of each pipe with a wire brush, then clean the outside of the pipe with steel wool or sand paper and then apply flux to the pipe surfaces to be mated then assemble.', '\\n### Solution: have a cup of beer or two while studying.', '\\n### Solution: Bring a piece of newspaper and bowl of water to spot where dog was last seen.', '\\n### Solution: build the layers in a large flower pot, adding edible flowers on top, or plastic flowers,', '\\n### Solution: wash your feet in a bucket by the front door.', \"\\n### Solution: Just crush the bran flakes to get a healthy substitute for breadcrumbs. If you don't have bran cereal, take any fiber-rich cereal. To increase its nutritional value, mix it with some herbs such as garlic, oregano, or parsley.\", '\\n### Solution: can be used for bedding on horses that are exhausted', '\\n### Solution: helped me when I  blanket the movie', '\\n### Solution: Add embellishments like string before gathering.', '\\n### Solution: Mash 1/2 avocado with 2 tablespoons canned chickpeas, a pinch of ground cumin, and salt and pepper. Spread in a toasted split pita. Fill with 1 sliced hard-boiled egg, cilantro and a squeeze of lime.'], 'labels': tensor([-1, -1, -1, -1, -1, -1, -1, -1, -1, -1])}\n"
     ]
    }
   ],
   "source": [
    "for batch in dl:\n",
    "    print(batch)\n",
    "    break"
   ],
   "metadata": {
    "collapsed": false,
    "pycharm": {
     "name": "#%%\n"
    }
   }
  },
  {
   "cell_type": "code",
   "execution_count": null,
   "outputs": [],
   "source": [],
   "metadata": {
    "collapsed": false,
    "pycharm": {
     "name": "#%%\n"
    }
   }
  }
 ],
 "metadata": {
  "kernelspec": {
   "display_name": "Python 3",
   "language": "python",
   "name": "python3"
  },
  "language_info": {
   "codemirror_mode": {
    "name": "ipython",
    "version": 2
   },
   "file_extension": ".py",
   "mimetype": "text/x-python",
   "name": "python",
   "nbconvert_exporter": "python",
   "pygments_lexer": "ipython2",
   "version": "2.7.6"
  }
 },
 "nbformat": 4,
 "nbformat_minor": 0
}