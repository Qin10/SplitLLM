{
 "cells": [
  {
   "cell_type": "markdown",
   "source": [
    "## Step 1. 加载模型与Tokenizer"
   ],
   "metadata": {
    "collapsed": false,
    "pycharm": {
     "name": "#%% md\n"
    }
   }
  },
  {
   "cell_type": "code",
   "execution_count": 1,
   "outputs": [],
   "source": [
    "import os\n",
    "import sys\n",
    "\n",
    "from transformers import AutoTokenizer\n",
    "\n",
    "sys.path.append(os.path.abspath('../..'))\n",
    "from sfl.model.gpt2.gpt2_split import GPT2SplitLMHeadModel\n",
    "\n",
    "cache_dir = '/root/autodl-tmp/sfl/models'  # 模型的缓存位置，需要修改\n",
    "save_dir = '/root/autodl-tmp/sfl/models/checkpoints'\n",
    "tokenizer = AutoTokenizer.from_pretrained(\"gpt2\", cache_dir=cache_dir)\n",
    "model = GPT2SplitLMHeadModel.from_pretrained(\"gpt2\", cache_dir=cache_dir)\n",
    "tokenizer.pad_token = tokenizer.eos_token\n",
    "tokenizer.pad_token_id = 50256"
   ],
   "metadata": {
    "collapsed": false,
    "pycharm": {
     "name": "#%%\n"
    }
   }
  },
  {
   "cell_type": "markdown",
   "source": [],
   "metadata": {
    "collapsed": false,
    "pycharm": {
     "name": "#%% md\n"
    }
   }
  },
  {
   "cell_type": "code",
   "execution_count": 2,
   "outputs": [],
   "source": [
    "from sfl.utils import calculate_rouge\n",
    "# 恢复的评价指标选用ROUGE\n",
    "\n",
    "def evaluate(epc, md, attacker, tok, test_data_loader):\n",
    "    md.eval()\n",
    "    attacker.eval()\n",
    "    dl_len = len(test_data_loader)\n",
    "    with torch.no_grad():\n",
    "        rouge_1, rouge_2, rouge_l_f1, rouge_l_p, rouge_l_r = 0, 0, 0, 0, 0\n",
    "        for step, batch in tqdm(enumerate(test_data_loader), total=dl_len):\n",
    "            input_ids = batch['input_ids'].to(md.device)\n",
    "            attention_mask = batch['input_att_mask'].to(md.device)\n",
    "            inter = md(input_ids=input_ids, attention_mask=attention_mask)\n",
    "            logits = attacker(inter)\n",
    "            result = calculate_rouge(tok, logits, batch['input_text'])\n",
    "            rouge_1 += result['rouge-1']['f']\n",
    "            rouge_2 += result['rouge-2']['f']\n",
    "            rouge_l_f1 += result['rouge-l']['f']\n",
    "            rouge_l_p += result['rouge-l']['p']\n",
    "            rouge_l_r += result['rouge-l']['r']\n",
    "    print(\n",
    "        f'Epoch {epc} Test Rouge_1: {rouge_1 / dl_len}, Rouge_2: {rouge_2 / dl_len}, Rouge_l_f1: {rouge_l_f1 / dl_len}, Rouge_l_p: {rouge_l_p / dl_len}, Rouge_l_r: {rouge_l_r / dl_len}')\n",
    "    path = save_dir + '/attacker/'\n",
    "    os.makedirs(path, exist_ok=True)\n",
    "    torch.save(attacker.state_dict(), path+f'epoch_{epc}_rouge_{rouge_l_f1 / dl_len}.pt')\n",
    "    md.train(True)\n",
    "    attacker.train(True)\n",
    "    return rouge_1 / dl_len, rouge_2 / dl_len, rouge_l_f1 / dl_len, rouge_l_p / dl_len, rouge_l_r / dl_len"
   ],
   "metadata": {
    "collapsed": false,
    "pycharm": {
     "name": "#%%\n"
    }
   }
  },
  {
   "cell_type": "markdown",
   "source": [
    "### 加载数据集"
   ],
   "metadata": {
    "collapsed": false,
    "pycharm": {
     "name": "#%% md\n"
    }
   }
  },
  {
   "cell_type": "code",
   "execution_count": 3,
   "outputs": [],
   "source": [
    "from datasets import load_dataset\n",
    "from torch.utils.data import DataLoader\n",
    "\n",
    "def encode(examples):\n",
    "    # same input and output\n",
    "    input = tokenizer(examples[\"goal\"], padding=\"max_length\")\n",
    "    return {'input_ids': input['input_ids'], 'input_att_mask': input['attention_mask'],\n",
    "            'output_ids': input['input_ids'], 'output_att_mask': input['attention_mask'],\n",
    "            \"input_text\": examples[\"goal\"], \"output_text\": examples[\"sol1\"]}\n",
    "\n",
    "dataset = load_dataset('piqa')['train']\n",
    "dataset_test = load_dataset('piqa')['validation']\n",
    "dataset = dataset.map(encode)\n",
    "dataset_test = dataset_test.map(encode)\n",
    "dataset.set_format(type=\"torch\", columns=[\"input_ids\", \"input_att_mask\", \"output_ids\", \"output_att_mask\", \"input_text\"])\n",
    "dataset_test.set_format(type=\"torch\",\n",
    "                        columns=[\"input_ids\", \"input_att_mask\", \"output_ids\", \"output_att_mask\", \"input_text\"])\n",
    "dataloader = DataLoader(dataset, batch_size=6)\n",
    "dataloader_test = DataLoader(dataset_test, batch_size=6)\n"
   ],
   "metadata": {
    "collapsed": false,
    "pycharm": {
     "name": "#%%\n"
    }
   }
  },
  {
   "cell_type": "markdown",
   "source": [
    "### 切分模型"
   ],
   "metadata": {
    "collapsed": false,
    "pycharm": {
     "name": "#%% md\n"
    }
   }
  },
  {
   "cell_type": "code",
   "execution_count": 4,
   "outputs": [
    {
     "name": "stdout",
     "output_type": "stream",
     "text": [
      "=================Split-gpt2=================\n",
      "==================Top Layers==================\n",
      "==================Trunk Layers==================\n",
      "\n",
      "transformer.h.2:[ln_1.weight: (768,), ln_1.bias: (768,), attn.c_attn.weight: (768, 2304), attn.c_attn.bias: (2304,), attn.c_proj.weight: (768, 768), attn.c_proj.bias: (768,), ln_2.weight: (768,), ln_2.bias: (768,), mlp.c_fc.weight: (768, 3072), mlp.c_fc.bias: (3072,), mlp.c_proj.weight: (3072, 768), mlp.c_proj.bias: (768,)]\n",
      "\n",
      "transformer.h.3:[ln_1.weight: (768,), ln_1.bias: (768,), attn.c_attn.weight: (768, 2304), attn.c_attn.bias: (2304,), attn.c_proj.weight: (768, 768), attn.c_proj.bias: (768,), ln_2.weight: (768,), ln_2.bias: (768,), mlp.c_fc.weight: (768, 3072), mlp.c_fc.bias: (3072,), mlp.c_proj.weight: (3072, 768), mlp.c_proj.bias: (768,)]\n",
      "\n",
      "transformer.h.4:[ln_1.weight: (768,), ln_1.bias: (768,), attn.c_attn.weight: (768, 2304), attn.c_attn.bias: (2304,), attn.c_proj.weight: (768, 768), attn.c_proj.bias: (768,), ln_2.weight: (768,), ln_2.bias: (768,), mlp.c_fc.weight: (768, 3072), mlp.c_fc.bias: (3072,), mlp.c_proj.weight: (3072, 768), mlp.c_proj.bias: (768,)]\n",
      "\n",
      "transformer.h.5:[ln_1.weight: (768,), ln_1.bias: (768,), attn.c_attn.weight: (768, 2304), attn.c_attn.bias: (2304,), attn.c_proj.weight: (768, 768), attn.c_proj.bias: (768,), ln_2.weight: (768,), ln_2.bias: (768,), mlp.c_fc.weight: (768, 3072), mlp.c_fc.bias: (3072,), mlp.c_proj.weight: (3072, 768), mlp.c_proj.bias: (768,)]\n",
      "\n",
      "transformer.h.6:[ln_1.weight: (768,), ln_1.bias: (768,), attn.c_attn.weight: (768, 2304), attn.c_attn.bias: (2304,), attn.c_proj.weight: (768, 768), attn.c_proj.bias: (768,), ln_2.weight: (768,), ln_2.bias: (768,), mlp.c_fc.weight: (768, 3072), mlp.c_fc.bias: (3072,), mlp.c_proj.weight: (3072, 768), mlp.c_proj.bias: (768,)]\n",
      "\n",
      "transformer.h.7:[ln_1.weight: (768,), ln_1.bias: (768,), attn.c_attn.weight: (768, 2304), attn.c_attn.bias: (2304,), attn.c_proj.weight: (768, 768), attn.c_proj.bias: (768,), ln_2.weight: (768,), ln_2.bias: (768,), mlp.c_fc.weight: (768, 3072), mlp.c_fc.bias: (3072,), mlp.c_proj.weight: (3072, 768), mlp.c_proj.bias: (768,)]\n",
      "\n",
      "transformer.h.8:[ln_1.weight: (768,), ln_1.bias: (768,), attn.c_attn.weight: (768, 2304), attn.c_attn.bias: (2304,), attn.c_proj.weight: (768, 768), attn.c_proj.bias: (768,), ln_2.weight: (768,), ln_2.bias: (768,), mlp.c_fc.weight: (768, 3072), mlp.c_fc.bias: (3072,), mlp.c_proj.weight: (3072, 768), mlp.c_proj.bias: (768,)]\n",
      "\n",
      "transformer.h.9:[ln_1.weight: (768,), ln_1.bias: (768,), attn.c_attn.weight: (768, 2304), attn.c_attn.bias: (2304,), attn.c_proj.weight: (768, 768), attn.c_proj.bias: (768,), ln_2.weight: (768,), ln_2.bias: (768,), mlp.c_fc.weight: (768, 3072), mlp.c_fc.bias: (3072,), mlp.c_proj.weight: (3072, 768), mlp.c_proj.bias: (768,)]\n",
      "\n",
      "transformer.h.10:[ln_1.weight: (768,), ln_1.bias: (768,), attn.c_attn.weight: (768, 2304), attn.c_attn.bias: (2304,), attn.c_proj.weight: (768, 768), attn.c_proj.bias: (768,), ln_2.weight: (768,), ln_2.bias: (768,), mlp.c_fc.weight: (768, 3072), mlp.c_fc.bias: (3072,), mlp.c_proj.weight: (3072, 768), mlp.c_proj.bias: (768,)]\n",
      "\n",
      "transformer.h.11:[ln_1.weight: (768,), ln_1.bias: (768,), attn.c_attn.weight: (768, 2304), attn.c_attn.bias: (2304,), attn.c_proj.weight: (768, 768), attn.c_proj.bias: (768,), ln_2.weight: (768,), ln_2.bias: (768,), mlp.c_fc.weight: (768, 3072), mlp.c_fc.bias: (3072,), mlp.c_proj.weight: (3072, 768), mlp.c_proj.bias: (768,)]\n",
      "==================Bottom Layers==================\n",
      "\n",
      "transformer.wte.weight:[: (50257, 768)]\n",
      "\n",
      "transformer.wpe.weight:[: (1024, 768)]\n",
      "\n",
      "transformer.h.0:[ln_1.weight: (768,), ln_1.bias: (768,), attn.c_attn.weight: (768, 2304), attn.c_attn.bias: (2304,), attn.c_proj.weight: (768, 768), attn.c_proj.bias: (768,), ln_2.weight: (768,), ln_2.bias: (768,), mlp.c_fc.weight: (768, 3072), mlp.c_fc.bias: (3072,), mlp.c_proj.weight: (3072, 768), mlp.c_proj.bias: (768,)]\n",
      "\n",
      "transformer.h.1:[ln_1.weight: (768,), ln_1.bias: (768,), attn.c_attn.weight: (768, 2304), attn.c_attn.bias: (2304,), attn.c_proj.weight: (768, 768), attn.c_proj.bias: (768,), ln_2.weight: (768,), ln_2.bias: (768,), mlp.c_fc.weight: (768, 3072), mlp.c_fc.bias: (3072,), mlp.c_proj.weight: (3072, 768), mlp.c_proj.bias: (768,)]\n",
      "=============================================\n"
     ]
    }
   ],
   "source": [
    "from sfl.utils import FLConfig\n",
    "model.config_sfl(FLConfig(collect_intermediates=False,\n",
    "                          split_point_1=2, # 第0～1层为top，余下的都是trunk\n",
    "                          split_point_2=999,\n",
    "                          attack_mode='b2tr' # 攻击的输出是bottom-to-trunk中间输出\n",
    "                          ),\n",
    "                 param_keeper=None)\n",
    "# model = model.convert_to_lora_model(restore_top_bottom=False)\n",
    "model.print_split_model()"
   ],
   "metadata": {
    "collapsed": false,
    "pycharm": {
     "name": "#%%\n"
    }
   }
  },
  {
   "cell_type": "markdown",
   "source": [
    "### 训练Attack Model"
   ],
   "metadata": {
    "collapsed": false,
    "pycharm": {
     "name": "#%% md\n"
    }
   }
  },
  {
   "cell_type": "code",
   "execution_count": 5,
   "outputs": [
    {
     "data": {
      "text/plain": "  0%|          | 0/307 [00:00<?, ?it/s]",
      "application/vnd.jupyter.widget-view+json": {
       "version_major": 2,
       "version_minor": 0,
       "model_id": "c0920de616c34d4783bce4eb132444f4"
      }
     },
     "metadata": {},
     "output_type": "display_data"
    },
    {
     "name": "stdout",
     "output_type": "stream",
     "text": [
      "Epoch 0 Test Rouge_1: 5.4288814223670027e-05, Rouge_2: 0.0, Rouge_l_f1: 5.4288814223670027e-05, Rouge_l_p: 3.877772607414301e-05, Rouge_l_r: 9.048136083966703e-05\n"
     ]
    },
    {
     "data": {
      "text/plain": "  0%|          | 0/13430 [00:00<?, ?it/s]",
      "application/vnd.jupyter.widget-view+json": {
       "version_major": 2,
       "version_minor": 0,
       "model_id": "6487e4f832e748f18799e39665f6ec26"
      }
     },
     "metadata": {},
     "output_type": "display_data"
    },
    {
     "name": "stdout",
     "output_type": "stream",
     "text": [
      "To mix food coloring with sugar, you can ==> TF arguing Manager Italianademprogress ClownEP existed\n",
      "To mix food coloring with sugar, you can ==> To,, you can\n",
      "To mix food coloring with sugar, you can ==> To with, you can\n",
      "To mix food coloring with sugar, you can ==> To mix food toy with cake, you can\n",
      "To mix food coloring with sugar, you can ==> To mix food with egg, you can\n",
      "To mix food coloring with sugar, you can ==> To mix food? with sugar, you can\n",
      "To mix food coloring with sugar, you can ==> To mix food with sugar, you can\n",
      "To mix food coloring with sugar, you can ==> To mix food with sugar, you can\n",
      "To mix food coloring with sugar, you can ==> To mix food white with sugar, you can\n",
      "Epoch 0 Train Rouge_1: 0.5446797326462616, Rouge_2: 0.3712868895887097, Rouge_l_f1: 0.5443499999457075, Rouge_l_p: 0.5989855911314934, Rouge_l_r: 0.51519047757485\n"
     ]
    },
    {
     "data": {
      "text/plain": "  0%|          | 0/307 [00:00<?, ?it/s]",
      "application/vnd.jupyter.widget-view+json": {
       "version_major": 2,
       "version_minor": 0,
       "model_id": "6e9ef1b5cd724b22bd7f3e6cd73812dd"
      }
     },
     "metadata": {},
     "output_type": "display_data"
    },
    {
     "name": "stdout",
     "output_type": "stream",
     "text": [
      "Epoch 0 Test Rouge_1: 0.737463121898872, Rouge_2: 0.60199699685917, Rouge_l_f1: 0.737463121898872, Rouge_l_p: 0.750184156136232, Rouge_l_r: 0.7293521115085411\n",
      "To mix food coloring with sugar, you can ==> To mix food with sugar, you can\n",
      "To mix food coloring with sugar, you can ==> To mix food marker with sugar, you can\n",
      "To mix food coloring with sugar, you can ==> To mix food color with sugar, you can\n",
      "To mix food coloring with sugar, you can ==> To mix food with sugar, you can\n",
      "To mix food coloring with sugar, you can ==> To mix food seasoning with sugar, you can\n",
      "To mix food coloring with sugar, you can ==> To mix food coloring with sugar, you can\n",
      "To mix food coloring with sugar, you can ==> To mix food coloring with sugar, you can\n",
      "To mix food coloring with sugar, you can ==> To mix food coloring with sugar, you can\n",
      "To mix food coloring with sugar, you can ==> To mix food coloring with sugar, you can\n",
      "Epoch 1 Train Rouge_1: 0.7881661956990906, Rouge_2: 0.6829240435910853, Rouge_l_f1: 0.7881514786795336, Rouge_l_p: 0.7988552193879704, Rouge_l_r: 0.7811076233944739\n"
     ]
    },
    {
     "data": {
      "text/plain": "  0%|          | 0/307 [00:00<?, ?it/s]",
      "application/vnd.jupyter.widget-view+json": {
       "version_major": 2,
       "version_minor": 0,
       "model_id": "051dce66fa6e4b269f06d2a89df70554"
      }
     },
     "metadata": {},
     "output_type": "display_data"
    },
    {
     "name": "stdout",
     "output_type": "stream",
     "text": [
      "Epoch 1 Test Rouge_1: 0.819494650984453, Rouge_2: 0.7278421315767966, Rouge_l_f1: 0.819494650984453, Rouge_l_p: 0.8280878110787556, Rouge_l_r: 0.8142011218988945\n",
      "To mix food coloring with sugar, you can ==> To mix food coloring with sugar, you can\n",
      "To mix food coloring with sugar, you can ==> To mix food coloring with sugar, you can\n",
      "To mix food coloring with sugar, you can ==> To mix food coloring with sugar, you can\n",
      "To mix food coloring with sugar, you can ==> To mix food coloring with sugar, you can\n",
      "To mix food coloring with sugar, you can ==> To mix food coloring with sugar, you can\n",
      "To mix food coloring with sugar, you can ==> To mix food coloring with sugar, you can\n",
      "To mix food coloring with sugar, you can ==> To mix food coloring with sugar, you can\n",
      "To mix food coloring with sugar, you can ==> To mix food coloring with sugar, you can\n",
      "To mix food coloring with sugar, you can ==> To mix food coloring with sugar, you can\n",
      "Epoch 2 Train Rouge_1: 0.8541137084427879, Rouge_2: 0.781301610333715, Rouge_l_f1: 0.8541137084427879, Rouge_l_p: 0.8610395026087331, Rouge_l_r: 0.8494639242890961\n"
     ]
    },
    {
     "data": {
      "text/plain": "  0%|          | 0/307 [00:00<?, ?it/s]",
      "application/vnd.jupyter.widget-view+json": {
       "version_major": 2,
       "version_minor": 0,
       "model_id": "503e3d254b7543dcb0469efbeda76bd9"
      }
     },
     "metadata": {},
     "output_type": "display_data"
    },
    {
     "name": "stdout",
     "output_type": "stream",
     "text": [
      "Epoch 2 Test Rouge_1: 0.857998595559974, Rouge_2: 0.773012674545034, Rouge_l_f1: 0.857998595559974, Rouge_l_p: 0.866011417660453, Rouge_l_r: 0.8528574216745725\n",
      "To mix food coloring with sugar, you can ==> To mix food coloring with sugar, you can\n",
      "To mix food coloring with sugar, you can ==> To mix food coloring with sugar, you can\n",
      "To mix food coloring with sugar, you can ==> To mix food coloring with sugar, you can\n",
      "To mix food coloring with sugar, you can ==> To mix food coloring with sugar, you can\n",
      "To mix food coloring with sugar, you can ==> To mix food coloring with sugar, you can\n",
      "To mix food coloring with sugar, you can ==> To mix food coloring with sugar, you can\n",
      "To mix food coloring with sugar, you can ==> To mix food coloring with sugar, you can\n",
      "To mix food coloring with sugar, you can ==> To mix food coloring with sugar, you can\n",
      "To mix food coloring with sugar, you can ==> To mix food coloring with sugar, you can\n",
      "Epoch 3 Train Rouge_1: 0.890173322867279, Rouge_2: 0.8262424690612025, Rouge_l_f1: 0.890173322867279, Rouge_l_p: 0.8938442160377634, Rouge_l_r: 0.8878009246753353\n"
     ]
    },
    {
     "data": {
      "text/plain": "  0%|          | 0/307 [00:00<?, ?it/s]",
      "application/vnd.jupyter.widget-view+json": {
       "version_major": 2,
       "version_minor": 0,
       "model_id": "b7e1b98126a3498f8fccba2030db6296"
      }
     },
     "metadata": {},
     "output_type": "display_data"
    },
    {
     "name": "stdout",
     "output_type": "stream",
     "text": [
      "Epoch 3 Test Rouge_1: 0.8923710748086362, Rouge_2: 0.8102987189473285, Rouge_l_f1: 0.8923710748086362, Rouge_l_p: 0.8945170249930939, Rouge_l_r: 0.8909958360949178\n",
      "To mix food coloring with sugar, you can ==> To mix food coloring with sugar, you can\n",
      "To mix food coloring with sugar, you can ==> To mix food coloring with sugar, you can\n",
      "To mix food coloring with sugar, you can ==> To mix food coloring with sugar, you can\n",
      "To mix food coloring with sugar, you can ==> To mix food coloring with sugar, you can\n",
      "To mix food coloring with sugar, you can ==> To mix food coloring with sugar, you can\n",
      "To mix food coloring with sugar, you can ==> To mix food coloring with sugar, you can\n",
      "To mix food coloring with sugar, you can ==> To mix food coloring with sugar, you can\n",
      "To mix food coloring with sugar, you can ==> To mix food coloring with sugar, you can\n",
      "To mix food coloring with sugar, you can ==> To mix food coloring with sugar, you can\n",
      "Epoch 4 Train Rouge_1: 0.9218208405568472, Rouge_2: 0.8621989609246753, Rouge_l_f1: 0.9218208405568472, Rouge_l_p: 0.9228805413808985, Rouge_l_r: 0.921243286017533\n"
     ]
    },
    {
     "data": {
      "text/plain": "  0%|          | 0/307 [00:00<?, ?it/s]",
      "application/vnd.jupyter.widget-view+json": {
       "version_major": 2,
       "version_minor": 0,
       "model_id": "1f070316c9304203b0b0f856f051d209"
      }
     },
     "metadata": {},
     "output_type": "display_data"
    },
    {
     "name": "stdout",
     "output_type": "stream",
     "text": [
      "Epoch 4 Test Rouge_1: 0.9131500286422674, Rouge_2: 0.8325680055026835, Rouge_l_f1: 0.9131500286422674, Rouge_l_p: 0.9137924955155265, Rouge_l_r: 0.912888086430041\n"
     ]
    }
   ],
   "source": [
    "from torch.optim import Adam\n",
    "from sfl.model.attack_model import GPT2AttackModel\n",
    "from sfl.utils import get_best_gpu, calc_unshift_loss\n",
    "from tqdm.notebook import tqdm\n",
    "import torch\n",
    "\n",
    "\n",
    "def get_output(text, encoder_model, attack_model):\n",
    "    t = tokenizer(text, return_tensors=\"pt\", add_special_tokens=False)\n",
    "    inter = encoder_model(t['input_ids'].to(device), attention_mask=t['attention_mask'].to(device))\n",
    "    res = attack_model(inter)\n",
    "    r = tokenizer.decode(res.argmax(dim=-1)[-1], skip_special_tokens=True)\n",
    "    return r\n",
    "\n",
    "\n",
    "# 开始训练Attack Model\n",
    "device = get_best_gpu()\n",
    "attack_model = GPT2AttackModel(model.config)\n",
    "optimizer = Adam(attack_model.parameters(), lr=1e-3)\n",
    "model.to(device)\n",
    "attack_model.to(device)\n",
    "epoch = 5\n",
    "evaluate(0,model,attack_model,tokenizer,dataloader_test)\n",
    "with tqdm(total=epoch * len(dataloader)) as pbar:\n",
    "    for epc in range(epoch):\n",
    "        model.train(True)\n",
    "        rouge_1, rouge_2, rouge_l_f1, rouge_l_p, rouge_l_r = 0, 0, 0, 0, 0\n",
    "        for step, batch in enumerate(dataloader):\n",
    "            optimizer.zero_grad()\n",
    "            input_ids, labels = batch['input_ids'].to(device), batch['output_ids'].to(device)\n",
    "            attention_mask = batch['input_att_mask'].to(device)\n",
    "            intermediate = model(input_ids=input_ids, labels=labels, attention_mask=attention_mask)\n",
    "            logits = attack_model(intermediate)\n",
    "            loss = calc_unshift_loss(logits, labels)\n",
    "            loss.backward()\n",
    "            optimizer.step()\n",
    "            # 计算训练的ROGUE\n",
    "            res = calculate_rouge(tokenizer, logits, batch['input_text'])\n",
    "            rouge_1 += res['rouge-1']['f']\n",
    "            rouge_2 += res['rouge-2']['f']\n",
    "            rouge_l_f1 += res['rouge-l']['f']\n",
    "            rouge_l_p += res['rouge-l']['p']\n",
    "            rouge_l_r += res['rouge-l']['r']\n",
    "            pbar.set_description(f'Epoch {epc} Loss {loss.item():.5f}, Rouge_1 {rouge_1 / (step + 1):.4f}')\n",
    "            if step % 300 == 0:\n",
    "                q = \"To mix food coloring with sugar, you can\"\n",
    "                print(q, \"==>\", get_output(q, model, attack_model))\n",
    "            pbar.update(1)\n",
    "        rouge_1 /= len(dataloader)\n",
    "        rouge_2 /= len(dataloader)\n",
    "        rouge_l_f1 /= len(dataloader)\n",
    "        rouge_l_p /= len(dataloader)\n",
    "        rouge_l_r /= len(dataloader)\n",
    "        print(\n",
    "            f'Epoch {epc} Train Rouge_1: {rouge_1}, Rouge_2: {rouge_2}, Rouge_l_f1: {rouge_l_f1}, Rouge_l_p: {rouge_l_p}, Rouge_l_r: {rouge_l_r}')\n",
    "        # 计算测试集上的ROGUE\n",
    "        evaluate(epc, model, attack_model, tokenizer, dataloader_test)"
   ],
   "metadata": {
    "collapsed": false,
    "pycharm": {
     "name": "#%%\n"
    }
   }
  },
  {
   "cell_type": "markdown",
   "source": [],
   "metadata": {
    "collapsed": false,
    "pycharm": {
     "name": "#%% md\n"
    }
   }
  },
  {
   "cell_type": "markdown",
   "source": [],
   "metadata": {
    "collapsed": false,
    "pycharm": {
     "name": "#%% md\n"
    }
   }
  }
 ],
 "metadata": {
  "kernelspec": {
   "display_name": "Python 3",
   "language": "python",
   "name": "python3"
  },
  "language_info": {
   "codemirror_mode": {
    "name": "ipython",
    "version": 2
   },
   "file_extension": ".py",
   "mimetype": "text/x-python",
   "name": "python",
   "nbconvert_exporter": "python",
   "pygments_lexer": "ipython2",
   "version": "2.7.6"
  }
 },
 "nbformat": 4,
 "nbformat_minor": 0
}