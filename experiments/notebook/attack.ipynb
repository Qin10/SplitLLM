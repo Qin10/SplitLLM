{
 "cells": [
  {
   "cell_type": "markdown",
   "source": [
    "## Step 1. 加载模型与Tokenizer"
   ],
   "metadata": {
    "collapsed": false,
    "pycharm": {
     "name": "#%% md\n"
    }
   }
  },
  {
   "cell_type": "code",
   "execution_count": 12,
   "outputs": [
    {
     "data": {
      "text/plain": "GPT2SplitLMHeadModel(\n  (transformer): GPT2SplitModel(\n    (wte): Embedding(50257, 1280)\n    (wpe): Embedding(1024, 1280)\n    (drop): Dropout(p=0.1, inplace=False)\n    (h): ModuleList(\n      (0-35): 36 x GPT2Block(\n        (ln_1): LayerNorm((1280,), eps=1e-05, elementwise_affine=True)\n        (attn): GPT2Attention(\n          (c_attn): Conv1D()\n          (c_proj): Conv1D()\n          (attn_dropout): Dropout(p=0.1, inplace=False)\n          (resid_dropout): Dropout(p=0.1, inplace=False)\n        )\n        (ln_2): LayerNorm((1280,), eps=1e-05, elementwise_affine=True)\n        (mlp): GPT2MLP(\n          (c_fc): Conv1D()\n          (c_proj): Conv1D()\n          (act): NewGELUActivation()\n          (dropout): Dropout(p=0.1, inplace=False)\n        )\n      )\n    )\n    (ln_f): LayerNorm((1280,), eps=1e-05, elementwise_affine=True)\n  )\n  (lm_head): Linear(in_features=1280, out_features=50257, bias=False)\n)"
     },
     "execution_count": 12,
     "metadata": {},
     "output_type": "execute_result"
    }
   ],
   "source": [
    "import os\n",
    "import sys\n",
    "\n",
    "from transformers import AutoTokenizer\n",
    "\n",
    "sys.path.append(os.path.abspath('../..'))\n",
    "from sfl.model.gpt2.gpt2_split import GPT2SplitLMHeadModel\n",
    "from sfl.utils import get_best_gpu\n",
    "cache_dir = '/root/autodl-tmp/sfl/models'  # 模型的缓存位置，需要修改\n",
    "save_dir = '/root/autodl-tmp/sfl/models/checkpoints'\n",
    "tokenizer = AutoTokenizer.from_pretrained(\"gpt2-large\", cache_dir=cache_dir)\n",
    "model:GPT2SplitLMHeadModel = GPT2SplitLMHeadModel.from_pretrained(\"gpt2-large\", cache_dir=cache_dir)\n",
    "tokenizer.pad_token_id = model.config.eos_token_id\n",
    "device = get_best_gpu()\n",
    "model.to(device)"
   ],
   "metadata": {
    "collapsed": false,
    "pycharm": {
     "name": "#%%\n"
    }
   }
  },
  {
   "cell_type": "code",
   "execution_count": 13,
   "outputs": [
    {
     "data": {
      "text/plain": "'what do you think!?\"\\n\\n\"I don\\'t know what you\\'re talking about,\" I said, \"but I\\'m not going to tell you what I think. I\\'ve already told you, and I\\'ll say it again, that I have no idea what\\'s going on here. But I do know that this is not the first time this has happened to me. And it won\\'t be the last. It\\'s just a matter of time before it happens to someone else, too.\"'"
     },
     "execution_count": 13,
     "metadata": {},
     "output_type": "execute_result"
    }
   ],
   "source": [
    "from sfl.utils import generate\n",
    "\n",
    "generate('what do you think!',tokenizer,model)"
   ],
   "metadata": {
    "collapsed": false,
    "pycharm": {
     "name": "#%%\n"
    }
   }
  },
  {
   "cell_type": "markdown",
   "source": [],
   "metadata": {
    "collapsed": false,
    "pycharm": {
     "name": "#%% md\n"
    }
   }
  },
  {
   "cell_type": "code",
   "execution_count": 14,
   "outputs": [],
   "source": [
    "from sfl.utils import calculate_rouge\n",
    "\n",
    "\n",
    "# 恢复的评价指标选用ROUGE\n",
    "\n",
    "def evaluate(epc, md, attacker, tok, test_data_loader):\n",
    "    md.eval()\n",
    "    attacker.eval()\n",
    "    dl_len = len(test_data_loader)\n",
    "    with torch.no_grad():\n",
    "        rouge_1, rouge_2, rouge_l_f1, rouge_l_p, rouge_l_r = 0, 0, 0, 0, 0\n",
    "        for step, batch in tqdm(enumerate(test_data_loader), total=dl_len):\n",
    "            input_ids = batch['input_ids'].to(md.device)\n",
    "            attention_mask = batch['input_att_mask'].to(md.device)\n",
    "            inter = md(input_ids=input_ids, attention_mask=attention_mask)\n",
    "            logits = attacker(inter)\n",
    "            result = calculate_rouge(tok, logits, batch['input_text'])\n",
    "            rouge_1 += result['rouge-1']['f']\n",
    "            rouge_2 += result['rouge-2']['f']\n",
    "            rouge_l_f1 += result['rouge-l']['f']\n",
    "            rouge_l_p += result['rouge-l']['p']\n",
    "            rouge_l_r += result['rouge-l']['r']\n",
    "    print(\n",
    "        f'Epoch {epc} Test Rouge_1: {rouge_1 / dl_len}, Rouge_2: {rouge_2 / dl_len}, Rouge_l_f1: {rouge_l_f1 / dl_len}, Rouge_l_p: {rouge_l_p / dl_len}, Rouge_l_r: {rouge_l_r / dl_len}')\n",
    "    path = save_dir + f'/attacker/{md.config.name_or_path}/piqa-validation/{md.fl_config.attack_mode}-{md.fl_config.split_point_1 if md.fl_config.attack_mode == \"b2tr\" else md.fl_config.split_point_2}/'\n",
    "    attack_model.save_pretrained(path + f'epoch_{epc}_rouge_{rouge_l_f1 / dl_len:.4f}')\n",
    "    md.train(True)\n",
    "    attacker.train(True)\n",
    "    return rouge_1 / dl_len, rouge_2 / dl_len, rouge_l_f1 / dl_len, rouge_l_p / dl_len, rouge_l_r / dl_len"
   ],
   "metadata": {
    "collapsed": false,
    "pycharm": {
     "name": "#%%\n"
    }
   }
  },
  {
   "cell_type": "markdown",
   "source": [
    "### 加载数据集"
   ],
   "metadata": {
    "collapsed": false,
    "pycharm": {
     "name": "#%% md\n"
    }
   }
  },
  {
   "cell_type": "code",
   "execution_count": 15,
   "outputs": [
    {
     "data": {
      "text/plain": "DatasetDict({\n    train: Dataset({\n        features: ['question', 'answer'],\n        num_rows: 7473\n    })\n    test: Dataset({\n        features: ['question', 'answer'],\n        num_rows: 1319\n    })\n})"
     },
     "execution_count": 15,
     "metadata": {},
     "output_type": "execute_result"
    }
   ],
   "source": [
    "from sfl.simulator.dataset import GSM8KFedDataset\n",
    "\n",
    "dataset = GSM8KFedDataset(tokenizer, [])\n",
    "dataloader = dataset.get_dataloader_unsliced(6, 'test')\n",
    "dataloader_test = dataset.get_dataloader_unsliced(6, 'train', 0.06)\n",
    "dataset.all_dataset"
   ],
   "metadata": {
    "collapsed": false,
    "pycharm": {
     "name": "#%%\n"
    }
   }
  },
  {
   "cell_type": "markdown",
   "source": [
    "### 切分模型"
   ],
   "metadata": {
    "collapsed": false,
    "pycharm": {
     "name": "#%% md\n"
    }
   }
  },
  {
   "cell_type": "code",
   "execution_count": 16,
   "outputs": [],
   "source": [
    "from sfl.config import FLConfig\n",
    "model.config_sfl(FLConfig(collect_intermediates=False,\n",
    "                          split_point_1=2, # 第0～1层为top，余下的都是trunk\n",
    "                          split_point_2=30,\n",
    "                          attack_mode='tr2t' # 攻击的输出是bottom-to-trunk中间输出\n",
    "                          ),\n",
    "                 param_keeper=None)\n",
    "# freeze all parts:\n",
    "for name, param in model.named_parameters():\n",
    "    param.requires_grad = False"
   ],
   "metadata": {
    "collapsed": false,
    "pycharm": {
     "name": "#%%\n"
    }
   }
  },
  {
   "cell_type": "markdown",
   "source": [
    "### 训练Attack Model"
   ],
   "metadata": {
    "collapsed": false,
    "pycharm": {
     "name": "#%% md\n"
    }
   }
  },
  {
   "cell_type": "code",
   "execution_count": null,
   "outputs": [
    {
     "data": {
      "text/plain": "  0%|          | 0/75 [00:00<?, ?it/s]",
      "application/vnd.jupyter.widget-view+json": {
       "version_major": 2,
       "version_minor": 0,
       "model_id": "461efb61c3494b6389d807a8392ebad1"
      }
     },
     "metadata": {},
     "output_type": "display_data"
    },
    {
     "name": "stdout",
     "output_type": "stream",
     "text": [
      "Epoch 0 Test Rouge_1: 0.0007362893321298781, Rouge_2: 0.0, Rouge_l_f1: 0.0007362893321298781, Rouge_l_p: 0.0005806767519882163, Rouge_l_r: 0.0010201953950377779\n"
     ]
    },
    {
     "data": {
      "text/plain": "  0%|          | 0/4400 [00:00<?, ?it/s]",
      "application/vnd.jupyter.widget-view+json": {
       "version_major": 2,
       "version_minor": 0,
       "model_id": "55527cf515624e1a95c4893b5e49b5cc"
      }
     },
     "metadata": {},
     "output_type": "display_data"
    },
    {
     "name": "stdout",
     "output_type": "stream",
     "text": [
      "To mix food coloring with sugar, you can ==> IG embracesirdsneg ed outlandishpocketToo Men\n",
      "Epoch 0 Train Rouge_1: 0.27735079305138577, Rouge_2: 0.08424419463413786, Rouge_l_f1: 0.27398191016581674, Rouge_l_p: 0.32884958389085334, Rouge_l_r: 0.2498181981178864\n"
     ]
    },
    {
     "data": {
      "text/plain": "  0%|          | 0/75 [00:00<?, ?it/s]",
      "application/vnd.jupyter.widget-view+json": {
       "version_major": 2,
       "version_minor": 0,
       "model_id": "83cb03f941934d8cb2352ad897d86753"
      }
     },
     "metadata": {},
     "output_type": "display_data"
    },
    {
     "name": "stdout",
     "output_type": "stream",
     "text": [
      "Epoch 0 Test Rouge_1: 0.4935933149231122, Rouge_2: 0.22487758143820258, Rouge_l_f1: 0.49188395593317175, Rouge_l_p: 0.5086563563801874, Rouge_l_r: 0.478658789828101\n",
      "To mix food coloring with sugar, you can ==> Question all money water of blue, they to\n",
      "Epoch 1 Train Rouge_1: 0.5650925679838439, Rouge_2: 0.3282265764689123, Rouge_l_f1: 0.5633284932639768, Rouge_l_p: 0.5560549652999026, Rouge_l_r: 0.573231501521422\n"
     ]
    },
    {
     "data": {
      "text/plain": "  0%|          | 0/75 [00:00<?, ?it/s]",
      "application/vnd.jupyter.widget-view+json": {
       "version_major": 2,
       "version_minor": 0,
       "model_id": "30e649fb1fc14b20b9c20892f9cfaf39"
      }
     },
     "metadata": {},
     "output_type": "display_data"
    },
    {
     "name": "stdout",
     "output_type": "stream",
     "text": [
      "Epoch 1 Test Rouge_1: 0.6388688993377868, Rouge_2: 0.4147162204619491, Rouge_l_f1: 0.6380028011538206, Rouge_l_p: 0.6297299768341164, Rouge_l_r: 0.6481684657316084\n",
      "To mix food coloring with sugar, you can ==> Question buy food jelly with water, they can\n",
      "Epoch 2 Train Rouge_1: 0.687247891335496, Rouge_2: 0.4951618843128015, Rouge_l_f1: 0.6863929036944024, Rouge_l_p: 0.6687800095691252, Rouge_l_r: 0.7067751660621547\n"
     ]
    },
    {
     "data": {
      "text/plain": "  0%|          | 0/75 [00:00<?, ?it/s]",
      "application/vnd.jupyter.widget-view+json": {
       "version_major": 2,
       "version_minor": 0,
       "model_id": "49adb06936b54e5e8745089dba038171"
      }
     },
     "metadata": {},
     "output_type": "display_data"
    },
    {
     "name": "stdout",
     "output_type": "stream",
     "text": [
      "Epoch 2 Test Rouge_1: 0.7219962060170422, Rouge_2: 0.5369681179950799, Rouge_l_f1: 0.7214459324969076, Rouge_l_p: 0.7064899584558044, Rouge_l_r: 0.7385876311244425\n",
      "To mix food coloring with sugar, you can ==> Question buy food food with sugar, you can\n",
      "Epoch 3 Train Rouge_1: 0.7722213061516091, Rouge_2: 0.6230947414097207, Rouge_l_f1: 0.771742270652329, Rouge_l_p: 0.7523401553849824, Rouge_l_r: 0.7938488103401833\n"
     ]
    },
    {
     "data": {
      "text/plain": "  0%|          | 0/75 [00:00<?, ?it/s]",
      "application/vnd.jupyter.widget-view+json": {
       "version_major": 2,
       "version_minor": 0,
       "model_id": "4f64136d2d1245b19df4bc7442a96a62"
      }
     },
     "metadata": {},
     "output_type": "display_data"
    },
    {
     "name": "stdout",
     "output_type": "stream",
     "text": [
      "Epoch 3 Test Rouge_1: 0.7771749423180676, Rouge_2: 0.6244216980292964, Rouge_l_f1: 0.7766505700056806, Rouge_l_p: 0.7608107781478911, Rouge_l_r: 0.7944644798561404\n",
      "To mix food coloring with sugar, you can ==> Question dividing food soda with sugar, you can\n",
      "Epoch 4 Train Rouge_1: 0.840207365252354, Rouge_2: 0.7325209820137727, Rouge_l_f1: 0.8400060855645193, Rouge_l_p: 0.8239816018589742, Rouge_l_r: 0.8579531985997769\n"
     ]
    },
    {
     "data": {
      "text/plain": "  0%|          | 0/75 [00:00<?, ?it/s]",
      "application/vnd.jupyter.widget-view+json": {
       "version_major": 2,
       "version_minor": 0,
       "model_id": "8a13ab28f920418fb86b2a6b544c31c4"
      }
     },
     "metadata": {},
     "output_type": "display_data"
    },
    {
     "name": "stdout",
     "output_type": "stream",
     "text": [
      "Epoch 4 Test Rouge_1: 0.8124712145628814, Rouge_2: 0.6803097119296374, Rouge_l_f1: 0.8122862106253355, Rouge_l_p: 0.7969850502392197, Rouge_l_r: 0.8293462373718882\n",
      "To mix food coloring with sugar, you can ==> Question divides food colors with sugar, you can\n",
      "Epoch 5 Train Rouge_1: 0.895457864495876, Rouge_2: 0.8241241236997467, Rouge_l_f1: 0.8953897127738889, Rouge_l_p: 0.884052011875349, Rouge_l_r: 0.9078084504009178\n"
     ]
    },
    {
     "data": {
      "text/plain": "  0%|          | 0/75 [00:00<?, ?it/s]",
      "application/vnd.jupyter.widget-view+json": {
       "version_major": 2,
       "version_minor": 0,
       "model_id": "3ace17e2c45b4c9ea7ca9375f5e9f044"
      }
     },
     "metadata": {},
     "output_type": "display_data"
    },
    {
     "name": "stdout",
     "output_type": "stream",
     "text": [
      "Epoch 5 Test Rouge_1: 0.835162773374296, Rouge_2: 0.7194802782749155, Rouge_l_f1: 0.8350314893741904, Rouge_l_p: 0.8199093797802894, Rouge_l_r: 0.8517681705835469\n",
      "To mix food coloring with sugar, you can ==> Question dividing food soda with sugar, you can\n",
      "Epoch 6 Train Rouge_1: 0.937925172658493, Rouge_2: 0.8971606745298148, Rouge_l_f1: 0.9378320477565278, Rouge_l_p: 0.9309313091517187, Rouge_l_r: 0.94526741619831\n"
     ]
    },
    {
     "data": {
      "text/plain": "  0%|          | 0/75 [00:00<?, ?it/s]",
      "application/vnd.jupyter.widget-view+json": {
       "version_major": 2,
       "version_minor": 0,
       "model_id": "9d92f1f2b4134b9e9a7cebb4a1229c03"
      }
     },
     "metadata": {},
     "output_type": "display_data"
    },
    {
     "name": "stdout",
     "output_type": "stream",
     "text": [
      "Epoch 6 Test Rouge_1: 0.8545349874265279, Rouge_2: 0.7502749751705049, Rouge_l_f1: 0.8543309327043763, Rouge_l_p: 0.8398842198926837, Rouge_l_r: 0.870210234361971\n",
      "To mix food coloring with sugar, you can ==> Question collects food glue with sugar, you can\n",
      "Epoch 7 Train Rouge_1: 0.9653871952760543, Rouge_2: 0.9423754366407758, Rouge_l_f1: 0.9653643090955074, Rouge_l_p: 0.9620173025813443, Rouge_l_r: 0.9689481376989021\n"
     ]
    },
    {
     "data": {
      "text/plain": "  0%|          | 0/75 [00:00<?, ?it/s]",
      "application/vnd.jupyter.widget-view+json": {
       "version_major": 2,
       "version_minor": 0,
       "model_id": "68bdc657f7d14637a5a99e0d8f92575e"
      }
     },
     "metadata": {},
     "output_type": "display_data"
    },
    {
     "name": "stdout",
     "output_type": "stream",
     "text": [
      "Epoch 7 Test Rouge_1: 0.8659284592910732, Rouge_2: 0.7711817142109221, Rouge_l_f1: 0.865758649462238, Rouge_l_p: 0.8511201407134803, Rouge_l_r: 0.8818313120755147\n",
      "To mix food coloring with sugar, you can ==> Question substitute food food with sugar, you can\n",
      "Epoch 8 Train Rouge_1: 0.9792124432692707, Rouge_2: 0.965312622567129, Rouge_l_f1: 0.9792124432692707, Rouge_l_p: 0.9770891541700665, Rouge_l_r: 0.9814581496992376\n"
     ]
    },
    {
     "data": {
      "text/plain": "  0%|          | 0/75 [00:00<?, ?it/s]",
      "application/vnd.jupyter.widget-view+json": {
       "version_major": 2,
       "version_minor": 0,
       "model_id": "7b2d151e1119429e94859400440def1d"
      }
     },
     "metadata": {},
     "output_type": "display_data"
    },
    {
     "name": "stdout",
     "output_type": "stream",
     "text": [
      "Epoch 8 Test Rouge_1: 0.8725480856481732, Rouge_2: 0.7835077374850119, Rouge_l_f1: 0.8723971913858944, Rouge_l_p: 0.8578129171784258, Rouge_l_r: 0.8885006670353917\n",
      "To mix food coloring with sugar, you can ==> Question popping foodadow with sugar, you can\n",
      "Epoch 9 Train Rouge_1: 0.9883283998324444, Rouge_2: 0.9805481442566794, Rouge_l_f1: 0.9883029785350931, Rouge_l_p: 0.9872690675973982, Rouge_l_r: 0.9894061845220921\n"
     ]
    },
    {
     "data": {
      "text/plain": "  0%|          | 0/75 [00:00<?, ?it/s]",
      "application/vnd.jupyter.widget-view+json": {
       "version_major": 2,
       "version_minor": 0,
       "model_id": "826866d578aa4b4f9b08ae7acf0cdcf9"
      }
     },
     "metadata": {},
     "output_type": "display_data"
    },
    {
     "name": "stdout",
     "output_type": "stream",
     "text": [
      "Epoch 9 Test Rouge_1: 0.8792047461787197, Rouge_2: 0.7949895231076572, Rouge_l_f1: 0.8790250473566198, Rouge_l_p: 0.8644404895601734, Rouge_l_r: 0.8950791350156228\n",
      "To mix food coloring with sugar, you can ==> Question shook food sugar with sugar, you can\n",
      "Epoch 10 Train Rouge_1: 0.9927043448141362, Rouge_2: 0.9873683758496907, Rouge_l_f1: 0.9927043448141362, Rouge_l_p: 0.9919721435684742, Rouge_l_r: 0.9934800514007444\n"
     ]
    },
    {
     "data": {
      "text/plain": "  0%|          | 0/75 [00:00<?, ?it/s]",
      "application/vnd.jupyter.widget-view+json": {
       "version_major": 2,
       "version_minor": 0,
       "model_id": "a6acef62b6834c1699bca71f8579ccc6"
      }
     },
     "metadata": {},
     "output_type": "display_data"
    }
   ],
   "source": [
    "from torch.optim import Adam\n",
    "from sfl.model.attack_model import LSTMAttackerConfig, LSTMAttackModel\n",
    "from sfl.utils import calc_unshift_loss\n",
    "from tqdm.notebook import tqdm\n",
    "import torch\n",
    "\n",
    "\n",
    "def get_output(text, encoder_model, attack_model):\n",
    "    t = tokenizer(text, return_tensors=\"pt\")\n",
    "    inter = encoder_model(t['input_ids'].to(device), attention_mask=t['attention_mask'].to(device))\n",
    "    res = attack_model(inter)\n",
    "    r = tokenizer.decode(res.argmax(dim=-1)[-1], skip_special_tokens=True)\n",
    "    return r\n",
    "\n",
    "\n",
    "# 开始训练Attack Model\n",
    "attack_model = LSTMAttackModel(LSTMAttackerConfig(), model.config)\n",
    "optimizer = Adam(attack_model.parameters(), lr=1e-3)\n",
    "model.to(device)\n",
    "attack_model.to(device)\n",
    "epoch = 20\n",
    "evaluate(0, model, attack_model, tokenizer, dataloader_test)\n",
    "with tqdm(total=epoch * len(dataloader)) as pbar:\n",
    "    for epc in range(epoch):\n",
    "        model.train(True)\n",
    "        rouge_1, rouge_2, rouge_l_f1, rouge_l_p, rouge_l_r = 0, 0, 0, 0, 0\n",
    "        for step, batch in enumerate(dataloader):\n",
    "            optimizer.zero_grad()\n",
    "            input_ids = batch['input_ids'].to(device)\n",
    "            attention_mask = batch['input_att_mask'].to(device)\n",
    "            intermediate = model(input_ids=input_ids, attention_mask=attention_mask)\n",
    "            logits = attack_model(intermediate)\n",
    "            loss = calc_unshift_loss(logits, input_ids)\n",
    "            loss.backward()\n",
    "            optimizer.step()\n",
    "            # 计算训练的ROGUE\n",
    "            res = calculate_rouge(tokenizer, logits, batch['input_text'])\n",
    "            rouge_1 += res['rouge-1']['f']\n",
    "            rouge_2 += res['rouge-2']['f']\n",
    "            rouge_l_f1 += res['rouge-l']['f']\n",
    "            rouge_l_p += res['rouge-l']['p']\n",
    "            rouge_l_r += res['rouge-l']['r']\n",
    "            pbar.set_description(f'Epoch {epc} Loss {loss.item():.5f}, Rouge_1 {rouge_1 / (step + 1):.4f}')\n",
    "            if step % 300 == 0:\n",
    "                q = \"To mix food coloring with sugar, you can\"\n",
    "                print(q, \"==>\", get_output(q, model, attack_model))\n",
    "            pbar.update(1)\n",
    "        rouge_1 /= len(dataloader)\n",
    "        rouge_2 /= len(dataloader)\n",
    "        rouge_l_f1 /= len(dataloader)\n",
    "        rouge_l_p /= len(dataloader)\n",
    "        rouge_l_r /= len(dataloader)\n",
    "        print(\n",
    "            f'Epoch {epc} Train Rouge_1: {rouge_1}, Rouge_2: {rouge_2}, Rouge_l_f1: {rouge_l_f1}, Rouge_l_p: {rouge_l_p}, Rouge_l_r: {rouge_l_r}')\n",
    "        # 计算测试集上的ROGUE\n",
    "        evaluate(epc, model, attack_model, tokenizer, dataloader_test)"
   ],
   "metadata": {
    "collapsed": false,
    "pycharm": {
     "name": "#%%\n",
     "is_executing": true
    }
   }
  },
  {
   "cell_type": "code",
   "execution_count": null,
   "outputs": [],
   "source": [
    "from rouge import Rouge\n",
    "text = \"Patient Name: Mr.Lawrence, Gender: Male, Ethnicity: White, Address: Harbin Institute of technology, Shenzhen, China. He's a Japanese man standing 165cm tall, always wearing a pair of pink glasses. He's in extreme danger now with a heartbeat of only 32/min;\"\n",
    "decoded = get_output(text, model, attack_model)\n",
    "print(decoded)\n",
    "result = Rouge().get_scores([text],[decoded], avg=True, ignore_empty=True)  # 取一个 batch 的平均\n",
    "print(result)"
   ],
   "metadata": {
    "collapsed": false,
    "pycharm": {
     "name": "#%%\n",
     "is_executing": true
    }
   }
  },
  {
   "cell_type": "markdown",
   "source": [],
   "metadata": {
    "collapsed": false,
    "pycharm": {
     "name": "#%% md\n"
    }
   }
  },
  {
   "cell_type": "markdown",
   "source": [],
   "metadata": {
    "collapsed": false,
    "pycharm": {
     "name": "#%% md\n"
    }
   }
  },
  {
   "cell_type": "markdown",
   "source": [],
   "metadata": {
    "collapsed": false,
    "pycharm": {
     "name": "#%% md\n"
    }
   }
  }
 ],
 "metadata": {
  "kernelspec": {
   "display_name": "Python 3",
   "language": "python",
   "name": "python3"
  },
  "language_info": {
   "codemirror_mode": {
    "name": "ipython",
    "version": 2
   },
   "file_extension": ".py",
   "mimetype": "text/x-python",
   "name": "python",
   "nbconvert_exporter": "python",
   "pygments_lexer": "ipython2",
   "version": "2.7.6"
  }
 },
 "nbformat": 4,
 "nbformat_minor": 0
}