{
 "cells": [
  {
   "cell_type": "markdown",
   "source": [
    "## Step 1. 加载模型与Tokenizer"
   ],
   "metadata": {
    "collapsed": false,
    "pycharm": {
     "name": "#%% md\n"
    }
   }
  },
  {
   "cell_type": "code",
   "execution_count": 1,
   "outputs": [],
   "source": [
    "import os\n",
    "import sys\n",
    "\n",
    "from transformers import AutoTokenizer\n",
    "\n",
    "sys.path.append(os.path.abspath('../..'))\n",
    "from sfl.model.gpt2.gpt2_split import GPT2SplitLMHeadModel\n",
    "\n",
    "cache_dir = '/root/autodl-tmp/sfl/models'  # 模型的缓存位置，需要修改\n",
    "save_dir = '/root/autodl-tmp/sfl/models/checkpoints'\n",
    "tokenizer = AutoTokenizer.from_pretrained(\"gpt2\", cache_dir=cache_dir)\n",
    "model:GPT2SplitLMHeadModel = GPT2SplitLMHeadModel.from_pretrained(\"gpt2\", cache_dir=cache_dir)\n",
    "tokenizer.pad_token_id = model.config.eos_token_id"
   ],
   "metadata": {
    "collapsed": false,
    "pycharm": {
     "name": "#%%\n"
    }
   }
  },
  {
   "cell_type": "markdown",
   "source": [],
   "metadata": {
    "collapsed": false,
    "pycharm": {
     "name": "#%% md\n"
    }
   }
  },
  {
   "cell_type": "code",
   "execution_count": 2,
   "outputs": [],
   "source": [
    "from sfl.utils import calculate_rouge\n",
    "# 恢复的评价指标选用ROUGE\n",
    "\n",
    "def evaluate(epc, md, attacker, tok, test_data_loader):\n",
    "    md.eval()\n",
    "    attacker.eval()\n",
    "    dl_len = len(test_data_loader)\n",
    "    with torch.no_grad():\n",
    "        rouge_1, rouge_2, rouge_l_f1, rouge_l_p, rouge_l_r = 0, 0, 0, 0, 0\n",
    "        for step, batch in tqdm(enumerate(test_data_loader), total=dl_len):\n",
    "            input_ids = batch['input_ids'].to(md.device)\n",
    "            attention_mask = batch['input_att_mask'].to(md.device)\n",
    "            inter = md(input_ids=input_ids, attention_mask=attention_mask)\n",
    "            logits = attacker(inter)\n",
    "            result = calculate_rouge(tok, logits, batch['input_text'])\n",
    "            rouge_1 += result['rouge-1']['f']\n",
    "            rouge_2 += result['rouge-2']['f']\n",
    "            rouge_l_f1 += result['rouge-l']['f']\n",
    "            rouge_l_p += result['rouge-l']['p']\n",
    "            rouge_l_r += result['rouge-l']['r']\n",
    "    print(\n",
    "        f'Epoch {epc} Test Rouge_1: {rouge_1 / dl_len}, Rouge_2: {rouge_2 / dl_len}, Rouge_l_f1: {rouge_l_f1 / dl_len}, Rouge_l_p: {rouge_l_p / dl_len}, Rouge_l_r: {rouge_l_r / dl_len}')\n",
    "    path = save_dir + '/attacker/'\n",
    "    os.makedirs(path, exist_ok=True)\n",
    "    torch.save(attacker.state_dict(), path+f'epoch_{epc}_rouge_{rouge_l_f1 / dl_len}.pt')\n",
    "    md.train(True)\n",
    "    attacker.train(True)\n",
    "    return rouge_1 / dl_len, rouge_2 / dl_len, rouge_l_f1 / dl_len, rouge_l_p / dl_len, rouge_l_r / dl_len"
   ],
   "metadata": {
    "collapsed": false,
    "pycharm": {
     "name": "#%%\n"
    }
   }
  },
  {
   "cell_type": "markdown",
   "source": [
    "### 加载数据集"
   ],
   "metadata": {
    "collapsed": false,
    "pycharm": {
     "name": "#%% md\n"
    }
   }
  },
  {
   "cell_type": "code",
   "execution_count": 3,
   "outputs": [
    {
     "data": {
      "text/plain": "Map:   0%|          | 0/1838 [00:00<?, ? examples/s]",
      "application/vnd.jupyter.widget-view+json": {
       "version_major": 2,
       "version_minor": 0,
       "model_id": "7e259863d82a4f208d3b09c60b21d2c7"
      }
     },
     "metadata": {},
     "output_type": "display_data"
    }
   ],
   "source": [
    "from transformers import GPT2Tokenizer\n",
    "from datasets import load_dataset\n",
    "from torch.utils.data import DataLoader\n",
    "\n",
    "\n",
    "def encode(examples):\n",
    "    # same input and output\n",
    "    text = examples[\"goal\"] + \" Solution: \" + examples['sol1']\n",
    "    input = tokenizer(text, padding=\"max_length\")\n",
    "    return {'input_ids': input['input_ids'], 'input_att_mask': input['attention_mask'],\n",
    "            \"input_text\": text}\n",
    "\n",
    "\n",
    "dataset = load_dataset('piqa')['train']\n",
    "dataset_test = load_dataset('piqa')['validation']\n",
    "dataset = dataset.map(encode)\n",
    "dataset_test = dataset_test.map(encode)\n",
    "dataset.set_format(type=\"torch\", columns=[\"input_ids\", \"input_att_mask\", \"input_text\"])\n",
    "dataset_test.set_format(type=\"torch\",\n",
    "                        columns=[\"input_ids\", \"input_att_mask\", \"input_text\"])\n",
    "dataloader = DataLoader(dataset, batch_size=6)\n",
    "dataloader_test = DataLoader(dataset_test, batch_size=6)\n"
   ],
   "metadata": {
    "collapsed": false,
    "pycharm": {
     "name": "#%%\n"
    }
   }
  },
  {
   "cell_type": "markdown",
   "source": [
    "### 切分模型"
   ],
   "metadata": {
    "collapsed": false,
    "pycharm": {
     "name": "#%% md\n"
    }
   }
  },
  {
   "cell_type": "code",
   "execution_count": 4,
   "outputs": [
    {
     "name": "stdout",
     "output_type": "stream",
     "text": [
      "=================Split-gpt2=================\n",
      "==================Top Layers==================\n",
      "==================Trunk Layers==================\n",
      "\n",
      "transformer.h.2:[ln_1.weight: (768,), ln_1.bias: (768,), attn.c_attn.weight: (768, 2304), attn.c_attn.bias: (2304,), attn.c_proj.weight: (768, 768), attn.c_proj.bias: (768,), ln_2.weight: (768,), ln_2.bias: (768,), mlp.c_fc.weight: (768, 3072), mlp.c_fc.bias: (3072,), mlp.c_proj.weight: (3072, 768), mlp.c_proj.bias: (768,)]\n",
      "\n",
      "transformer.h.3:[ln_1.weight: (768,), ln_1.bias: (768,), attn.c_attn.weight: (768, 2304), attn.c_attn.bias: (2304,), attn.c_proj.weight: (768, 768), attn.c_proj.bias: (768,), ln_2.weight: (768,), ln_2.bias: (768,), mlp.c_fc.weight: (768, 3072), mlp.c_fc.bias: (3072,), mlp.c_proj.weight: (3072, 768), mlp.c_proj.bias: (768,)]\n",
      "\n",
      "transformer.h.4:[ln_1.weight: (768,), ln_1.bias: (768,), attn.c_attn.weight: (768, 2304), attn.c_attn.bias: (2304,), attn.c_proj.weight: (768, 768), attn.c_proj.bias: (768,), ln_2.weight: (768,), ln_2.bias: (768,), mlp.c_fc.weight: (768, 3072), mlp.c_fc.bias: (3072,), mlp.c_proj.weight: (3072, 768), mlp.c_proj.bias: (768,)]\n",
      "\n",
      "transformer.h.5:[ln_1.weight: (768,), ln_1.bias: (768,), attn.c_attn.weight: (768, 2304), attn.c_attn.bias: (2304,), attn.c_proj.weight: (768, 768), attn.c_proj.bias: (768,), ln_2.weight: (768,), ln_2.bias: (768,), mlp.c_fc.weight: (768, 3072), mlp.c_fc.bias: (3072,), mlp.c_proj.weight: (3072, 768), mlp.c_proj.bias: (768,)]\n",
      "\n",
      "transformer.h.6:[ln_1.weight: (768,), ln_1.bias: (768,), attn.c_attn.weight: (768, 2304), attn.c_attn.bias: (2304,), attn.c_proj.weight: (768, 768), attn.c_proj.bias: (768,), ln_2.weight: (768,), ln_2.bias: (768,), mlp.c_fc.weight: (768, 3072), mlp.c_fc.bias: (3072,), mlp.c_proj.weight: (3072, 768), mlp.c_proj.bias: (768,)]\n",
      "\n",
      "transformer.h.7:[ln_1.weight: (768,), ln_1.bias: (768,), attn.c_attn.weight: (768, 2304), attn.c_attn.bias: (2304,), attn.c_proj.weight: (768, 768), attn.c_proj.bias: (768,), ln_2.weight: (768,), ln_2.bias: (768,), mlp.c_fc.weight: (768, 3072), mlp.c_fc.bias: (3072,), mlp.c_proj.weight: (3072, 768), mlp.c_proj.bias: (768,)]\n",
      "\n",
      "transformer.h.8:[ln_1.weight: (768,), ln_1.bias: (768,), attn.c_attn.weight: (768, 2304), attn.c_attn.bias: (2304,), attn.c_proj.weight: (768, 768), attn.c_proj.bias: (768,), ln_2.weight: (768,), ln_2.bias: (768,), mlp.c_fc.weight: (768, 3072), mlp.c_fc.bias: (3072,), mlp.c_proj.weight: (3072, 768), mlp.c_proj.bias: (768,)]\n",
      "\n",
      "transformer.h.9:[ln_1.weight: (768,), ln_1.bias: (768,), attn.c_attn.weight: (768, 2304), attn.c_attn.bias: (2304,), attn.c_proj.weight: (768, 768), attn.c_proj.bias: (768,), ln_2.weight: (768,), ln_2.bias: (768,), mlp.c_fc.weight: (768, 3072), mlp.c_fc.bias: (3072,), mlp.c_proj.weight: (3072, 768), mlp.c_proj.bias: (768,)]\n",
      "\n",
      "transformer.h.10:[ln_1.weight: (768,), ln_1.bias: (768,), attn.c_attn.weight: (768, 2304), attn.c_attn.bias: (2304,), attn.c_proj.weight: (768, 768), attn.c_proj.bias: (768,), ln_2.weight: (768,), ln_2.bias: (768,), mlp.c_fc.weight: (768, 3072), mlp.c_fc.bias: (3072,), mlp.c_proj.weight: (3072, 768), mlp.c_proj.bias: (768,)]\n",
      "\n",
      "transformer.h.11:[ln_1.weight: (768,), ln_1.bias: (768,), attn.c_attn.weight: (768, 2304), attn.c_attn.bias: (2304,), attn.c_proj.weight: (768, 768), attn.c_proj.bias: (768,), ln_2.weight: (768,), ln_2.bias: (768,), mlp.c_fc.weight: (768, 3072), mlp.c_fc.bias: (3072,), mlp.c_proj.weight: (3072, 768), mlp.c_proj.bias: (768,)]\n",
      "==================Bottom Layers==================\n",
      "\n",
      "transformer.wte.weight:[: (50257, 768)]\n",
      "\n",
      "transformer.wpe.weight:[: (1024, 768)]\n",
      "\n",
      "transformer.h.0:[ln_1.weight: (768,), ln_1.bias: (768,), attn.c_attn.weight: (768, 2304), attn.c_attn.bias: (2304,), attn.c_proj.weight: (768, 768), attn.c_proj.bias: (768,), ln_2.weight: (768,), ln_2.bias: (768,), mlp.c_fc.weight: (768, 3072), mlp.c_fc.bias: (3072,), mlp.c_proj.weight: (3072, 768), mlp.c_proj.bias: (768,)]\n",
      "\n",
      "transformer.h.1:[ln_1.weight: (768,), ln_1.bias: (768,), attn.c_attn.weight: (768, 2304), attn.c_attn.bias: (2304,), attn.c_proj.weight: (768, 768), attn.c_proj.bias: (768,), ln_2.weight: (768,), ln_2.bias: (768,), mlp.c_fc.weight: (768, 3072), mlp.c_fc.bias: (3072,), mlp.c_proj.weight: (3072, 768), mlp.c_proj.bias: (768,)]\n",
      "=============================================\n"
     ]
    }
   ],
   "source": [
    "from sfl.utils import FLConfig\n",
    "model.config_sfl(FLConfig(collect_intermediates=False,\n",
    "                          split_point_1=2, # 第0～1层为top，余下的都是trunk\n",
    "                          split_point_2=999,\n",
    "                          attack_mode='b2tr' # 攻击的输出是bottom-to-trunk中间输出\n",
    "                          ),\n",
    "                 param_keeper=None)\n",
    "# model = model.convert_to_lora_model(restore_top_bottom=False)\n",
    "model.print_split_model()"
   ],
   "metadata": {
    "collapsed": false,
    "pycharm": {
     "name": "#%%\n"
    }
   }
  },
  {
   "cell_type": "markdown",
   "source": [
    "### 训练Attack Model"
   ],
   "metadata": {
    "collapsed": false,
    "pycharm": {
     "name": "#%% md\n"
    }
   }
  },
  {
   "cell_type": "code",
   "execution_count": 5,
   "outputs": [
    {
     "data": {
      "text/plain": "  0%|          | 0/307 [00:00<?, ?it/s]",
      "application/vnd.jupyter.widget-view+json": {
       "version_major": 2,
       "version_minor": 0,
       "model_id": "421f596d4a8b4560990f76be5f5acd9d"
      }
     },
     "metadata": {},
     "output_type": "display_data"
    },
    {
     "name": "stdout",
     "output_type": "stream",
     "text": [
      "Epoch 0 Test Rouge_1: 0.0005656062664345033, Rouge_2: 0.0, Rouge_l_f1: 0.0005656062664345033, Rouge_l_p: 0.0005113967402222057, Rouge_l_r: 0.0006574335193655146\n"
     ]
    },
    {
     "data": {
      "text/plain": "  0%|          | 0/13430 [00:00<?, ?it/s]",
      "application/vnd.jupyter.widget-view+json": {
       "version_major": 2,
       "version_minor": 0,
       "model_id": "6b69e5dcd012440c89acc2d18b6be977"
      }
     },
     "metadata": {},
     "output_type": "display_data"
    },
    {
     "name": "stdout",
     "output_type": "stream",
     "text": [
      "To mix food coloring with sugar, you can ==>  cascade Terror specimens 27 Phen� complicatedburse Hills\n",
      "To mix food coloring with sugar, you can ==> To make to with sugar, you can\n",
      "To mix food coloring with sugar, you can ==> To mix food chocolate with sugar, you can\n",
      "To mix food coloring with sugar, you can ==> To mix food strawberries with sugar, you can\n",
      "To mix food coloring with sugar, you can ==> To mix food colored with sugar, you can\n",
      "To mix food coloring with sugar, you can ==> To mix food coloring with sugar, you can\n",
      "To mix food coloring with sugar, you can ==> To mix food coloring with sugar, you can\n",
      "To mix food coloring with sugar, you can ==> To mix food coloring with sugar, you can\n",
      "To mix food coloring with sugar, you can ==> To mix food coloring with sugar, you can\n",
      "Epoch 0 Train Rouge_1: 0.7135317813090089, Rouge_2: 0.564463941092786, Rouge_l_f1: 0.7128963108290761, Rouge_l_p: 0.751064724160289, Rouge_l_r: 0.6911917301349627\n"
     ]
    },
    {
     "data": {
      "text/plain": "  0%|          | 0/307 [00:00<?, ?it/s]",
      "application/vnd.jupyter.widget-view+json": {
       "version_major": 2,
       "version_minor": 0,
       "model_id": "e8c3b0655d7e452f9aa36158ed76ed2b"
      }
     },
     "metadata": {},
     "output_type": "display_data"
    },
    {
     "name": "stdout",
     "output_type": "stream",
     "text": [
      "Epoch 0 Test Rouge_1: 0.89128810950682, Rouge_2: 0.8215624058684728, Rouge_l_f1: 0.89128810950682, Rouge_l_p: 0.8987313442367051, Rouge_l_r: 0.8850051251896641\n",
      "To mix food coloring with sugar, you can ==> To mix food coloring with sugar, you can\n",
      "To mix food coloring with sugar, you can ==> To mix food coloring with sugar, you can\n",
      "To mix food coloring with sugar, you can ==> To mix food coloring with sugar, you can\n",
      "To mix food coloring with sugar, you can ==> To mix food coloring with sugar, you can\n",
      "To mix food coloring with sugar, you can ==> To mix food coloring with sugar, you can\n",
      "To mix food coloring with sugar, you can ==> To mix food coloring with sugar, you can\n",
      "To mix food coloring with sugar, you can ==> To mix food coloring with sugar, you can\n",
      "To mix food coloring with sugar, you can ==> To mix food coloring with sugar, you can\n",
      "To mix food coloring with sugar, you can ==> To mix food coloring with sugar, you can\n",
      "Epoch 1 Train Rouge_1: 0.923251942383066, Rouge_2: 0.8773397527870844, Rouge_l_f1: 0.923235401683391, Rouge_l_p: 0.9285289632424962, Rouge_l_r: 0.9187216731484892\n"
     ]
    },
    {
     "data": {
      "text/plain": "  0%|          | 0/307 [00:00<?, ?it/s]",
      "application/vnd.jupyter.widget-view+json": {
       "version_major": 2,
       "version_minor": 0,
       "model_id": "a60b93d6477c414f93036a1a29779c80"
      }
     },
     "metadata": {},
     "output_type": "display_data"
    },
    {
     "name": "stdout",
     "output_type": "stream",
     "text": [
      "Epoch 1 Test Rouge_1: 0.9405589520003068, Rouge_2: 0.9083944691848803, Rouge_l_f1: 0.9405589520003068, Rouge_l_p: 0.9425595615744552, Rouge_l_r: 0.9389233865260691\n",
      "To mix food coloring with sugar, you can ==> To mix food coloring with sugar, you can\n",
      "To mix food coloring with sugar, you can ==> To mix food coloring with sugar, you can\n",
      "To mix food coloring with sugar, you can ==> To mix food coloring with sugar, you can\n",
      "To mix food coloring with sugar, you can ==> To mix food coloring with sugar, you can\n",
      "To mix food coloring with sugar, you can ==> To mix food coloring with sugar, you can\n",
      "To mix food coloring with sugar, you can ==> To mix food coloring with sugar, you can\n",
      "To mix food coloring with sugar, you can ==> To mix food coloring with sugar, you can\n",
      "To mix food coloring with sugar, you can ==> To mix food coloring with sugar, you can\n",
      "To mix food coloring with sugar, you can ==> To mix food coloring with sugar, you can\n",
      "Epoch 2 Train Rouge_1: 0.9558442387512857, Rouge_2: 0.9349592184360592, Rouge_l_f1: 0.955841035466992, Rouge_l_p: 0.9571380485229899, Rouge_l_r: 0.9547901120216763\n"
     ]
    },
    {
     "data": {
      "text/plain": "  0%|          | 0/307 [00:00<?, ?it/s]",
      "application/vnd.jupyter.widget-view+json": {
       "version_major": 2,
       "version_minor": 0,
       "model_id": "7de302c1487b4276868d1ebdc00cd0a6"
      }
     },
     "metadata": {},
     "output_type": "display_data"
    },
    {
     "name": "stdout",
     "output_type": "stream",
     "text": [
      "Epoch 2 Test Rouge_1: 0.9587963152035585, Rouge_2: 0.9381067865166043, Rouge_l_f1: 0.9587963152035585, Rouge_l_p: 0.9592904811347913, Rouge_l_r: 0.95842900225014\n",
      "To mix food coloring with sugar, you can ==> To mix food coloring with sugar, you can\n",
      "To mix food coloring with sugar, you can ==> To mix food coloring with sugar, you can\n",
      "To mix food coloring with sugar, you can ==> To mix food coloring with sugar, you can\n",
      "To mix food coloring with sugar, you can ==> To mix food coloring with sugar, you can\n",
      "To mix food coloring with sugar, you can ==> To mix food coloring with sugar, you can\n",
      "To mix food coloring with sugar, you can ==> To mix food coloring with sugar, you can\n",
      "To mix food coloring with sugar, you can ==> To mix food coloring with sugar, you can\n",
      "To mix food coloring with sugar, you can ==> To mix food coloring with sugar, you can\n",
      "To mix food coloring with sugar, you can ==> To mix food coloring with sugar, you can\n",
      "Epoch 3 Train Rouge_1: 0.970881934503611, Rouge_2: 0.9594765281340406, Rouge_l_f1: 0.9708816431884161, Rouge_l_p: 0.9711002367150957, Rouge_l_r: 0.9707646981716219\n"
     ]
    },
    {
     "data": {
      "text/plain": "  0%|          | 0/307 [00:00<?, ?it/s]",
      "application/vnd.jupyter.widget-view+json": {
       "version_major": 2,
       "version_minor": 0,
       "model_id": "f969f661b3484916a71f8608e4141342"
      }
     },
     "metadata": {},
     "output_type": "display_data"
    },
    {
     "name": "stdout",
     "output_type": "stream",
     "text": [
      "Epoch 3 Test Rouge_1: 0.9701689879818418, Rouge_2: 0.9563111526381544, Rouge_l_f1: 0.9701689879818418, Rouge_l_p: 0.9701351998161593, Rouge_l_r: 0.9702861188384831\n",
      "To mix food coloring with sugar, you can ==> To mix food coloring with sugar, you can\n",
      "To mix food coloring with sugar, you can ==> To mix food coloring with sugar, you can\n",
      "To mix food coloring with sugar, you can ==> To mix food coloring with sugar, you can\n",
      "To mix food coloring with sugar, you can ==> To mix food coloring with sugar, you can\n",
      "To mix food coloring with sugar, you can ==> To mix food coloring with sugar, you can\n",
      "To mix food coloring with sugar, you can ==> To mix food coloring with sugar, you can\n",
      "To mix food coloring with sugar, you can ==> To mix food coloring with sugar, you can\n",
      "To mix food coloring with sugar, you can ==> To mix food coloring with sugar, you can\n",
      "To mix food coloring with sugar, you can ==> To mix food coloring with sugar, you can\n",
      "Epoch 4 Train Rouge_1: 0.9812988252701662, Rouge_2: 0.975779196729261, Rouge_l_f1: 0.9812988252701662, Rouge_l_p: 0.9813390047146943, Rouge_l_r: 0.9812994954650388\n"
     ]
    },
    {
     "data": {
      "text/plain": "  0%|          | 0/307 [00:00<?, ?it/s]",
      "application/vnd.jupyter.widget-view+json": {
       "version_major": 2,
       "version_minor": 0,
       "model_id": "212740e064a142adbd396b64b72db63b"
      }
     },
     "metadata": {},
     "output_type": "display_data"
    },
    {
     "name": "stdout",
     "output_type": "stream",
     "text": [
      "Epoch 4 Test Rouge_1: 0.9752261900524914, Rouge_2: 0.9636549137798647, Rouge_l_f1: 0.9752261900524914, Rouge_l_p: 0.9751895319816546, Rouge_l_r: 0.9753267901510363\n"
     ]
    }
   ],
   "source": [
    "from torch.optim import Adam\n",
    "from sfl.model.attack_model import GPT2AttackModel\n",
    "from sfl.utils import get_best_gpu, calc_unshift_loss\n",
    "from tqdm.notebook import tqdm\n",
    "import torch\n",
    "\n",
    "\n",
    "def get_output(text, encoder_model, attack_model):\n",
    "    t = tokenizer(text, return_tensors=\"pt\")\n",
    "    inter = encoder_model(t['input_ids'].to(device), attention_mask=t['attention_mask'].to(device))\n",
    "    res = attack_model(inter)\n",
    "    r = tokenizer.decode(res.argmax(dim=-1)[-1], skip_special_tokens=True)\n",
    "    return r\n",
    "\n",
    "\n",
    "# 开始训练Attack Model\n",
    "device = get_best_gpu()\n",
    "attack_model = GPT2AttackModel(model.config)\n",
    "optimizer = Adam(attack_model.parameters(), lr=1e-3)\n",
    "model.to(device)\n",
    "attack_model.to(device)\n",
    "epoch = 5\n",
    "evaluate(0,model,attack_model,tokenizer,dataloader_test)\n",
    "with tqdm(total=epoch * len(dataloader)) as pbar:\n",
    "    for epc in range(epoch):\n",
    "        model.train(True)\n",
    "        rouge_1, rouge_2, rouge_l_f1, rouge_l_p, rouge_l_r = 0, 0, 0, 0, 0\n",
    "        for step, batch in enumerate(dataloader):\n",
    "            optimizer.zero_grad()\n",
    "            input_ids = batch['input_ids'].to(device)\n",
    "            attention_mask = batch['input_att_mask'].to(device)\n",
    "            intermediate = model(input_ids=input_ids, attention_mask=attention_mask)\n",
    "            logits = attack_model(intermediate)\n",
    "            loss = calc_unshift_loss(logits, input_ids)\n",
    "            loss.backward()\n",
    "            optimizer.step()\n",
    "            # 计算训练的ROGUE\n",
    "            res = calculate_rouge(tokenizer, logits, batch['input_text'])\n",
    "            rouge_1 += res['rouge-1']['f']\n",
    "            rouge_2 += res['rouge-2']['f']\n",
    "            rouge_l_f1 += res['rouge-l']['f']\n",
    "            rouge_l_p += res['rouge-l']['p']\n",
    "            rouge_l_r += res['rouge-l']['r']\n",
    "            pbar.set_description(f'Epoch {epc} Loss {loss.item():.5f}, Rouge_1 {rouge_1 / (step + 1):.4f}')\n",
    "            if step % 300 == 0:\n",
    "                q = \"To mix food coloring with sugar, you can\"\n",
    "                print(q, \"==>\", get_output(q, model, attack_model))\n",
    "            pbar.update(1)\n",
    "        rouge_1 /= len(dataloader)\n",
    "        rouge_2 /= len(dataloader)\n",
    "        rouge_l_f1 /= len(dataloader)\n",
    "        rouge_l_p /= len(dataloader)\n",
    "        rouge_l_r /= len(dataloader)\n",
    "        print(\n",
    "            f'Epoch {epc} Train Rouge_1: {rouge_1}, Rouge_2: {rouge_2}, Rouge_l_f1: {rouge_l_f1}, Rouge_l_p: {rouge_l_p}, Rouge_l_r: {rouge_l_r}')\n",
    "        # 计算测试集上的ROGUE\n",
    "        evaluate(epc, model, attack_model, tokenizer, dataloader_test)"
   ],
   "metadata": {
    "collapsed": false,
    "pycharm": {
     "name": "#%%\n"
    }
   }
  },
  {
   "cell_type": "markdown",
   "source": [],
   "metadata": {
    "collapsed": false,
    "pycharm": {
     "name": "#%% md\n"
    }
   }
  },
  {
   "cell_type": "markdown",
   "source": [],
   "metadata": {
    "collapsed": false,
    "pycharm": {
     "name": "#%% md\n"
    }
   }
  }
 ],
 "metadata": {
  "kernelspec": {
   "display_name": "Python 3",
   "language": "python",
   "name": "python3"
  },
  "language_info": {
   "codemirror_mode": {
    "name": "ipython",
    "version": 2
   },
   "file_extension": ".py",
   "mimetype": "text/x-python",
   "name": "python",
   "nbconvert_exporter": "python",
   "pygments_lexer": "ipython2",
   "version": "2.7.6"
  }
 },
 "nbformat": 4,
 "nbformat_minor": 0
}